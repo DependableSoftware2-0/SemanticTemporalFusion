{
 "cells": [
  {
   "cell_type": "code",
   "execution_count": 12,
   "id": "8a404190",
   "metadata": {},
   "outputs": [
    {
     "data": {
      "text/plain": [
       "Reusing TensorBoard on port 6008 (pid 65600), started 1 day, 2:22:14 ago. (Use '!kill 65600' to kill it.)"
      ]
     },
     "metadata": {},
     "output_type": "display_data"
    },
    {
     "data": {
      "text/html": [
       "\n",
       "      <iframe id=\"tensorboard-frame-9c34c20f1b3ff84a\" width=\"100%\" height=\"800\" frameborder=\"0\">\n",
       "      </iframe>\n",
       "      <script>\n",
       "        (function() {\n",
       "          const frame = document.getElementById(\"tensorboard-frame-9c34c20f1b3ff84a\");\n",
       "          const url = new URL(\"/\", window.location);\n",
       "          const port = 6008;\n",
       "          if (port) {\n",
       "            url.port = port;\n",
       "          }\n",
       "          frame.src = url;\n",
       "        })();\n",
       "      </script>\n",
       "    "
      ],
      "text/plain": [
       "<IPython.core.display.HTML object>"
      ]
     },
     "metadata": {},
     "output_type": "display_data"
    }
   ],
   "source": [
    "%reload_ext tensorboard\n",
    "%tensorboard --logdir=./lightning_logs\n",
    "#tensorboard --logdir=./../../multi-view-fusion-initial/lightning_logs/"
   ]
  },
  {
   "cell_type": "code",
   "execution_count": null,
   "id": "8118e1cc",
   "metadata": {},
   "outputs": [],
   "source": [
    "%tensorboard --logdir=../../"
   ]
  },
  {
   "cell_type": "code",
   "execution_count": 5,
   "id": "1eacab01",
   "metadata": {},
   "outputs": [
    {
     "name": "stdout",
     "output_type": "stream",
     "text": [
      "environment.yml       lightning_logs  __pycache__    uncertain_fusion.py\r\n",
      "epipolar_geometry.py  metrics.py      slurm_scripts  vkitti_dataloader.py\r\n",
      "evidence_loss.py      model.py\t      train.py\r\n"
     ]
    }
   ],
   "source": [
    "!ls ../../multi-view-fusion-initial/lightning_logs/"
   ]
  },
  {
   "cell_type": "code",
   "execution_count": null,
   "id": "b76095a8",
   "metadata": {},
   "outputs": [],
   "source": []
  }
 ],
 "metadata": {
  "kernelspec": {
   "display_name": "Python 3 (ipykernel)",
   "language": "python",
   "name": "python3"
  },
  "language_info": {
   "codemirror_mode": {
    "name": "ipython",
    "version": 3
   },
   "file_extension": ".py",
   "mimetype": "text/x-python",
   "name": "python",
   "nbconvert_exporter": "python",
   "pygments_lexer": "ipython3",
   "version": "3.10.4"
  }
 },
 "nbformat": 4,
 "nbformat_minor": 5
}
