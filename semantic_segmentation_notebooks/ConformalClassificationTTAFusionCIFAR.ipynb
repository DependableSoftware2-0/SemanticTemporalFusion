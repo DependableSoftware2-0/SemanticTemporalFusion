{
 "cells": [
  {
   "cell_type": "markdown",
   "id": "842411d8",
   "metadata": {},
   "source": [
    "## Conformal\n",
    "\n",
    "\n",
    "Conformal prediction outputs a set not a prediction "
   ]
  },
  {
   "cell_type": "code",
   "execution_count": null,
   "id": "17774d76",
   "metadata": {},
   "outputs": [],
   "source": []
  }
 ],
 "metadata": {
  "kernelspec": {
   "display_name": "Python 3 (ipykernel)",
   "language": "python",
   "name": "python3"
  },
  "language_info": {
   "codemirror_mode": {
    "name": "ipython",
    "version": 3
   },
   "file_extension": ".py",
   "mimetype": "text/x-python",
   "name": "python",
   "nbconvert_exporter": "python",
   "pygments_lexer": "ipython3",
   "version": "3.9.7"
  }
 },
 "nbformat": 4,
 "nbformat_minor": 5
}
