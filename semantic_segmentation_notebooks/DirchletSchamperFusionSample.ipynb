{
 "cells": [
  {
   "cell_type": "code",
   "execution_count": 12,
   "id": "b1a976db",
   "metadata": {},
   "outputs": [],
   "source": [
    "import numpy as np\n",
    "import scipy as sp"
   ]
  },
  {
   "cell_type": "markdown",
   "id": "c15df412",
   "metadata": {},
   "source": [
    "# From blog \n",
    "\n",
    "1. bennycheung.github.io "
   ]
  },
  {
   "cell_type": "code",
   "execution_count": 8,
   "id": "d9da75da",
   "metadata": {},
   "outputs": [
    {
     "name": "stdout",
     "output_type": "stream",
     "text": [
      "{'b', 'a', 'c'} {'b', 'a', 'c'}\n",
      "{'b', 'c', 'a'}\n",
      "{'a'} a a\n",
      "updating  a\n",
      "set() a b\n",
      "set() a c\n",
      "set() b a\n",
      "{'b'} b b\n",
      "updating  b\n",
      "set() b c\n",
      "set() c a\n",
      "set() c b\n",
      "{'c'} c c\n",
      "updating  c\n",
      "{'b': 0.11111111111111113, 'c': 0.3333333333333333, 'a': 0.5555555555555556}\n"
     ]
    }
   ],
   "source": [
    "\n",
    "# Do NOT use, just for illustration of the D-S combination rules implementation\n",
    "def DempsterRule(m1, m2):\n",
    "    ## extract the frame of discernment      \n",
    "    print (set(m1.keys()), set(m2.keys()))\n",
    "    sets=set(m1.keys()).union(set(m2.keys()))\n",
    "    print (sets)\n",
    "    result=dict.fromkeys(sets,0)\n",
    "    ## Combination process\n",
    "    for i in m1.keys():\n",
    "        for j in m2.keys():\n",
    "            print (set(str(i)).intersection(set(str(j))), i, j)\n",
    "            if set(str(i)).intersection(set(str(j))) == set(str(i)):\n",
    "                result[i]+=m1[i]*m2[j]\n",
    "                print (\"updating \", i)\n",
    "            elif set(str(i)).intersection(set(str(j))) == set(str(j)):\n",
    "                result[j]+=m1[i]*m2[j]\n",
    "                print (\"updating \", j)\n",
    "    ## normalize the results\n",
    "    f= sum(list(result.values()))\n",
    "    for i in result.keys():\n",
    "        result[i] /=f\n",
    "    return result\n",
    "\n",
    "m1 = {'a':0.4, 'b':0.2, 'c':0.4}\n",
    "m2 = {'a':0.5, 'b':0.2, 'c':0.3}\n",
    "print(DempsterRule(m1, m2))"
   ]
  },
  {
   "cell_type": "code",
   "execution_count": 15,
   "id": "4a244cd4",
   "metadata": {},
   "outputs": [
    {
     "name": "stdout",
     "output_type": "stream",
     "text": [
      "{'b', 'a', 'c'} {'b', 'a', 'c'}\n",
      "{'b', 'c', 'a'}\n",
      "{'a'} a a\n",
      "updating  a\n",
      "set() a b\n",
      "set() a c\n",
      "set() b a\n",
      "{'b'} b b\n",
      "updating  b\n",
      "set() b c\n",
      "set() c a\n",
      "set() c b\n",
      "{'c'} c c\n",
      "updating  c\n",
      "{'b': 0.06250000000000001, 'c': 0.1875, 'a': 0.3125}\n"
     ]
    }
   ],
   "source": [
    "\n",
    "# Do NOT use, just for illustration of the D-S combination rules implementation\n",
    "def DempsterRule(m1, m2):\n",
    "    ## extract the frame of discernment      \n",
    "    print (set(m1.keys()), set(m2.keys()))\n",
    "    sets=set(m1.keys()).union(set(m2.keys()))\n",
    "    print (sets)\n",
    "    result=dict.fromkeys(sets,0)\n",
    "    ## Combination process\n",
    "    for i in m1.keys():\n",
    "        for j in m2.keys():\n",
    "            print (set(str(i)).intersection(set(str(j))), i, j)\n",
    "            if set(str(i)).intersection(set(str(j))) == set(str(i)):\n",
    "                result[i]+=m1[i]*m2[j]\n",
    "                print (\"updating \", i)\n",
    "            elif set(str(i)).intersection(set(str(j))) == set(str(j)):\n",
    "                result[j]+=m1[i]*m2[j]\n",
    "                print (\"updating \", j)\n",
    "    ## normalize the results\n",
    "    f= sum(list(result.values()))\n",
    "    k = 1 - f\n",
    "    for i in result.keys():\n",
    "        result[i] /=k\n",
    "    return result\n",
    "\n",
    "m1 = {'a':0.4, 'b':0.2, 'c':0.4}\n",
    "m2 = {'a':0.5, 'b':0.2, 'c':0.3}\n",
    "print(DempsterRule(m1, m2))"
   ]
  },
  {
   "cell_type": "code",
   "execution_count": 14,
   "id": "67a2cf9c",
   "metadata": {},
   "outputs": [
    {
     "data": {
      "text/plain": [
       "array([0.55555556, 0.11111111, 0.33333333])"
      ]
     },
     "execution_count": 14,
     "metadata": {},
     "output_type": "execute_result"
    }
   ],
   "source": [
    "\n",
    "m1 = np.array([0.4, 0.2, 0.4])\n",
    "m2 = np.array([0.5, 0.2, 0.3])\n",
    "f = m1*m2\n",
    "f/np.sum(f)"
   ]
  },
  {
   "cell_type": "code",
   "execution_count": 2,
   "id": "0bc934c4",
   "metadata": {},
   "outputs": [],
   "source": [
    "prior = [0.8, 0.1, 0.1]\n"
   ]
  },
  {
   "cell_type": "code",
   "execution_count": 4,
   "id": "d6b980b4",
   "metadata": {},
   "outputs": [
    {
     "ename": "AttributeError",
     "evalue": "module 'scipy' has no attribute 'stats'",
     "output_type": "error",
     "traceback": [
      "\u001b[0;31m---------------------------------------------------------------------------\u001b[0m",
      "\u001b[0;31mAttributeError\u001b[0m                            Traceback (most recent call last)",
      "Input \u001b[0;32mIn [4]\u001b[0m, in \u001b[0;36m<cell line: 1>\u001b[0;34m()\u001b[0m\n\u001b[0;32m----> 1\u001b[0m \u001b[43msp\u001b[49m\u001b[38;5;241;43m.\u001b[39;49m\u001b[43mstats\u001b[49m\n",
      "\u001b[0;31mAttributeError\u001b[0m: module 'scipy' has no attribute 'stats'"
     ]
    }
   ],
   "source": [
    "sp.stats"
   ]
  },
  {
   "cell_type": "code",
   "execution_count": 7,
   "id": "409b9afe",
   "metadata": {},
   "outputs": [],
   "source": [
    "from scipy.stats import multinomial\n",
    "from scipy.stats import dirichlet"
   ]
  },
  {
   "cell_type": "code",
   "execution_count": null,
   "id": "1a58bf5c",
   "metadata": {},
   "outputs": [],
   "source": [
    "prior = dirichlet.pmf()"
   ]
  }
 ],
 "metadata": {
  "kernelspec": {
   "display_name": "Python 3 (ipykernel)",
   "language": "python",
   "name": "python3"
  },
  "language_info": {
   "codemirror_mode": {
    "name": "ipython",
    "version": 3
   },
   "file_extension": ".py",
   "mimetype": "text/x-python",
   "name": "python",
   "nbconvert_exporter": "python",
   "pygments_lexer": "ipython3",
   "version": "3.10.4"
  }
 },
 "nbformat": 4,
 "nbformat_minor": 5
}
