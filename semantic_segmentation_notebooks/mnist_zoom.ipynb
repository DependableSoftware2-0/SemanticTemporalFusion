{
 "cells": [
  {
   "cell_type": "code",
   "execution_count": 9,
   "id": "e5096fd6",
   "metadata": {},
   "outputs": [],
   "source": [
    "import os\n",
    "\n",
    "import pandas as pd\n",
    "import numpy as np\n",
    "import seaborn as sn\n",
    "import matplotlib.pyplot as plt\n",
    "\n",
    "import torch\n",
    "from torch.distributions.dirichlet import Dirichlet\n",
    "from torch.optim.lr_scheduler import CosineAnnealingWarmRestarts\n",
    "\n",
    "from torch.optim.lr_scheduler import StepLR\n",
    "\n",
    "from pytorch_lightning import LightningModule, Trainer\n",
    "from pytorch_lightning.callbacks.progress import TQDMProgressBar\n",
    "from pytorch_lightning.loggers import TensorBoardLogger,CSVLogger\n",
    "from torchmetrics import Accuracy\n",
    "from torchmetrics import ConfusionMatrix\n",
    "\n",
    "from sklearn.metrics import ConfusionMatrixDisplay\n",
    "\n",
    "from torch import nn\n",
    "from torch.nn import functional as F\n",
    "from torch.utils.data import DataLoader, random_split\n",
    "from torchvision import transforms\n",
    "from torchvision.datasets import MNIST\n",
    "from torchvision.models import resnet18\n",
    "\n",
    "import evidence_loss\n",
    "import uncertain_fusion\n",
    "\n",
    "import cv2\n",
    "from PIL import Image\n",
    "\n",
    "\n",
    "PATH_DATASETS = os.environ.get(\"PATH_DATASETS\", \".\")\n",
    "BATCH_SIZE = 256 if torch.cuda.is_available() else 64\n",
    "NUM_WORKERS = int(os.cpu_count()/2)\n",
    "LOGGER_NAME = 'ZOOM_MNIST'"
   ]
  },
  {
   "cell_type": "code",
   "execution_count": 10,
   "id": "15b2aef3",
   "metadata": {},
   "outputs": [
    {
     "data": {
      "text/plain": [
       "array([0.81175932, 0.18824068])"
      ]
     },
     "execution_count": 10,
     "metadata": {},
     "output_type": "execute_result"
    }
   ],
   "source": [
    "np.random.dirichlet([30,10])"
   ]
  },
  {
   "cell_type": "markdown",
   "id": "3b02bf8a",
   "metadata": {},
   "source": [
    "## ZOOM MNIST Dataloader "
   ]
  },
  {
   "cell_type": "code",
   "execution_count": 27,
   "id": "fc58da42",
   "metadata": {},
   "outputs": [],
   "source": [
    "\n",
    "class Zoom_MNIST(MNIST):\n",
    "    def __init__(self, root, train=True, transform=None, target_transform=None,\n",
    "                 download=False):\n",
    "        super(Zoom_MNIST, self).__init__(root,  train=train,\n",
    "                                         download=download,\n",
    "                                         transform=transform,\n",
    "                                    target_transform=target_transform)\n",
    "        self.zoom_images = 3\n",
    "    \n",
    "    @staticmethod\n",
    "    def create_zoom_images(img):\n",
    "        '''\n",
    "        returns list of images \n",
    "        '''\n",
    "        original_size = 28\n",
    "        \n",
    "        #Randomly select 3 image sizes by using dirichlet stick breaking\n",
    "        image_sizes = (np.random.dirichlet([30,10,10])*28).astype(int)\n",
    "        #image_sizes = (np.random.dirichlet([30,10])*28).astype(int)\n",
    "        size = 0\n",
    "        x = int(np.random.rand() * 28)\n",
    "        y = int(np.random.rand() * 28)\n",
    "        \n",
    "        output_images = []\n",
    "\n",
    "        for i, image_size in enumerate(image_sizes):\n",
    "            size +=image_size\n",
    "            if (x + size)>original_size:\n",
    "                x  = x - (x + size - original_size)\n",
    "            if (y + size)>original_size:\n",
    "                y = y - (y + size - original_size)\n",
    "            canvas = np.zeros((original_size, original_size), dtype=np.uint8)\n",
    "            small_img = cv2.resize(img.numpy().reshape(original_size,original_size, 1), (size,size))\n",
    "            canvas[ y:y+small_img.shape[0], x:x+small_img.shape[1]] = small_img\n",
    "            output_images.append(canvas.reshape(original_size,original_size))\n",
    "        return output_images\n",
    "    \n",
    "    def __getitem__(self, index):\n",
    "        \"\"\"\n",
    "        Args:\n",
    "            index (int): Index\n",
    "        Returns:\n",
    "            tuple: (image, target) where target is index of the target class.\n",
    "        \"\"\"\n",
    "        img, target = self.data[index], int(self.targets[index])\n",
    "\n",
    "        # doing this so that it is consistent with all other datasets\n",
    "        # to return a PIL Image\n",
    "        images = self.create_zoom_images(img)\n",
    "        \n",
    "        out_images=[]\n",
    "        for img in images:\n",
    "            pil_img = Image.fromarray(img, mode='L')\n",
    "\n",
    "            if self.transform is not None:\n",
    "                out_images.append(self.transform(img))\n",
    "\n",
    "        if self.target_transform is not None:\n",
    "            target = self.target_transform(target)\n",
    "            \n",
    "        \n",
    "        return out_images, target\n",
    "\n"
   ]
  },
  {
   "cell_type": "code",
   "execution_count": null,
   "id": "eed3df3e",
   "metadata": {},
   "outputs": [],
   "source": []
  },
  {
   "cell_type": "code",
   "execution_count": 28,
   "id": "0da66e7c",
   "metadata": {},
   "outputs": [],
   "source": [
    "transform = transforms.Compose(\n",
    "            [\n",
    "                transforms.ToTensor(),\n",
    "                transforms.Normalize((0.1307,), (0.3081,)),\n",
    "            ]\n",
    "        )\n",
    "zoom_mnist_dataset = Zoom_MNIST(root=\".\", train=False, transform=transform )\n",
    "images, label = zoom_mnist_dataset[0]\n",
    "dl = DataLoader(zoom_mnist_dataset, batch_size=5, num_workers=NUM_WORKERS)\n",
    "\n"
   ]
  },
  {
   "cell_type": "code",
   "execution_count": 29,
   "id": "bc07b916",
   "metadata": {},
   "outputs": [
    {
     "name": "stdout",
     "output_type": "stream",
     "text": [
      "torch.Size([1, 28, 28])\n",
      "tensor(2.8088) tensor(-0.4242)\n",
      "torch.Size([1, 28, 28])\n",
      "tensor(2.8088) tensor(-0.4242)\n",
      "torch.Size([1, 28, 28])\n",
      "tensor(2.8088) tensor(-0.4242)\n"
     ]
    },
    {
     "data": {
      "image/png": "[encoded data removed]",
      "text/plain": [
       "<Figure size 720x576 with 3 Axes>"
      ]
     },
     "metadata": {},
     "output_type": "display_data"
    }
   ],
   "source": [
    "plt.style.use('seaborn-white')\n",
    "plt.figure(figsize=(10, 8))\n",
    "for j, img in enumerate(images):\n",
    "    print (img.shape)\n",
    "    print (img.max(), img.min())\n",
    "    plt.subplot(1, 3, j+1)\n",
    "    plt.imshow(img.numpy().squeeze())  # convert CHW -> HWC\n",
    "    plt.axis(\"off\")"
   ]
  },
  {
   "cell_type": "code",
   "execution_count": 30,
   "id": "ef57ace4",
   "metadata": {},
   "outputs": [
    {
     "data": {
      "text/plain": [
       "tensor(-0.7983)"
      ]
     },
     "execution_count": 30,
     "metadata": {},
     "output_type": "execute_result"
    }
   ],
   "source": [
    "m = Dirichlet(torch.tensor([10, 10]))\n",
    "m.entropy()"
   ]
  },
  {
   "cell_type": "code",
   "execution_count": 15,
   "id": "3bab35db",
   "metadata": {
    "scrolled": true
   },
   "outputs": [
    {
     "name": "stdout",
     "output_type": "stream",
     "text": [
      "tensor(2.8088) tensor(-0.4242)\n",
      "tensor(2.8088) tensor(-0.4242)\n",
      "tensor(2.7960) tensor(-0.4242)\n",
      "tensor(2.8215) tensor(-0.4242)\n",
      "tensor(2.7706) tensor(-0.4242)\n",
      "tensor(2.7451) tensor(-0.4242)\n",
      "tensor(2.8088) tensor(-0.4242)\n",
      "tensor(2.7960) tensor(-0.4242)\n",
      "tensor(2.7960) tensor(-0.4242)\n",
      "tensor(2.7960) tensor(-0.4242)\n"
     ]
    },
    {
     "data": {
      "image/png": "[encoded data removed]",
      "text/plain": [
       "<Figure size 720x576 with 2 Axes>"
      ]
     },
     "metadata": {},
     "output_type": "display_data"
    },
    {
     "data": {
      "image/png": "[encoded data removed]",
      "text/plain": [
       "<Figure size 720x576 with 2 Axes>"
      ]
     },
     "metadata": {},
     "output_type": "display_data"
    },
    {
     "data": {
      "image/png": "[encoded data removed]",
      "text/plain": [
       "<Figure size 720x576 with 2 Axes>"
      ]
     },
     "metadata": {},
     "output_type": "display_data"
    },
    {
     "data": {
      "image/png": "[encoded data removed]",
      "text/plain": [
       "<Figure size 720x576 with 2 Axes>"
      ]
     },
     "metadata": {},
     "output_type": "display_data"
    },
    {
     "data": {
      "image/png": "[encoded data removed]",
      "text/plain": [
       "<Figure size 720x576 with 2 Axes>"
      ]
     },
     "metadata": {},
     "output_type": "display_data"
    }
   ],
   "source": [
    "num_classes = 10\n",
    "batch_images, labels = next(iter(dl))\n",
    "\n",
    "for i, lable in enumerate(labels):\n",
    "    plt.figure(figsize=(10, 8))\n",
    "    for j, images in enumerate( batch_images):\n",
    "        #logits = self(images)\n",
    "        #alpha = F.relu(logits) + 1\n",
    "        #preds = torch.argmax(alpha, dim=1)\n",
    "        #uncertainty = num_classes / alpha.sum(dim=1)\n",
    "        #drichlet_uncertainty = Dirichlet(alpha)\n",
    "        plt.subplot(1, len(batch_images), j+1)\n",
    "        print (images[i].max(), images[i].min())\n",
    "        plt.imshow(images[i].numpy().squeeze(), vmin=0, vmax=1)  # convert CHW -> HWC\n",
    "        plt.title(lable.item())\n",
    "        plt.axis(\"off\")"
   ]
  },
  {
   "cell_type": "markdown",
   "id": "c7a744c3",
   "metadata": {},
   "source": [
    "## MNIST Module"
   ]
  },
  {
   "cell_type": "code",
   "execution_count": 36,
   "id": "72eabd90",
   "metadata": {},
   "outputs": [],
   "source": [
    "class LitMNIST(LightningModule):\n",
    "    def __init__(self, data_dir=PATH_DATASETS, hidden_size=64, learning_rate=2e-4):\n",
    "\n",
    "        super().__init__()\n",
    "\n",
    "        # Set our init args as class attributes\n",
    "        self.data_dir = data_dir\n",
    "        self.hidden_size = hidden_size\n",
    "        self.learning_rate = learning_rate\n",
    "        \n",
    "        self.loss = evidence_loss.edl_mse_loss\n",
    "\n",
    "        # Hardcode some dataset specific attributes\n",
    "        self.num_classes = 10\n",
    "        self.dims = (1, 28, 28)\n",
    "        channels, width, height = self.dims\n",
    "        self.transform = transforms.Compose(\n",
    "            [\n",
    "                transforms.RandomAffine(degrees=0,translate=(0.2,0.2),scale=(0.5,1.2)),\n",
    "                transforms.ToTensor(),\n",
    "                transforms.Normalize((0.1307,), (0.3081,)),\n",
    "            ]\n",
    "        )\n",
    "        self.val_transform = transforms.Compose(\n",
    "            [\n",
    "                transforms.ToTensor(),\n",
    "                transforms.Normalize((0.1307,), (0.3081,)),\n",
    "            ]\n",
    "        )\n",
    "\n",
    "        # Define PyTorch model\n",
    "        self.model = nn.Sequential(\n",
    "            nn.Flatten(),\n",
    "            nn.Linear(channels * width * height, hidden_size),\n",
    "            nn.ReLU(),\n",
    "            nn.Dropout(0.1),\n",
    "            nn.Linear(hidden_size, hidden_size),\n",
    "            nn.ReLU(),\n",
    "            nn.Dropout(0.1),\n",
    "            nn.Linear(hidden_size, self.num_classes),\n",
    "        )\n",
    "        self.model = resnet18(num_classes=10)\n",
    "        # Have ResNet model take in grayscale rather than RGB\n",
    "        self.model.conv1 = torch.nn.Conv2d(1, 64, kernel_size=7, stride=2, padding=3, bias=False)\n",
    "\n",
    "        self.val_accuracy = Accuracy()\n",
    "        self.test_0_accuracy = Accuracy()\n",
    "        self.test_1_accuracy = Accuracy()\n",
    "        self.test_2_accuracy = Accuracy()\n",
    "        self.test_accuracy = [self.test_0_accuracy,\n",
    "                             self.test_1_accuracy,\n",
    "                             self.test_2_accuracy]\n",
    "        \n",
    "        self.train_cm = ConfusionMatrix(num_classes=self.num_classes, normalize='true')\n",
    "        self.valid_cm = ConfusionMatrix(num_classes=self.num_classes, normalize='true')\n",
    "        \n",
    "        self.DS_combine = uncertain_fusion.DempsterSchaferCombine(self.num_classes)\n",
    "        self.mean_combine = uncertain_fusion.MeanUncertainty(self.num_classes)\n",
    "        self.sum_combine = uncertain_fusion.SumUncertainty(self.num_classes)\n",
    "        self.bayesian = uncertain_fusion.EffectiveProbability(confusion_matrix = np.ones((self.num_classes, \n",
    "                                                                                          self.num_classes)))\n",
    "        self.dampster = uncertain_fusion.EffectiveProbability(confusion_matrix = np.ones((self.num_classes, \n",
    "                                                                                          self.num_classes)),\n",
    "                                                                 fusion_type='dampster')\n",
    "        self.conv_1d = torch.nn.Sequential(\n",
    "                          torch.nn.Conv2d(in_channels=2*self.num_classes, \n",
    "                                       out_channels=self.num_classes, \n",
    "                                       kernel_size=1, \n",
    "                                       device=self.device),\n",
    "                        )\n",
    "        \n",
    "        \n",
    "        self.DS_combine_accuracy = Accuracy()\n",
    "        self.mean_combine_accuracy = Accuracy()\n",
    "        self.sum_combine_accuracy = Accuracy()\n",
    "        self.bayes_combine_accuracy = Accuracy()\n",
    "        self.dampster_combine_accuracy = Accuracy()\n",
    "                                                                         \n",
    "        \n",
    "        self.fusion_methods = [self.DS_combine, \n",
    "                               self.mean_combine, \n",
    "                               self.sum_combine,\n",
    "                               self.bayesian ,\n",
    "                                self.dampster]\n",
    "        self.fusion_names = ['DS_combine', 'mean', 'sum', 'bayes', 'dampster']\n",
    "        self.combine_accuracy = [self.DS_combine_accuracy, \n",
    "                                 self.mean_combine_accuracy, \n",
    "                                 self.sum_combine_accuracy, \n",
    "                                 self.bayes_combine_accuracy,\n",
    "                                 self.dampster_combine_accuracy\n",
    "                                 ]\n",
    "        \n",
    "      \n",
    "    def forward(self, x):\n",
    "        x = self.model(x)\n",
    "        return x\n",
    "        #return F.log_softmax(x, dim=1)\n",
    "\n",
    "    def training_step(self, batch, batch_idx):\n",
    "        x, y = batch\n",
    "        logits = self(x)\n",
    "        #nllloss = F.nll_loss(F.log_softmax(logits, dim=1), y)\n",
    "        y = F.one_hot(y.to(torch.long), self.num_classes)\n",
    "        loss = evidence_loss.edl_mse_loss(logits, y, self.current_epoch, self.num_classes, 1)\n",
    "        \n",
    "        return loss\n",
    "\n",
    "    def validation_step(self, batch, batch_idx):\n",
    "        x, y = batch\n",
    "        logits = self(x)\n",
    "        y = F.one_hot(y.to(torch.long), self.num_classes)\n",
    "        loss = evidence_loss.edl_mse_loss(logits, y, self.current_epoch, self.num_classes, 1)\n",
    "        #loss = F.nll_loss(logits, y)\n",
    "        alpha = F.relu(logits) + 1\n",
    "        preds = torch.argmax(alpha, dim=1)\n",
    "        self.val_accuracy.update(preds, y.argmax(dim=1))\n",
    "        \n",
    "        self.train_cm(preds, y.argmax(dim=1))\n",
    "\n",
    "        # Calling self.log will surface up scalars for you in TensorBoard\n",
    "        self.log(\"val/loss\", loss, prog_bar=True)\n",
    "        \n",
    "        #self.logger.experiment.add_scalars('Accuracy', {'val': self.val_accuracy.compute()},self.global_step)\n",
    "        self.log(\"val/accuracy\", self.val_accuracy, prog_bar=True)\n",
    "        \n",
    "\n",
    "\n",
    "    def validation_epoch_end(self, outputs):\n",
    "        # turn confusion matrix into a figure (Tensor cannot be logged as a scalar)\n",
    "        fig, ax = plt.subplots(figsize=(20,20))\n",
    "        disp = ConfusionMatrixDisplay(confusion_matrix=self.train_cm.compute().cpu().numpy())\n",
    "        disp.plot(ax=ax)\n",
    "        # log figure\n",
    "        self.logger.experiment.add_figure('val/epoch_confmat', fig, global_step=self.global_step)\n",
    "        \n",
    "        self.train_cm_numpy =  self.train_cm.compute().cpu().numpy()\n",
    "    \n",
    "        self.train_cm.reset()\n",
    "        self.bayesian = uncertain_fusion.EffectiveProbability(confusion_matrix = self.train_cm_numpy)\n",
    "        self.dampster = uncertain_fusion.EffectiveProbability(confusion_matrix = self.train_cm_numpy,\n",
    "                                                                 fusion_type='dampster')\n",
    "        #self.dampster = uncertain_fusion.EffectiveProbability(confusion_matrix = cm, fusion_type='dampster')\n",
    "\n",
    "\n",
    "    def test_step(self, batch, batch_idx):\n",
    "        list_images, labels = batch\n",
    "        labels = F.one_hot(labels.to(torch.long), self.num_classes)\n",
    "        \n",
    "        prev_alpha = None\n",
    "        zoom_images = 3\n",
    "        threshold = 0.2\n",
    "        if batch_idx  % 10== 0:\n",
    "            fig = plt.figure(figsize=[6, 5])\n",
    "            fig, axs = plt.subplots(5, gridspec_kw={\"height_ratios\": [5, 1, 1, 10, 10]})\n",
    "            rimgs = np.zeros((28, 28 * zoom_images))\n",
    "            scores = np.zeros((1, num_classes))\n",
    "            fusion_scores = np.zeros((1, num_classes))\n",
    "            classifications = []\n",
    "            fusion_output = []\n",
    "            lu = []\n",
    "            fusion_lu = []\n",
    "            lp = []\n",
    "            fusion_lp = []\n",
    "            ldeg = []\n",
    "            \n",
    "        for j, batch_images in enumerate( list_images):\n",
    "            logits = self(batch_images)\n",
    "            loss = evidence_loss.edl_mse_loss(logits, labels, self.current_epoch, self.num_classes, 5)\n",
    "            #loss = F.nll_loss(logits, labels)\n",
    "            alpha = F.relu(logits) + 1\n",
    "            preds = torch.argmax(alpha, dim=1)\n",
    "            self.test_accuracy[j].update(preds, labels.argmax(dim=1))\n",
    "            uncertainty = num_classes / torch.sum(alpha, dim=1, keepdim=True)\n",
    "            probs = alpha /  torch.sum(alpha, dim=1, keepdim=True)\n",
    "            if batch_idx  % 10 == 0:\n",
    "                rimgs[:, j*28:(j+1)*28] = batch_images[0].detach().cpu().numpy().reshape(28,28)\n",
    "                classifications.append(preds[0].item())\n",
    "                scores += probs[0].detach().cpu().numpy() >= threshold\n",
    "                lu.append(uncertainty[0].item())\n",
    "                ldeg.append(j)\n",
    "                lp.append(probs[0].tolist())\n",
    "            \n",
    "            #self.logger.experiment.add_scalars('Accuracy',\n",
    "            #                                   {'fusion/'+str(j): self.test_accuracy[j].compute()},\n",
    "            #                                   self.global_step) \n",
    "            self.log(\"val/fusion/accuracy/\"+str(j), self.test_accuracy[j], prog_bar=True)\n",
    "            \n",
    "            if prev_alpha is not None:\n",
    "                for fuse, name, fuse_acc in zip(self.fusion_methods, \n",
    "                                                  self.fusion_names, \n",
    "                                                  self.combine_accuracy):\n",
    "                    \n",
    "                    fused_alpha = fuse(prev_alpha[name].to(self.device).to(torch.float), alpha)\n",
    "                    fused_alpha = F.relu(fused_alpha) + 1\n",
    "                    preds = torch.argmax(fused_alpha, dim=1)\n",
    "                    uncertainty = self.num_classes / torch.sum(fused_alpha, dim=1, keepdim=True)\n",
    "                    probs = fused_alpha /  torch.sum(fused_alpha, dim=1, keepdim=True)\n",
    "                    fuse_acc.update(preds.to('cpu'), labels.argmax(dim=1).to('cpu'))\n",
    "                    \n",
    "                    self.log(\"val/fusion/accuracy/\"+name, fuse_acc, prog_bar=True)\n",
    "            \n",
    "                    prev_alpha[name] = fused_alpha\n",
    "                if batch_idx  % 10== 0:\n",
    "                    fusion_output.append(preds[0].item())\n",
    "                    fusion_scores += probs[0].detach().cpu().numpy() >= threshold\n",
    "                    print (uncertainty[0].item(), fused_alpha[0], )\n",
    "                    fusion_lu.append(uncertainty[0].item())\n",
    "                    fusion_lp.append(probs[0].tolist())\n",
    "                   \n",
    "            else:\n",
    "                prev_alpha={}\n",
    "                for name in self.fusion_names:\n",
    "                    prev_alpha[name] = alpha\n",
    "                    \n",
    "                if batch_idx % 10 == 0:\n",
    "                    fusion_output.append(\"-\")\n",
    "                    fusion_scores += probs[0].detach().cpu().numpy() >= threshold\n",
    "                    #fusion_scores += np.zeros((1, num_classes)) >= threshold\n",
    "                    fusion_lu.append(uncertainty[0].item())\n",
    "                    fusion_lp.append(probs[0].tolist())\n",
    "                   \n",
    "                    \n",
    "        if batch_idx % 10 == 0:\n",
    "            #logits = self(images)\n",
    "            #alpha = F.relu(logits) + 1\n",
    "            #preds = torch.argmax(alpha, dim=1)\n",
    "            #uncertainty = num_classes / alpha.sum(dim=1)\n",
    "            #drichlet_uncertainty = Dirichlet(alpha)\n",
    "            #plt.subplot(1, len(list_images), j+1)\n",
    "            axs[0].imshow(rimgs, vmin=0, vmax=1)  # convert CHW -> HWC\n",
    "            plt.title(labels[0].argmax().to('cpu').item())\n",
    "            axs[0].axis(\"off\")\n",
    "            \n",
    "            empty_lst = []\n",
    "            empty_lst.append(classifications)\n",
    "            axs[1].table(cellText=empty_lst, bbox=[0, 1, 1, 1])\n",
    "            axs[1].axis(\"off\")\n",
    "            \n",
    "            empty_lst = []\n",
    "            empty_lst.append(fusion_output)\n",
    "            axs[2].table(cellText=empty_lst, bbox=[0, 1, 1, 1])\n",
    "            axs[2].axis(\"off\")\n",
    "            \n",
    "            axs[3].plot(ldeg, lu, marker=\"<\", c=\"black\")\n",
    "            \n",
    "            labels = np.arange(10)[scores[0].astype(bool)]\n",
    "            lp = np.array(lp)[:, labels]\n",
    "            c = [\"blue\", \"red\", \"brown\", \"purple\", \"cyan\"]\n",
    "            marker = [\"s\", \"^\", \"o\"]*2\n",
    "            labels = labels.tolist()\n",
    "            for i in range(len(labels)):\n",
    "                print (\"plot  lp \", lp[:, i])\n",
    "                axs[3].plot(ldeg, lp[:, i], marker=marker[i], c=c[i])\n",
    "            axs[3].set_ylim([0, 1])\n",
    "            axs[3].legend(labels)\n",
    "                \n",
    "            fusion_labels = np.arange(10)[fusion_scores[0].astype(bool)]\n",
    "            fusion_lp = np.array(fusion_lp)[:, fusion_labels]\n",
    "            c = [\"blue\", \"red\", \"brown\", \"purple\", \"cyan\"]\n",
    "            marker = [\"s\", \"^\", \"o\"]*2\n",
    "            fusion_labels = fusion_labels.tolist()\n",
    "            print (\"fusion_labels \", fusion_labels)\n",
    "            for i in range(len(fusion_labels)):\n",
    "                print (\"plot fusion lp \", fusion_lp[:, i])\n",
    "                axs[4].plot(ldeg, fusion_lp[:, i], marker=marker[i], c=c[i])\n",
    "            axs[4].plot(ldeg, fusion_lu, marker=\"<\", c=\"black\")\n",
    "            \n",
    "            axs[4].set_ylim([0, 1])\n",
    "            axs[4].legend(labels)\n",
    "            axs[4].set_xlim([0, 1])        \n",
    "            \n",
    "            \n",
    "            # log figure\n",
    "            self.logger.experiment.add_figure('sample', fig, global_step=self.global_step)\n",
    "\n",
    "            \n",
    "\n",
    "        # Calling self.log will surface up scalars for you in TensorBoard\n",
    "        self.log(\"test/loss\", loss, prog_bar=True)\n",
    "        \n",
    "    def configure_optimizers(self):\n",
    "        optimizer=torch.optim.AdamW(self.parameters(), lr=0.001, weight_decay=1e-5)\n",
    "        #scheduler = CosineAnnealingWarmRestarts(optimizer,T_0=10, T_mult=1, eta_min=1e-4, last_epoch=-1)\n",
    "        #scheduler = CosineAnnealingWarmRestarts(optimizer,T_0=10, T_mult=2, eta_min=1e-4, last_epoch=-1)\n",
    "        scheduler = StepLR(optimizer, step_size=5, gamma=0.1)\n",
    "        \n",
    "          \n",
    "        return {'optimizer': optimizer,'lr_scheduler':scheduler}\n",
    "        #return torch.optim.Adam(self.parameters(), lr=self.lr)\n",
    "\n",
    "    ####################\n",
    "    # DATA RELATED HOOKS\n",
    "    ####################\n",
    "\n",
    "    def prepare_data(self):\n",
    "        # download\n",
    "        MNIST(self.data_dir, train=True, download=True)\n",
    "        MNIST(self.data_dir, train=False, download=True)\n",
    "        Zoom_MNIST(self.data_dir, train=False, download=True)\n",
    "        \n",
    "\n",
    "    def setup(self, stage=None):\n",
    "\n",
    "        # Assign train/val datasets for use in dataloaders\n",
    "        if stage == \"fit\" or stage is None:\n",
    "            mnist_full = MNIST(self.data_dir, train=True, transform=self.transform)\n",
    "            self.mnist_train, self.mnist_val = random_split(mnist_full, [55000, 5000])\n",
    "\n",
    "        # Assign test dataset for use in dataloader(s)\n",
    "        if stage == \"test\" or stage is None:\n",
    "            #self.mnist_test = MNIST(self.data_dir, train=False, transform=self.transform)\n",
    "            self.mnist_zoom = Zoom_MNIST(self.data_dir, train=False, transform=self.val_transform)\n",
    "\n",
    "    def train_dataloader(self):\n",
    "        return DataLoader(self.mnist_train, batch_size=BATCH_SIZE, num_workers=NUM_WORKERS)\n",
    "\n",
    "    def val_dataloader(self):\n",
    "        return DataLoader(self.mnist_val, batch_size=BATCH_SIZE, num_workers=NUM_WORKERS)\n",
    "\n",
    "    def test_dataloader(self):\n",
    "        return DataLoader(self.mnist_zoom, batch_size=BATCH_SIZE, num_workers=NUM_WORKERS)"
   ]
  },
  {
   "cell_type": "code",
   "execution_count": 37,
   "id": "1e5179f5",
   "metadata": {},
   "outputs": [
    {
     "name": "stdout",
     "output_type": "stream",
     "text": [
      "Initialized fusion type :  bayes\n",
      "Initialized fusion type :  dampster\n"
     ]
    }
   ],
   "source": [
    "model = LitMNIST()\n"
   ]
  },
  {
   "cell_type": "code",
   "execution_count": 38,
   "id": "d9d9c586",
   "metadata": {},
   "outputs": [
    {
     "name": "stderr",
     "output_type": "stream",
     "text": [
      "GPU available: True, used: True\n",
      "TPU available: False, using: 0 TPU cores\n",
      "IPU available: False, using: 0 IPUs\n",
      "HPU available: False, using: 0 HPUs\n",
      "LOCAL_RANK: 0 - CUDA_VISIBLE_DEVICES: [0]\n",
      "\n",
      "   | Name                      | Type                   | Params\n",
      "----------------------------------------------------------------------\n",
      "0  | model                     | ResNet                 | 11.2 M\n",
      "1  | val_accuracy              | Accuracy               | 0     \n",
      "2  | test_0_accuracy           | Accuracy               | 0     \n",
      "3  | test_1_accuracy           | Accuracy               | 0     \n",
      "4  | test_2_accuracy           | Accuracy               | 0     \n",
      "5  | train_cm                  | ConfusionMatrix        | 0     \n",
      "6  | valid_cm                  | ConfusionMatrix        | 0     \n",
      "7  | DS_combine                | DempsterSchaferCombine | 0     \n",
      "8  | mean_combine              | MeanUncertainty        | 0     \n",
      "9  | sum_combine               | SumUncertainty         | 0     \n",
      "10 | bayesian                  | EffectiveProbability   | 0     \n",
      "11 | dampster                  | EffectiveProbability   | 0     \n",
      "12 | conv_1d                   | Sequential             | 210   \n",
      "13 | DS_combine_accuracy       | Accuracy               | 0     \n",
      "14 | mean_combine_accuracy     | Accuracy               | 0     \n",
      "15 | sum_combine_accuracy      | Accuracy               | 0     \n",
      "16 | bayes_combine_accuracy    | Accuracy               | 0     \n",
      "17 | dampster_combine_accuracy | Accuracy               | 0     \n",
      "----------------------------------------------------------------------\n",
      "11.2 M    Trainable params\n",
      "0         Non-trainable params\n",
      "11.2 M    Total params\n",
      "44.702    Total estimated model params size (MB)\n"
     ]
    },
    {
     "data": {
      "application/vnd.jupyter.widget-view+json": {
       "model_id": "",
       "version_major": 2,
       "version_minor": 0
      },
      "text/plain": [
       "Sanity Checking: 0it [00:00, ?it/s]"
      ]
     },
     "metadata": {},
     "output_type": "display_data"
    },
    {
     "name": "stdout",
     "output_type": "stream",
     "text": [
      "Initialized fusion type :  bayes\n",
      "Initialized fusion type :  dampster\n"
     ]
    },
    {
     "data": {
      "application/vnd.jupyter.widget-view+json": {
       "model_id": "a9f2989938194fb599181943949cd4e1",
       "version_major": 2,
       "version_minor": 0
      },
      "text/plain": [
       "Training: 0it [00:00, ?it/s]"
      ]
     },
     "metadata": {},
     "output_type": "display_data"
    },
    {
     "data": {
      "application/vnd.jupyter.widget-view+json": {
       "model_id": "",
       "version_major": 2,
       "version_minor": 0
      },
      "text/plain": [
       "Validation: 0it [00:00, ?it/s]"
      ]
     },
     "metadata": {},
     "output_type": "display_data"
    },
    {
     "name": "stdout",
     "output_type": "stream",
     "text": [
      "Initialized fusion type :  bayes\n",
      "Initialized fusion type :  dampster\n"
     ]
    }
   ],
   "source": [
    "logger = TensorBoardLogger('./lightning_logs/', name=LOGGER_NAME)\n",
    "trainer = Trainer(\n",
    "    accelerator=\"auto\",\n",
    "    devices=1 if torch.cuda.is_available() else None,  # limiting got iPython runs\n",
    "    max_epochs=2,\n",
    "    callbacks=[TQDMProgressBar(refresh_rate=20)],\n",
    "    #logger=CSVLogger(save_dir=\"logs/\"),\n",
    "    check_val_every_n_epoch=2,\n",
    "    logger=logger\n",
    ")\n",
    "trainer.fit(model)"
   ]
  },
  {
   "cell_type": "code",
   "execution_count": 39,
   "id": "4f126467",
   "metadata": {},
   "outputs": [],
   "source": [
    "torch.save(model.model, 'zoom_mnist.pt')"
   ]
  },
  {
   "cell_type": "code",
   "execution_count": 40,
   "id": "381a8f8e",
   "metadata": {},
   "outputs": [
    {
     "name": "stderr",
     "output_type": "stream",
     "text": [
      "LOCAL_RANK: 0 - CUDA_VISIBLE_DEVICES: [0]\n"
     ]
    },
    {
     "data": {
      "application/vnd.jupyter.widget-view+json": {
       "model_id": "c1fd9e47a9b9454ead019b2b3ceb336b",
       "version_major": 2,
       "version_minor": 0
      },
      "text/plain": [
       "Testing: 0it [00:00, ?it/s]"
      ]
     },
     "metadata": {},
     "output_type": "display_data"
    },
    {
     "name": "stdout",
     "output_type": "stream",
     "text": [
      "0.90909091032241 tensor([1.1000, 1.1000, 1.1000, 1.1000, 1.1000, 1.1000, 1.1000, 1.1000, 1.1000,\n",
      "        1.1000], dtype=torch.float64)\n",
      "0.9090909106302852 tensor([1.1000, 1.1000, 1.1000, 1.1000, 1.1000, 1.1000, 1.1000, 1.1000, 1.1000,\n",
      "        1.1000], dtype=torch.float64)\n",
      "plot  lp  [0.1        0.81637877 0.82229763]\n",
      "fusion_labels  []\n",
      "0.9090909135551 tensor([1.0288, 1.0288, 1.0288, 1.7409, 1.0288, 1.0288, 1.0288, 1.0288, 1.0288,\n",
      "        1.0288], dtype=torch.float64)\n",
      "0.909090906320032 tensor([1.0935, 1.0935, 1.0935, 1.1583, 1.0935, 1.0935, 1.0935, 1.0935, 1.0935,\n",
      "        1.0935], dtype=torch.float64)\n",
      "plot  lp  [0.74091858 0.74678743 0.62718743]\n",
      "fusion_labels  [3]\n",
      "plot fusion lp  [0.74091858 0.15826532 0.10529685]\n",
      "0.9090909081672833 tensor([1.1000, 1.1000, 1.1000, 1.1000, 1.1000, 1.1000, 1.1000, 1.1000, 1.1000,\n",
      "        1.1000], dtype=torch.float64)\n",
      "0.909090907551533 tensor([1.1000, 1.1000, 1.1000, 1.1000, 1.1000, 1.1000, 1.1000, 1.1000, 1.1000,\n",
      "        1.1000], dtype=torch.float64)\n",
      "plot  lp  [0.1        0.79953778 0.77896839]\n",
      "fusion_labels  []\n",
      "0.9090909090909092 tensor([1.1000, 1.1000, 1.1000, 1.1000, 1.1000, 1.1000, 1.1000, 1.1000, 1.1000,\n",
      "        1.1000], dtype=torch.float64)\n",
      "0.909090906320032 tensor([1.1000, 1.1000, 1.1000, 1.1000, 1.1000, 1.1000, 1.1000, 1.1000, 1.1000,\n",
      "        1.1000], dtype=torch.float64)\n",
      "plot  lp  [0.1        0.59245443 0.79329664]\n",
      "fusion_labels  []\n"
     ]
    },
    {
     "data": {
      "text/html": [
       "<pre style=\"white-space:pre;overflow-x:auto;line-height:normal;font-family:Menlo,'DejaVu Sans Mono',consolas,'Courier New',monospace\">┏━━━━━━━━━━━━━━━━━━━━━━━━━━━━━━━━┳━━━━━━━━━━━━━━━━━━━━━━━━━━━━━━━━┓\n",
       "┃<span style=\"font-weight: bold\">          Test metric           </span>┃<span style=\"font-weight: bold\">          DataLoader 0          </span>┃\n",
       "┡━━━━━━━━━━━━━━━━━━━━━━━━━━━━━━━━╇━━━━━━━━━━━━━━━━━━━━━━━━━━━━━━━━┩\n",
       "│<span style=\"color: #008080; text-decoration-color: #008080\">           test/loss            </span>│<span style=\"color: #800080; text-decoration-color: #800080\">      0.18410131335258484       </span>│\n",
       "│<span style=\"color: #008080; text-decoration-color: #008080\">     val/fusion/accuracy/0      </span>│<span style=\"color: #800080; text-decoration-color: #800080\">       0.6531999707221985       </span>│\n",
       "│<span style=\"color: #008080; text-decoration-color: #008080\">     val/fusion/accuracy/1      </span>│<span style=\"color: #800080; text-decoration-color: #800080\">       0.9024999737739563       </span>│\n",
       "│<span style=\"color: #008080; text-decoration-color: #008080\">     val/fusion/accuracy/2      </span>│<span style=\"color: #800080; text-decoration-color: #800080\">       0.9254999756813049       </span>│\n",
       "│<span style=\"color: #008080; text-decoration-color: #008080\"> val/fusion/accuracy/DS_combine </span>│<span style=\"color: #800080; text-decoration-color: #800080\">       0.9248999953269958       </span>│\n",
       "│<span style=\"color: #008080; text-decoration-color: #008080\">   val/fusion/accuracy/bayes    </span>│<span style=\"color: #800080; text-decoration-color: #800080\">       0.6531999707221985       </span>│\n",
       "│<span style=\"color: #008080; text-decoration-color: #008080\">  val/fusion/accuracy/dampster  </span>│<span style=\"color: #800080; text-decoration-color: #800080\">       0.6531999707221985       </span>│\n",
       "│<span style=\"color: #008080; text-decoration-color: #008080\">    val/fusion/accuracy/mean    </span>│<span style=\"color: #800080; text-decoration-color: #800080\">       0.9251499772071838       </span>│\n",
       "│<span style=\"color: #008080; text-decoration-color: #008080\">    val/fusion/accuracy/sum     </span>│<span style=\"color: #800080; text-decoration-color: #800080\">       0.9249500036239624       </span>│\n",
       "└────────────────────────────────┴────────────────────────────────┘\n",
       "</pre>\n"
      ],
      "text/plain": [
       "┏━━━━━━━━━━━━━━━━━━━━━━━━━━━━━━━━┳━━━━━━━━━━━━━━━━━━━━━━━━━━━━━━━━┓\n",
       "┃\u001b[1m \u001b[0m\u001b[1m         Test metric          \u001b[0m\u001b[1m \u001b[0m┃\u001b[1m \u001b[0m\u001b[1m         DataLoader 0         \u001b[0m\u001b[1m \u001b[0m┃\n",
       "┡━━━━━━━━━━━━━━━━━━━━━━━━━━━━━━━━╇━━━━━━━━━━━━━━━━━━━━━━━━━━━━━━━━┩\n",
       "│\u001b[36m \u001b[0m\u001b[36m          test/loss           \u001b[0m\u001b[36m \u001b[0m│\u001b[35m \u001b[0m\u001b[35m     0.18410131335258484      \u001b[0m\u001b[35m \u001b[0m│\n",
       "│\u001b[36m \u001b[0m\u001b[36m    val/fusion/accuracy/0     \u001b[0m\u001b[36m \u001b[0m│\u001b[35m \u001b[0m\u001b[35m      0.6531999707221985      \u001b[0m\u001b[35m \u001b[0m│\n",
       "│\u001b[36m \u001b[0m\u001b[36m    val/fusion/accuracy/1     \u001b[0m\u001b[36m \u001b[0m│\u001b[35m \u001b[0m\u001b[35m      0.9024999737739563      \u001b[0m\u001b[35m \u001b[0m│\n",
       "│\u001b[36m \u001b[0m\u001b[36m    val/fusion/accuracy/2     \u001b[0m\u001b[36m \u001b[0m│\u001b[35m \u001b[0m\u001b[35m      0.9254999756813049      \u001b[0m\u001b[35m \u001b[0m│\n",
       "│\u001b[36m \u001b[0m\u001b[36mval/fusion/accuracy/DS_combine\u001b[0m\u001b[36m \u001b[0m│\u001b[35m \u001b[0m\u001b[35m      0.9248999953269958      \u001b[0m\u001b[35m \u001b[0m│\n",
       "│\u001b[36m \u001b[0m\u001b[36m  val/fusion/accuracy/bayes   \u001b[0m\u001b[36m \u001b[0m│\u001b[35m \u001b[0m\u001b[35m      0.6531999707221985      \u001b[0m\u001b[35m \u001b[0m│\n",
       "│\u001b[36m \u001b[0m\u001b[36m val/fusion/accuracy/dampster \u001b[0m\u001b[36m \u001b[0m│\u001b[35m \u001b[0m\u001b[35m      0.6531999707221985      \u001b[0m\u001b[35m \u001b[0m│\n",
       "│\u001b[36m \u001b[0m\u001b[36m   val/fusion/accuracy/mean   \u001b[0m\u001b[36m \u001b[0m│\u001b[35m \u001b[0m\u001b[35m      0.9251499772071838      \u001b[0m\u001b[35m \u001b[0m│\n",
       "│\u001b[36m \u001b[0m\u001b[36m   val/fusion/accuracy/sum    \u001b[0m\u001b[36m \u001b[0m│\u001b[35m \u001b[0m\u001b[35m      0.9249500036239624      \u001b[0m\u001b[35m \u001b[0m│\n",
       "└────────────────────────────────┴────────────────────────────────┘\n"
      ]
     },
     "metadata": {},
     "output_type": "display_data"
    },
    {
     "data": {
      "text/plain": [
       "[{'val/fusion/accuracy/0': 0.6531999707221985,\n",
       "  'val/fusion/accuracy/1': 0.9024999737739563,\n",
       "  'val/fusion/accuracy/DS_combine': 0.9248999953269958,\n",
       "  'val/fusion/accuracy/mean': 0.9251499772071838,\n",
       "  'val/fusion/accuracy/sum': 0.9249500036239624,\n",
       "  'val/fusion/accuracy/bayes': 0.6531999707221985,\n",
       "  'val/fusion/accuracy/dampster': 0.6531999707221985,\n",
       "  'val/fusion/accuracy/2': 0.9254999756813049,\n",
       "  'test/loss': 0.18410131335258484}]"
      ]
     },
     "execution_count": 40,
     "metadata": {},
     "output_type": "execute_result"
    },
    {
     "data": {
      "text/plain": [
       "<Figure size 432x360 with 0 Axes>"
      ]
     },
     "metadata": {},
     "output_type": "display_data"
    },
    {
     "data": {
      "text/plain": [
       "<Figure size 432x360 with 0 Axes>"
      ]
     },
     "metadata": {},
     "output_type": "display_data"
    },
    {
     "data": {
      "text/plain": [
       "<Figure size 432x360 with 0 Axes>"
      ]
     },
     "metadata": {},
     "output_type": "display_data"
    },
    {
     "data": {
      "text/plain": [
       "<Figure size 432x360 with 0 Axes>"
      ]
     },
     "metadata": {},
     "output_type": "display_data"
    }
   ],
   "source": [
    "model.model = torch.load( 'zoom_mnist.pt')\n",
    "trainer.test(model)"
   ]
  },
  {
   "cell_type": "code",
   "execution_count": null,
   "id": "a02dbc4f",
   "metadata": {},
   "outputs": [],
   "source": []
  },
  {
   "cell_type": "markdown",
   "id": "0bec9ec4",
   "metadata": {},
   "source": [
    "## 1 D fusion Training "
   ]
  },
  {
   "cell_type": "code",
   "execution_count": 41,
   "id": "91bf6c16",
   "metadata": {},
   "outputs": [],
   "source": [
    "class OneDLitMNIST(LightningModule):\n",
    "    def __init__(self, data_dir=PATH_DATASETS, hidden_size=64, learning_rate=2e-4):\n",
    "\n",
    "        super().__init__()\n",
    "\n",
    "        # Set our init args as class attributes\n",
    "        self.data_dir = data_dir\n",
    "        self.hidden_size = hidden_size\n",
    "        self.learning_rate = learning_rate\n",
    "        \n",
    "        self.loss = evidence_loss.edl_mse_loss\n",
    "\n",
    "        # Hardcode some dataset specific attributes\n",
    "        self.num_classes = 10\n",
    "        self.dims = (1, 28, 28)\n",
    "        channels, width, height = self.dims\n",
    "        self.transform = transforms.Compose(\n",
    "            [\n",
    "                transforms.RandomAffine(degrees=0,translate=(0.2,0.2),scale=(0.5,1.0)),\n",
    "                transforms.ToTensor(),\n",
    "                transforms.Normalize((0.1307,), (0.3081,)),\n",
    "            ]\n",
    "        )\n",
    "        self.val_transform = transforms.Compose(\n",
    "            [\n",
    "                transforms.ToTensor(),\n",
    "                transforms.Normalize((0.1307,), (0.3081,)),\n",
    "            ]\n",
    "        )\n",
    "\n",
    "\n",
    "        self.model = resnet18( num_classes=10)\n",
    "        self.model.eval()\n",
    "            \n",
    "        # Have ResNet model take in grayscale rather than RGB\n",
    "        self.model.conv1 = torch.nn.Conv2d(1, 64, kernel_size=7, stride=2, padding=3, bias=False)\n",
    "\n",
    "        self.val_accuracy = Accuracy()\n",
    "        self.test_0_accuracy = Accuracy()\n",
    "        self.test_1_accuracy = Accuracy()\n",
    "        self.test_2_accuracy = Accuracy()\n",
    "        self.test_accuracy = [self.test_0_accuracy,\n",
    "                             self.test_1_accuracy,\n",
    "                             self.test_2_accuracy]\n",
    "        \n",
    "        self.train_cm = ConfusionMatrix(num_classes=self.num_classes, normalize='true')\n",
    "        self.valid_cm = ConfusionMatrix(num_classes=self.num_classes, normalize='true')\n",
    "        \n",
    "        \n",
    "        self.fc_fusion = torch.nn.Linear(2*self.num_classes, self.num_classes,device=self.device )\n",
    "        \n",
    "        \n",
    "        self.one_d_accuray = Accuracy()\n",
    "        self.two_d_accuracy = Accuracy()\n",
    "        \n",
    "      \n",
    "    def forward(self, x):\n",
    "        x = self.model(x)\n",
    "        return x\n",
    "        #return F.log_softmax(x, dim=1)\n",
    "\n",
    "\n",
    "    def common_epoch_step(self, batch, batch_idx, stage):\n",
    "        list_images, labels = batch\n",
    "        labels = F.one_hot(labels.to(torch.long), self.num_classes)\n",
    "        \n",
    "        prev_alpha = None\n",
    "        for j, batch_images in enumerate( list_images):\n",
    "            logits = self(batch_images)\n",
    "            alpha = F.relu(logits) + 1\n",
    "            preds = torch.argmax(alpha, dim=1)\n",
    "            self.test_accuracy[j].update(preds, labels.argmax(dim=1))\n",
    "            \n",
    "            #self.logger.experiment.add_scalars('Accuracy',\n",
    "            #                                   {'fusion/'+str(j): self.test_accuracy[j].compute()},\n",
    "            #                                   self.global_step) \n",
    "            self.log(stage+\"/accuracy/\"+str(j), self.test_accuracy[j], prog_bar=True)\n",
    "            \n",
    "            if prev_alpha is not None:\n",
    "\n",
    "                fused_alpha = torch.concat((prev_alpha.to(self.device).to(torch.float),alpha), dim=1)\n",
    "                fused_alpha = self.fc_fusion(fused_alpha)\n",
    "                preds = torch.argmax(fused_alpha, dim=1)\n",
    "                \n",
    "                #self.logger.experiment.add_scalars('Accuracy', \n",
    "                #                                   {'fusion'+name: fuse_acc.compute()},\n",
    "                #                                   self.global_step) \n",
    "            \n",
    "                prev_alpha = fused_alpha\n",
    "                \n",
    "\n",
    "            else:\n",
    "                prev_alpha = alpha\n",
    "            \n",
    "        \n",
    "        \n",
    "                    \n",
    "            \n",
    "        loss = evidence_loss.edl_mse_loss(fused_alpha, labels, self.current_epoch, self.num_classes, 1)\n",
    "        self.one_d_accuray.update(preds, labels.argmax(dim=1))\n",
    "        self.log(stage+\"/one D accuracy\", self.one_d_accuray, prog_bar=True)\n",
    "                \n",
    "        # Calling self.log will surface up scalars for you in TensorBoard\n",
    "        self.log(stage+\"/loss\", loss, prog_bar=True)\n",
    "        return loss\n",
    "    \n",
    "    def training_step(self, batch, batch_idx):\n",
    "        return self.common_epoch_step(batch, batch_idx, 'train')\n",
    "        \n",
    "    def validation_step(self, batch, batch_idx):\n",
    "        return self.common_epoch_step(batch, batch_idx, 'valid')\n",
    "        \n",
    "    def configure_optimizers(self):\n",
    "        optimizer=torch.optim.AdamW(self.fc_fusion.parameters(), lr=0.001, weight_decay=1e-5)\n",
    "        #scheduler = CosineAnnealingWarmRestarts(optimizer,T_0=10, T_mult=1, eta_min=1e-4, last_epoch=-1)\n",
    "        #scheduler = CosineAnnealingWarmRestarts(optimizer,T_0=10, T_mult=2, eta_min=1e-4, last_epoch=-1)\n",
    "        scheduler = StepLR(optimizer, step_size=5, gamma=0.1)\n",
    "        \n",
    "          \n",
    "        return {'optimizer': optimizer,'lr_scheduler':scheduler}\n",
    "        #return torch.optim.Adam(self.parameters(), lr=self.lr)\n",
    "\n",
    "    ####################\n",
    "    # DATA RELATED HOOKS\n",
    "    ####################\n",
    "\n",
    "    def prepare_data(self):\n",
    "        # download\n",
    "        Zoom_MNIST(self.data_dir, train=False, download=True)\n",
    "        \n",
    "\n",
    "    def setup(self, stage=None):\n",
    "\n",
    "        # Assign train/val datasets for use in dataloaders\n",
    "        if stage == \"fit\" or stage is None:\n",
    "            self.mnist_zoom_train = Zoom_MNIST(self.data_dir, train=True, transform=self.val_transform)\n",
    "            self.mnist_zoom_valid = Zoom_MNIST(self.data_dir, train=False, transform=self.val_transform)\n",
    "\n",
    "        \n",
    "\n",
    "    def train_dataloader(self):\n",
    "        return DataLoader(self.mnist_zoom_train, batch_size=BATCH_SIZE, num_workers=NUM_WORKERS)\n",
    "\n",
    "    def val_dataloader(self):\n",
    "        return DataLoader(self.mnist_zoom_valid, batch_size=BATCH_SIZE, num_workers=NUM_WORKERS)\n",
    "\n",
    "  "
   ]
  },
  {
   "cell_type": "code",
   "execution_count": 42,
   "id": "54931b4d",
   "metadata": {},
   "outputs": [
    {
     "data": {
      "text/plain": [
       "tensor([3, 0, 3])"
      ]
     },
     "execution_count": 42,
     "metadata": {},
     "output_type": "execute_result"
    }
   ],
   "source": [
    "target = torch.empty(3, dtype=torch.long).random_(5)\n",
    "target"
   ]
  },
  {
   "cell_type": "code",
   "execution_count": 43,
   "id": "56051aa3",
   "metadata": {},
   "outputs": [
    {
     "name": "stderr",
     "output_type": "stream",
     "text": [
      "GPU available: True, used: True\n",
      "TPU available: False, using: 0 TPU cores\n",
      "IPU available: False, using: 0 IPUs\n",
      "HPU available: False, using: 0 HPUs\n",
      "LOCAL_RANK: 0 - CUDA_VISIBLE_DEVICES: [0]\n",
      "\n",
      "  | Name            | Type            | Params\n",
      "----------------------------------------------------\n",
      "0 | model           | ResNet          | 11.2 M\n",
      "1 | val_accuracy    | Accuracy        | 0     \n",
      "2 | test_0_accuracy | Accuracy        | 0     \n",
      "3 | test_1_accuracy | Accuracy        | 0     \n",
      "4 | test_2_accuracy | Accuracy        | 0     \n",
      "5 | train_cm        | ConfusionMatrix | 0     \n",
      "6 | valid_cm        | ConfusionMatrix | 0     \n",
      "7 | fc_fusion       | Linear          | 210   \n",
      "8 | one_d_accuray   | Accuracy        | 0     \n",
      "9 | two_d_accuracy  | Accuracy        | 0     \n",
      "----------------------------------------------------\n",
      "210       Trainable params\n",
      "11.2 M    Non-trainable params\n",
      "11.2 M    Total params\n",
      "44.702    Total estimated model params size (MB)\n"
     ]
    },
    {
     "data": {
      "application/vnd.jupyter.widget-view+json": {
       "model_id": "",
       "version_major": 2,
       "version_minor": 0
      },
      "text/plain": [
       "Sanity Checking: 0it [00:00, ?it/s]"
      ]
     },
     "metadata": {},
     "output_type": "display_data"
    },
    {
     "data": {
      "application/vnd.jupyter.widget-view+json": {
       "model_id": "399f6b31d7ec499a8429ef185d6f8867",
       "version_major": 2,
       "version_minor": 0
      },
      "text/plain": [
       "Training: 0it [00:00, ?it/s]"
      ]
     },
     "metadata": {},
     "output_type": "display_data"
    },
    {
     "data": {
      "application/vnd.jupyter.widget-view+json": {
       "model_id": "",
       "version_major": 2,
       "version_minor": 0
      },
      "text/plain": [
       "Validation: 0it [00:00, ?it/s]"
      ]
     },
     "metadata": {},
     "output_type": "display_data"
    }
   ],
   "source": [
    "model = OneDLitMNIST()\n",
    "model.model = torch.load('zoom_mnist.pt')\n",
    "model.model.eval()\n",
    "for param in model.model.parameters():\n",
    "    param.requires_grad = False\n",
    "\n",
    "logger = TensorBoardLogger('./lightning_logs/', name=LOGGER_NAME)\n",
    "trainer = Trainer(\n",
    "    accelerator=\"auto\",\n",
    "    devices=1 if torch.cuda.is_available() else None,  # limiting got iPython runs\n",
    "    max_epochs=2,\n",
    "    callbacks=[TQDMProgressBar(refresh_rate=20)],\n",
    "    #logger=CSVLogger(save_dir=\"logs/\"),\n",
    "    check_val_every_n_epoch=2,\n",
    "    logger=logger\n",
    ")\n",
    "trainer.fit(model)"
   ]
  },
  {
   "cell_type": "code",
   "execution_count": 88,
   "id": "809bd3a5",
   "metadata": {},
   "outputs": [],
   "source": [
    "class DampsterLitMNIST(LightningModule):\n",
    "    def __init__(self, data_dir=PATH_DATASETS, hidden_size=64, learning_rate=2e-4):\n",
    "\n",
    "        super().__init__()\n",
    "\n",
    "        # Set our init args as class attributes\n",
    "        self.data_dir = data_dir\n",
    "        self.hidden_size = hidden_size\n",
    "        self.learning_rate = learning_rate\n",
    "        \n",
    "        self.loss = evidence_loss.edl_mse_loss\n",
    "\n",
    "        # Hardcode some dataset specific attributes\n",
    "        self.num_classes = 10\n",
    "        self.dims = (1, 28, 28)\n",
    "        channels, width, height = self.dims\n",
    "        self.transform = transforms.Compose(\n",
    "            [\n",
    "                transforms.RandomAffine(degrees=0,translate=(0.2,0.2),scale=(0.5,1.0)),\n",
    "                transforms.ToTensor(),\n",
    "                transforms.Normalize((0.1307,), (0.3081,)),\n",
    "            ]\n",
    "        )\n",
    "        self.val_transform = transforms.Compose(\n",
    "            [\n",
    "                transforms.ToTensor(),\n",
    "                transforms.Normalize((0.1307,), (0.3081,)),\n",
    "            ]\n",
    "        )\n",
    "\n",
    "\n",
    "        self.model = resnet18( num_classes=10)\n",
    "            \n",
    "        # Have ResNet model take in grayscale rather than RGB\n",
    "        self.model.conv1 = torch.nn.Conv2d(1, 64, kernel_size=7, stride=2, padding=3, bias=False)\n",
    "        \n",
    "\n",
    "        self.val_accuracy = Accuracy()\n",
    "        self.test_0_accuracy = Accuracy()\n",
    "        self.test_1_accuracy = Accuracy()\n",
    "        self.test_2_accuracy = Accuracy()\n",
    "        self.test_accuracy = [self.test_0_accuracy,\n",
    "                             self.test_1_accuracy,\n",
    "                             self.test_2_accuracy]\n",
    "        \n",
    "        self.train_cm = ConfusionMatrix(num_classes=self.num_classes, normalize='true')\n",
    "        self.valid_cm = ConfusionMatrix(num_classes=self.num_classes, normalize='true')\n",
    "        \n",
    "        \n",
    "        #self.fc_fusion = torch.nn.Linear(2*self.num_classes, self.num_classes,device=self.device )\n",
    "        self.DS_combine = uncertain_fusion.DempsterSchaferCombine(self.num_classes)\n",
    "        \n",
    "        self.one_d_accuray = Accuracy()\n",
    "        self.two_d_accuracy = Accuracy()\n",
    "        \n",
    "      \n",
    "    def forward(self, x):\n",
    "        x = self.model(x)\n",
    "        return x\n",
    "        #return F.log_softmax(x, dim=1)\n",
    "\n",
    "\n",
    "    def common_epoch_step(self, batch, batch_idx, stage):\n",
    "        list_images, labels = batch\n",
    "        labels = F.one_hot(labels.to(torch.long), self.num_classes)\n",
    "        \n",
    "        prev_alpha = None\n",
    "        for j, batch_images in enumerate( list_images):\n",
    "            logits = self(batch_images)\n",
    "            alpha = F.relu(logits) + 1\n",
    "            preds = torch.argmax(alpha, dim=1)\n",
    "            self.test_accuracy[j].update(preds, labels.argmax(dim=1))\n",
    "            \n",
    "            #self.logger.experiment.add_scalars('Accuracy',\n",
    "            #                                   {'fusion/'+str(j): self.test_accuracy[j].compute()},\n",
    "            #                                   self.global_step) \n",
    "            self.log(stage+\"/accuracy/\"+str(j), self.test_accuracy[j], prog_bar=True)\n",
    "            \n",
    "            if prev_alpha is not None:\n",
    "\n",
    "                #fused_alpha = torch.concat((prev_alpha.to(self.device).to(torch.float),alpha), dim=1)\n",
    "                fused_alpha = self.DS_combine(prev_alpha.to(self.device).to(torch.float), alpha)\n",
    "                preds = torch.argmax(fused_alpha, dim=1)\n",
    "                \n",
    "                #self.logger.experiment.add_scalars('Accuracy', \n",
    "                #                                   {'fusion'+name: fuse_acc.compute()},\n",
    "                #                                   self.global_step) \n",
    "            \n",
    "                prev_alpha = fused_alpha\n",
    "                \n",
    "\n",
    "            else:\n",
    "                prev_alpha = alpha\n",
    "            \n",
    "           \n",
    "        loss = evidence_loss.edl_mse_loss(fused_alpha, labels, self.current_epoch, self.num_classes, 1)\n",
    "        self.one_d_accuray.update(preds, labels.argmax(dim=1))\n",
    "        self.log(stage+\"/one D accuracy\", self.one_d_accuray, prog_bar=True)\n",
    "                \n",
    "        # Calling self.log will surface up scalars for you in TensorBoard\n",
    "        self.log(stage+\"/loss\", loss, prog_bar=True)\n",
    "        return loss\n",
    "    \n",
    "    def training_step(self, batch, batch_idx):\n",
    "        return self.common_epoch_step(batch, batch_idx, 'train')\n",
    "        \n",
    "    def validation_step(self, batch, batch_idx):\n",
    "        return self.common_epoch_step(batch, batch_idx, 'valid')\n",
    "\n",
    "    def test_step(self, batch, batch_idx):\n",
    "        list_images, labels = batch\n",
    "        labels = F.one_hot(labels.to(torch.long), self.num_classes)\n",
    "        \n",
    "        prev_alpha = None\n",
    "        zoom_images = 3\n",
    "        threshold = 0.2\n",
    "        if batch_idx  % 10== 0:\n",
    "            fig = plt.figure(figsize=[6, 5])\n",
    "            fig, axs = plt.subplots(5, gridspec_kw={\"height_ratios\": [5, 1, 1, 10, 10]})\n",
    "            rimgs = np.zeros((28, 28 * zoom_images))\n",
    "            scores = np.zeros((1, num_classes))\n",
    "            fusion_scores = np.zeros((1, num_classes))\n",
    "            classifications = []\n",
    "            fusion_output = []\n",
    "            lu = []\n",
    "            fusion_lu = []\n",
    "            lp = []\n",
    "            fusion_lp = []\n",
    "            ldeg = []\n",
    "            \n",
    "        for j, batch_images in enumerate( list_images):\n",
    "            logits = self(batch_images)\n",
    "            loss = evidence_loss.edl_mse_loss(logits, labels, self.current_epoch, self.num_classes, 5)\n",
    "            #loss = F.nll_loss(logits, labels)\n",
    "            alpha = F.relu(logits) + 1\n",
    "            preds = torch.argmax(alpha, dim=1)\n",
    "            self.test_accuracy[j].update(preds, labels.argmax(dim=1))\n",
    "            uncertainty = num_classes / torch.sum(alpha, dim=1, keepdim=True)\n",
    "            if 0 == j:#Find the image with mx uncertainty in the first image only\n",
    "                max_uncertain_args = torch.argmax(uncertainty)\n",
    "            probs = alpha /  torch.sum(alpha, dim=1, keepdim=True)\n",
    "            if batch_idx  % 10 == 0:\n",
    "                \n",
    "                rimgs[:, j*28:(j+1)*28] = batch_images[max_uncertain_args].detach().cpu().numpy().reshape(28,28)\n",
    "                classifications.append(preds[max_uncertain_args].item())\n",
    "                scores += probs[max_uncertain_args].detach().cpu().numpy() >= threshold\n",
    "                lu.append(uncertainty[max_uncertain_args].item())\n",
    "                ldeg.append(j)\n",
    "                lp.append(probs[max_uncertain_args].tolist())\n",
    "            \n",
    "            #self.logger.experiment.add_scalars('Accuracy',\n",
    "            #                                   {'fusion/'+str(j): self.test_accuracy[j].compute()},\n",
    "            #                                   self.global_step) \n",
    "            self.log(\"test/fusion/accuracy/\"+str(j), self.test_accuracy[j], prog_bar=True)\n",
    "            if prev_alpha is not None:\n",
    "                \n",
    "                    \n",
    "                fused_alpha = self.DS_combine(prev_alpha.to(self.device).to(torch.float), alpha)\n",
    "                fused_alpha = F.relu(fused_alpha) + 1\n",
    "                preds = torch.argmax(fused_alpha, dim=1)\n",
    "                uncertainty = self.num_classes / torch.sum(fused_alpha, dim=1, keepdim=True)\n",
    "                probs = fused_alpha /  torch.sum(fused_alpha, dim=1, keepdim=True)\n",
    "\n",
    "                prev_alpha = fused_alpha\n",
    "                if batch_idx  % 10== 0:\n",
    "                    fusion_output.append(preds[max_uncertain_args].item())\n",
    "                    fusion_scores += probs[max_uncertain_args].detach().cpu().numpy() >= threshold\n",
    "                    print (uncertainty[max_uncertain_args].item(), fused_alpha[max_uncertain_args], )\n",
    "                    fusion_lu.append(uncertainty[max_uncertain_args].item())\n",
    "                    fusion_lp.append(probs[max_uncertain_args].tolist())\n",
    "                   \n",
    "            else:\n",
    "                prev_alpha = alpha\n",
    "                uncertainty = self.num_classes / torch.sum(alpha, dim=1, keepdim=True)\n",
    "                probs = alpha /  torch.sum(alpha, dim=1, keepdim=True)\n",
    "    \n",
    "                if batch_idx % 10 == 0:\n",
    "                    fusion_output.append(\"-\")\n",
    "                    fusion_scores += probs[max_uncertain_args].detach().cpu().numpy() >= threshold\n",
    "                    #fusion_scores += np.zeros((1, num_classes)) >= threshold\n",
    "                    fusion_lu.append(uncertainty[0].item())\n",
    "                    fusion_lp.append(probs[max_uncertain_args].tolist())\n",
    "                    \n",
    "        self.one_d_accuray.update(preds, labels.argmax(dim=1))\n",
    "        self.log(\"test/fusion/accuracy/one_D_accuracy\", self.one_d_accuray, prog_bar=True)\n",
    "                   \n",
    "                    \n",
    "        if batch_idx % 10 == 0:\n",
    "            #logits = self(images)\n",
    "            #alpha = F.relu(logits) + 1\n",
    "            #preds = torch.argmax(alpha, dim=1)\n",
    "            #uncertainty = num_classes / alpha.sum(dim=1)\n",
    "            #drichlet_uncertainty = Dirichlet(alpha)\n",
    "            #plt.subplot(1, len(list_images), j+1)\n",
    "            axs[0].imshow(rimgs, vmin=0, vmax=1)  # convert CHW -> HWC\n",
    "            plt.title(labels[max_uncertain_args].argmax().to('cpu').item())\n",
    "            axs[0].axis(\"off\")\n",
    "            \n",
    "            empty_lst = []\n",
    "            empty_lst.append(classifications)\n",
    "            axs[1].table(cellText=empty_lst, bbox=[0, 1, 1, 1])\n",
    "            axs[1].axis(\"off\")\n",
    "            \n",
    "            empty_lst = []\n",
    "            empty_lst.append(fusion_output)\n",
    "            axs[2].table(cellText=empty_lst, bbox=[0, 1, 1, 1])\n",
    "            axs[2].axis(\"off\")\n",
    "            \n",
    "            axs[3].plot(ldeg, lu, marker=\"<\", c=\"black\")\n",
    "            \n",
    "            labels = np.arange(10)[scores[0].astype(bool)]\n",
    "            lp = np.array(lp)[:, labels]\n",
    "            c = [\"blue\", \"red\", \"brown\", \"purple\", \"cyan\"]\n",
    "            marker = [\"s\", \"^\", \"o\"]*2\n",
    "            labels = labels.tolist()\n",
    "            for i in range(len(labels)):\n",
    "                print (\"plot  lp \", lp[:, i])\n",
    "                axs[3].plot(ldeg, lp[:, i], marker=marker[i], c=c[i])\n",
    "            axs[3].set_ylim([0, 1])\n",
    "            axs[3].legend(labels)\n",
    "                \n",
    "            fusion_labels = np.arange(10)[fusion_scores[0].astype(bool)]\n",
    "            fusion_lp = np.array(fusion_lp)[:, fusion_labels]\n",
    "            c = [\"blue\", \"red\", \"brown\", \"purple\", \"cyan\"]\n",
    "            marker = [\"s\", \"^\", \"o\"]*2\n",
    "            fusion_labels = fusion_labels.tolist()\n",
    "            print (\"fusion_labels \", fusion_labels)\n",
    "            for i in range(len(fusion_labels)):\n",
    "                print (\"plot fusion lp \", fusion_lp[:, i])\n",
    "                axs[4].plot(ldeg, fusion_lp[:, i], marker=marker[i], c=c[i])\n",
    "            axs[4].plot(ldeg, fusion_lu, marker=\"<\", c=\"black\")\n",
    "            \n",
    "            axs[4].set_ylim([0, 1])\n",
    "            axs[4].legend(labels)\n",
    "            axs[4].set_xlim([0, 1])        \n",
    "            \n",
    "            \n",
    "            # log figure\n",
    "            self.logger.experiment.add_figure('sample_'+str(batch_idx), fig, global_step=self.global_step)\n",
    "\n",
    "            \n",
    "        \n",
    "    def configure_optimizers(self):\n",
    "        optimizer=torch.optim.AdamW(self.parameters(), lr=0.001, weight_decay=1e-5)\n",
    "        #scheduler = CosineAnnealingWarmRestarts(optimizer,T_0=10, T_mult=1, eta_min=1e-4, last_epoch=-1)\n",
    "        #scheduler = CosineAnnealingWarmRestarts(optimizer,T_0=10, T_mult=2, eta_min=1e-4, last_epoch=-1)\n",
    "        scheduler = StepLR(optimizer, step_size=5, gamma=0.1)\n",
    "        \n",
    "          \n",
    "        return {'optimizer': optimizer,'lr_scheduler':scheduler}\n",
    "        #return torch.optim.Adam(self.parameters(), lr=self.lr)\n",
    "        \n",
    "\n",
    "    ####################\n",
    "    # DATA RELATED HOOKS\n",
    "    ####################\n",
    "\n",
    "    def prepare_data(self):\n",
    "        # download\n",
    "        Zoom_MNIST(self.data_dir, train=False, download=True)\n",
    "        \n",
    "\n",
    "    def setup(self, stage=None):\n",
    "        print (\"setup stage \", stage)\n",
    "        # Assign train/val datasets for use in dataloaders\n",
    "        #if stage == \"fit\" or stage is None:\n",
    "        self.mnist_zoom_train = Zoom_MNIST(self.data_dir, train=True, transform=self.val_transform)\n",
    "        \n",
    "        self.mnist_zoom_valid = Zoom_MNIST(self.data_dir, train=False, transform=self.val_transform)\n",
    "\n",
    "        \n",
    "\n",
    "    def train_dataloader(self):\n",
    "        return DataLoader(self.mnist_zoom_train, batch_size=BATCH_SIZE, num_workers=NUM_WORKERS)\n",
    "\n",
    "    def val_dataloader(self):\n",
    "        return DataLoader(self.mnist_zoom_valid, batch_size=BATCH_SIZE, num_workers=NUM_WORKERS)\n",
    "\n",
    "    def test_dataloader(self):\n",
    "        return DataLoader(self.mnist_zoom_valid, batch_size=BATCH_SIZE, num_workers=NUM_WORKERS)\n",
    "  "
   ]
  },
  {
   "cell_type": "code",
   "execution_count": 89,
   "id": "43854079",
   "metadata": {},
   "outputs": [
    {
     "name": "stderr",
     "output_type": "stream",
     "text": [
      "GPU available: True, used: True\n",
      "TPU available: False, using: 0 TPU cores\n",
      "IPU available: False, using: 0 IPUs\n",
      "HPU available: False, using: 0 HPUs\n",
      "LOCAL_RANK: 0 - CUDA_VISIBLE_DEVICES: [0]\n",
      "\n",
      "  | Name            | Type                   | Params\n",
      "-----------------------------------------------------------\n",
      "0 | model           | ResNet                 | 11.2 M\n",
      "1 | val_accuracy    | Accuracy               | 0     \n",
      "2 | test_0_accuracy | Accuracy               | 0     \n",
      "3 | test_1_accuracy | Accuracy               | 0     \n",
      "4 | test_2_accuracy | Accuracy               | 0     \n",
      "5 | train_cm        | ConfusionMatrix        | 0     \n",
      "6 | valid_cm        | ConfusionMatrix        | 0     \n",
      "7 | DS_combine      | DempsterSchaferCombine | 0     \n",
      "8 | one_d_accuray   | Accuracy               | 0     \n",
      "9 | two_d_accuracy  | Accuracy               | 0     \n",
      "-----------------------------------------------------------\n",
      "11.2 M    Trainable params\n",
      "0         Non-trainable params\n",
      "11.2 M    Total params\n",
      "44.701    Total estimated model params size (MB)\n"
     ]
    },
    {
     "name": "stdout",
     "output_type": "stream",
     "text": [
      "setup stage  TrainerFn.FITTING\n"
     ]
    },
    {
     "data": {
      "application/vnd.jupyter.widget-view+json": {
       "model_id": "",
       "version_major": 2,
       "version_minor": 0
      },
      "text/plain": [
       "Sanity Checking: 0it [00:00, ?it/s]"
      ]
     },
     "metadata": {},
     "output_type": "display_data"
    },
    {
     "data": {
      "application/vnd.jupyter.widget-view+json": {
       "model_id": "3f8571b7bf7d4375924b76c0ea605420",
       "version_major": 2,
       "version_minor": 0
      },
      "text/plain": [
       "Training: 0it [00:00, ?it/s]"
      ]
     },
     "metadata": {},
     "output_type": "display_data"
    },
    {
     "data": {
      "application/vnd.jupyter.widget-view+json": {
       "model_id": "",
       "version_major": 2,
       "version_minor": 0
      },
      "text/plain": [
       "Validation: 0it [00:00, ?it/s]"
      ]
     },
     "metadata": {},
     "output_type": "display_data"
    }
   ],
   "source": [
    "model = DampsterLitMNIST()\n",
    "#model.model = torch.load('zoom_mnist.pt')\n",
    "\n",
    "logger = TensorBoardLogger('./lightning_logs/', name=LOGGER_NAME)\n",
    "trainer = Trainer(\n",
    "    accelerator=\"auto\",\n",
    "    devices=1 if torch.cuda.is_available() else None,  # limiting got iPython runs\n",
    "    max_epochs=2,\n",
    "    callbacks=[TQDMProgressBar(refresh_rate=20)],\n",
    "    #logger=CSVLogger(save_dir=\"logs/\"),\n",
    "    check_val_every_n_epoch=2,\n",
    "    logger=logger\n",
    ")\n",
    "trainer.fit(model)"
   ]
  },
  {
   "cell_type": "code",
   "execution_count": 90,
   "id": "a5b779cb",
   "metadata": {},
   "outputs": [
    {
     "name": "stderr",
     "output_type": "stream",
     "text": [
      "LOCAL_RANK: 0 - CUDA_VISIBLE_DEVICES: [0]\n"
     ]
    },
    {
     "name": "stdout",
     "output_type": "stream",
     "text": [
      "setup stage  TrainerFn.TESTING\n"
     ]
    },
    {
     "data": {
      "application/vnd.jupyter.widget-view+json": {
       "model_id": "3dca7fec59624940ad0cda6f988bfbeb",
       "version_major": 2,
       "version_minor": 0
      },
      "text/plain": [
       "Testing: 0it [00:00, ?it/s]"
      ]
     },
     "metadata": {},
     "output_type": "display_data"
    },
    {
     "name": "stdout",
     "output_type": "stream",
     "text": [
      "0.2721967399120331 tensor([ 2.0000,  2.0000,  2.0000,  2.0000,  2.0000,  2.0000,  2.0000,  2.0000,\n",
      "         2.0000, 18.7381], device='cuda:0')\n",
      "0.08796845376491547 tensor([ 3.0000,  3.0000,  3.0000,  3.0000,  3.0000,  3.0000,  3.0000,  3.0000,\n",
      "         3.0000, 86.6771], device='cuda:0')\n",
      "plot  lp  [0.1        0.66340208 0.73632145]\n",
      "fusion_labels  [9]\n",
      "plot fusion lp  [0.1        0.51004589 0.76248515]\n",
      "0.2080220878124237 tensor([ 2.0000,  2.0000,  2.0000, 30.0718,  2.0000,  2.0000,  2.0000,  2.0000,\n",
      "         2.0000,  2.0000], device='cuda:0')\n",
      "0.06647595018148422 tensor([  3.0000,   3.0000,   3.0000, 123.4303,   3.0000,   3.0000,   3.0000,\n",
      "          3.0000,   3.0000,   3.0000], device='cuda:0')\n",
      "plot  lp  [0.1        0.76360464 0.73244661]\n",
      "fusion_labels  [3]\n",
      "plot fusion lp  [0.1        0.62556022 0.82051492]\n",
      "0.21273541450500488 tensor([ 2.0000,  2.0000,  2.0000,  2.0000,  2.0000,  2.0000,  2.0000, 29.0067,\n",
      "         2.0000,  2.0000], device='cuda:0')\n",
      "0.06737329810857773 tensor([  3.0000,   3.0000,   3.0000,   3.0000,   3.0000,   3.0000,   3.0000,\n",
      "        121.4268,   3.0000,   3.0000], device='cuda:0')\n",
      "plot  lp  [0.1        0.75680107 0.73571098]\n",
      "fusion_labels  [7]\n",
      "plot fusion lp  [0.1        0.61707628 0.81809205]\n",
      "0.16570894420146942 tensor([ 2.0000,  2.0000,  2.0000,  2.0000,  2.0000,  2.0000,  2.0000,  2.0000,\n",
      "         2.0000, 42.3468], device='cuda:0')\n",
      "0.056221503764390945 tensor([  3.0000,   3.0000,   3.0000,   3.0000,   3.0000,   3.0000,   3.0000,\n",
      "          3.0000,   3.0000, 150.8679], device='cuda:0')\n",
      "plot  lp  [0.1        0.82123977 0.70911622]\n",
      "fusion_labels  [9]\n",
      "plot fusion lp  [0.1        0.70172387 0.84820193]\n"
     ]
    },
    {
     "data": {
      "text/html": [
       "<pre style=\"white-space:pre;overflow-x:auto;line-height:normal;font-family:Menlo,'DejaVu Sans Mono',consolas,'Courier New',monospace\">┏━━━━━━━━━━━━━━━━━━━━━━━━━━━━━━━━━━━━━┳━━━━━━━━━━━━━━━━━━━━━━━━━━━━━━━━━━━━━┓\n",
       "┃<span style=\"font-weight: bold\">             Test metric             </span>┃<span style=\"font-weight: bold\">            DataLoader 0             </span>┃\n",
       "┡━━━━━━━━━━━━━━━━━━━━━━━━━━━━━━━━━━━━━╇━━━━━━━━━━━━━━━━━━━━━━━━━━━━━━━━━━━━━┩\n",
       "│<span style=\"color: #008080; text-decoration-color: #008080\">       test/fusion/accuracy/0        </span>│<span style=\"color: #800080; text-decoration-color: #800080\">         0.6639999747276306          </span>│\n",
       "│<span style=\"color: #008080; text-decoration-color: #008080\">       test/fusion/accuracy/1        </span>│<span style=\"color: #800080; text-decoration-color: #800080\">         0.9383999705314636          </span>│\n",
       "│<span style=\"color: #008080; text-decoration-color: #008080\">       test/fusion/accuracy/2        </span>│<span style=\"color: #800080; text-decoration-color: #800080\">         0.9682999849319458          </span>│\n",
       "│<span style=\"color: #008080; text-decoration-color: #008080\"> test/fusion/accuracy/one_D_accuracy </span>│<span style=\"color: #800080; text-decoration-color: #800080\">         0.9778000116348267          </span>│\n",
       "└─────────────────────────────────────┴─────────────────────────────────────┘\n",
       "</pre>\n"
      ],
      "text/plain": [
       "┏━━━━━━━━━━━━━━━━━━━━━━━━━━━━━━━━━━━━━┳━━━━━━━━━━━━━━━━━━━━━━━━━━━━━━━━━━━━━┓\n",
       "┃\u001b[1m \u001b[0m\u001b[1m            Test metric            \u001b[0m\u001b[1m \u001b[0m┃\u001b[1m \u001b[0m\u001b[1m           DataLoader 0            \u001b[0m\u001b[1m \u001b[0m┃\n",
       "┡━━━━━━━━━━━━━━━━━━━━━━━━━━━━━━━━━━━━━╇━━━━━━━━━━━━━━━━━━━━━━━━━━━━━━━━━━━━━┩\n",
       "│\u001b[36m \u001b[0m\u001b[36m      test/fusion/accuracy/0       \u001b[0m\u001b[36m \u001b[0m│\u001b[35m \u001b[0m\u001b[35m        0.6639999747276306         \u001b[0m\u001b[35m \u001b[0m│\n",
       "│\u001b[36m \u001b[0m\u001b[36m      test/fusion/accuracy/1       \u001b[0m\u001b[36m \u001b[0m│\u001b[35m \u001b[0m\u001b[35m        0.9383999705314636         \u001b[0m\u001b[35m \u001b[0m│\n",
       "│\u001b[36m \u001b[0m\u001b[36m      test/fusion/accuracy/2       \u001b[0m\u001b[36m \u001b[0m│\u001b[35m \u001b[0m\u001b[35m        0.9682999849319458         \u001b[0m\u001b[35m \u001b[0m│\n",
       "│\u001b[36m \u001b[0m\u001b[36mtest/fusion/accuracy/one_D_accuracy\u001b[0m\u001b[36m \u001b[0m│\u001b[35m \u001b[0m\u001b[35m        0.9778000116348267         \u001b[0m\u001b[35m \u001b[0m│\n",
       "└─────────────────────────────────────┴─────────────────────────────────────┘\n"
      ]
     },
     "metadata": {},
     "output_type": "display_data"
    },
    {
     "data": {
      "text/plain": [
       "[{'test/fusion/accuracy/0': 0.6639999747276306,\n",
       "  'test/fusion/accuracy/1': 0.9383999705314636,\n",
       "  'test/fusion/accuracy/2': 0.9682999849319458,\n",
       "  'test/fusion/accuracy/one_D_accuracy': 0.9778000116348267}]"
      ]
     },
     "execution_count": 90,
     "metadata": {},
     "output_type": "execute_result"
    },
    {
     "data": {
      "text/plain": [
       "<Figure size 432x360 with 0 Axes>"
      ]
     },
     "metadata": {},
     "output_type": "display_data"
    },
    {
     "data": {
      "text/plain": [
       "<Figure size 432x360 with 0 Axes>"
      ]
     },
     "metadata": {},
     "output_type": "display_data"
    },
    {
     "data": {
      "text/plain": [
       "<Figure size 432x360 with 0 Axes>"
      ]
     },
     "metadata": {},
     "output_type": "display_data"
    },
    {
     "data": {
      "text/plain": [
       "<Figure size 432x360 with 0 Axes>"
      ]
     },
     "metadata": {},
     "output_type": "display_data"
    }
   ],
   "source": [
    "trainer.test(model)"
   ]
  },
  {
   "cell_type": "code",
   "execution_count": null,
   "id": "388f2abf",
   "metadata": {},
   "outputs": [],
   "source": []
  }
 ],
 "metadata": {
  "kernelspec": {
   "display_name": "Python 3 (ipykernel)",
   "language": "python",
   "name": "python3"
  },
  "language_info": {
   "codemirror_mode": {
    "name": "ipython",
    "version": 3
   },
   "file_extension": ".py",
   "mimetype": "text/x-python",
   "name": "python",
   "nbconvert_exporter": "python",
   "pygments_lexer": "ipython3",
   "version": "3.10.4"
  }
 },
 "nbformat": 4,
 "nbformat_minor": 5
}
