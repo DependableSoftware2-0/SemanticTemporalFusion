{
 "cells": [
  {
   "cell_type": "code",
   "execution_count": 1,
   "id": "36765dea",
   "metadata": {},
   "outputs": [
    {
     "name": "stdout",
     "output_type": "stream",
     "text": [
      "Collecting crfseg\n",
      "  Downloading crfseg-1.0.0.tar.gz (6.9 kB)\n",
      "  Preparing metadata (setup.py) ... \u001b[?25ldone\n",
      "\u001b[?25hRequirement already satisfied: numpy in /home/deebuls/miniconda3/envs/tpytorch/lib/python3.10/site-packages (from crfseg) (1.22.4)\n",
      "Requirement already satisfied: torch in /home/deebuls/miniconda3/envs/tpytorch/lib/python3.10/site-packages (from crfseg) (1.12.0)\n",
      "Requirement already satisfied: torchvision in /home/deebuls/miniconda3/envs/tpytorch/lib/python3.10/site-packages (from crfseg) (0.13.0)\n",
      "Requirement already satisfied: typing_extensions in /home/deebuls/miniconda3/envs/tpytorch/lib/python3.10/site-packages (from torch->crfseg) (4.1.1)\n",
      "Requirement already satisfied: requests in /home/deebuls/miniconda3/envs/tpytorch/lib/python3.10/site-packages (from torchvision->crfseg) (2.28.1)\n",
      "Requirement already satisfied: pillow!=8.3.*,>=5.3.0 in /home/deebuls/miniconda3/envs/tpytorch/lib/python3.10/site-packages (from torchvision->crfseg) (9.2.0)\n",
      "Requirement already satisfied: certifi>=2017.4.17 in /home/deebuls/miniconda3/envs/tpytorch/lib/python3.10/site-packages (from requests->torchvision->crfseg) (2022.6.15)\n",
      "Requirement already satisfied: urllib3<1.27,>=1.21.1 in /home/deebuls/miniconda3/envs/tpytorch/lib/python3.10/site-packages (from requests->torchvision->crfseg) (1.26.9)\n",
      "Requirement already satisfied: charset-normalizer<3,>=2 in /home/deebuls/miniconda3/envs/tpytorch/lib/python3.10/site-packages (from requests->torchvision->crfseg) (2.0.4)\n",
      "Requirement already satisfied: idna<4,>=2.5 in /home/deebuls/miniconda3/envs/tpytorch/lib/python3.10/site-packages (from requests->torchvision->crfseg) (3.3)\n",
      "Building wheels for collected packages: crfseg\n",
      "  Building wheel for crfseg (setup.py) ... \u001b[?25ldone\n",
      "\u001b[?25h  Created wheel for crfseg: filename=crfseg-1.0.0-py3-none-any.whl size=8410 sha256=179848bf50e0c7db8174e59a508c181fcfa5760d94187fe0ca30ec6385445e79\n",
      "  Stored in directory: /home/deebuls/.cache/pip/wheels/83/5e/1b/2233e9f7d4bbf0b126c009edb523ebc08fdaec5f8006fed27e\n",
      "Successfully built crfseg\n",
      "Installing collected packages: crfseg\n",
      "Successfully installed crfseg-1.0.0\n"
     ]
    }
   ],
   "source": [
    "!pip install crfseg"
   ]
  },
  {
   "cell_type": "code",
   "execution_count": 2,
   "id": "d24e8aa2",
   "metadata": {},
   "outputs": [],
   "source": [
    "import torch\n",
    "import torch.nn as nn\n",
    "from crfseg import CRF\n",
    "\n",
    "model = nn.Sequential(\n",
    "    nn.Identity(),  # your NN\n",
    "    CRF(n_spatial_dims=2)\n",
    ")\n",
    "\n",
    "batch_size, n_channels, spatial = 10, 1, (100, 100)\n",
    "x = torch.zeros(batch_size, n_channels, *spatial)\n",
    "log_proba = model(x)"
   ]
  },
  {
   "cell_type": "code",
   "execution_count": 3,
   "id": "9df6e01a",
   "metadata": {},
   "outputs": [
    {
     "name": "stdout",
     "output_type": "stream",
     "text": [
      "torch.Size([10, 1, 100, 100])\n"
     ]
    }
   ],
   "source": [
    "print (log_proba.shape)"
   ]
  },
  {
   "cell_type": "code",
   "execution_count": null,
   "id": "cb08c9c6",
   "metadata": {},
   "outputs": [],
   "source": []
  }
 ],
 "metadata": {
  "kernelspec": {
   "display_name": "Python 3 (ipykernel)",
   "language": "python",
   "name": "python3"
  },
  "language_info": {
   "codemirror_mode": {
    "name": "ipython",
    "version": 3
   },
   "file_extension": ".py",
   "mimetype": "text/x-python",
   "name": "python",
   "nbconvert_exporter": "python",
   "pygments_lexer": "ipython3",
   "version": "3.10.4"
  }
 },
 "nbformat": 4,
 "nbformat_minor": 5
}
