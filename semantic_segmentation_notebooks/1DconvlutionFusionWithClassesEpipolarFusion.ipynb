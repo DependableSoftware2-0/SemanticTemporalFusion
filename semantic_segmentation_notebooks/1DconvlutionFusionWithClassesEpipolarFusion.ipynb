{
 "cells": [
  {
   "cell_type": "code",
   "execution_count": 1,
   "id": "1ffae592",
   "metadata": {},
   "outputs": [],
   "source": [
    "%load_ext autoreload\n",
    "%autoreload 2"
   ]
  },
  {
   "cell_type": "code",
   "execution_count": 2,
   "id": "98b6d397",
   "metadata": {},
   "outputs": [],
   "source": [
    "import pytorch_lightning as pl\n",
    "import segmentation_models_pytorch as smp\n",
    "import h5py\n",
    "import torch \n",
    "import torch.nn.functional as F\n",
    "#from torch.nn.functional import interpolate\n",
    "\n",
    "from torch.utils.data import DataLoader\n",
    "\n",
    "import evidence_loss\n",
    "import dataloader_utils\n",
    "import uncertain_fusion\n",
    "import epipolar_geometry\n",
    "\n",
    "from sklearn.metrics import ConfusionMatrixDisplay\n",
    "from torchmetrics import ConfusionMatrix\n",
    "\n",
    "import numpy as np"
   ]
  },
  {
   "cell_type": "markdown",
   "id": "4410dfc5",
   "metadata": {},
   "source": [
    "## Lightning model definition"
   ]
  },
  {
   "cell_type": "code",
   "execution_count": 3,
   "id": "925ea8cb",
   "metadata": {},
   "outputs": [],
   "source": [
    "\n",
    "class SequenceRoboCup1DFusionModel(pl.LightningModule):\n",
    "\n",
    "    def __init__(self, arch, encoder_name, in_channels, out_classes, epipolar_propagation, **kwargs):\n",
    "        super().__init__()\n",
    "        self.model = smp.create_model(\n",
    "            arch, encoder_name=encoder_name, in_channels=in_channels, classes=out_classes, **kwargs\n",
    "        )\n",
    "\n",
    "        # preprocessing parameteres for image\n",
    "        params = smp.encoders.get_preprocessing_params(encoder_name)\n",
    "        self.register_buffer(\"std\", torch.tensor(params[\"std\"]).view(1, 3, 1, 1).to(self.device))\n",
    "        self.register_buffer(\"mean\", torch.tensor(params[\"mean\"]).view(1, 3, 1, 1).to(self.device))\n",
    "        self.n_classes = out_classes\n",
    "        \n",
    "        self.epoch = 0\n",
    "        self.ignore_class = 0.0 #ignore background class  fr loss function\n",
    "        \n",
    "        self.confmat = ConfusionMatrix(num_classes=out_classes, normalize='pred')\n",
    "        \n",
    "        self.epipolar_propagation = epipolar_propagation\n",
    "        \n",
    "        self.conv_1d = torch.nn.Conv2d(in_channels=2*self.n_classes, out_channels=self.n_classes, kernel_size=1)\n",
    "\n",
    "\n",
    "    def single_batch_forward(self, image):\n",
    "        # normalize image here\n",
    "        image = (image - self.mean) / self.std\n",
    "        mask = self.model(image)\n",
    "        return mask\n",
    "    \n",
    "    def forward(self, batch):\n",
    "        logits_mask0 = self.single_batch_forward( batch[\"image0\"])\n",
    "        propagate_mask0 = self.epipolar_propagation(logits_mask0, \n",
    "                                                     batch['depth0'], \n",
    "                                                     batch['translation_old_to_new_camera_frame'],\n",
    "                                                     batch['rotation_old_to_new_camera_frame'])\n",
    "        \n",
    "        logits_mask1 = self.single_batch_forward( batch[\"image1\"])\n",
    "      \n",
    "        logits_mask1 = torch.concat((propagate_mask0,logits_mask1), dim=1)\n",
    "        logits_mask1 = self.conv_1d(logits_mask1)\n",
    "        return logits_mask1\n",
    "        \n",
    "    def shared_step(self, batch, stage):\n",
    "        # Shape of the image should be (batch_size, num_channels, height, width)\n",
    "        # if you work with grayscale images, expand channels dim to have [batch_size, 1, height, width]\n",
    "        assert batch[\"image0\"].ndim == 4\n",
    "        \n",
    "        bs, num_channels, height, width = batch[\"image0\"].size()\n",
    "\n",
    "        # Check that image dimensions are divisible by 32, \n",
    "        # encoder and decoder connected by `skip connections` and usually encoder have 5 stages of \n",
    "        # downsampling by factor 2 (2 ^ 5 = 32); e.g. if we have image with shape 65x65 we will have \n",
    "        # following shapes of features in encoder and decoder: 84, 42, 21, 10, 5 -> 5, 10, 20, 40, 80\n",
    "        # and we will get an error trying to concat these features\n",
    "        assert height % 32 == 0 and width % 32 == 0\n",
    "\n",
    "    \n",
    "        # Shape of the mask should be [batch_size, num_classes, height, width]\n",
    "        # for binary segmentation num_classes = 1\n",
    "        assert batch[\"mask0\"].ndim == 4\n",
    "        assert batch[\"mask1\"].ndim == 4\n",
    "\n",
    "        # Check that mask values in between 0 and 1, NOT 0 and 255 for binary segmentation\n",
    "        assert batch[\"mask0\"].max() <= 255.0 and batch[\"mask0\"].min() >= 0\n",
    "        assert batch[\"mask1\"].max() <= 255.0 and batch[\"mask1\"].min() >= 0\n",
    "\n",
    "        \n",
    "        logits_mask1 = self.forward(batch)\n",
    "        \n",
    "        \n",
    "        #unroll the tensor to single tensor \n",
    "        mask1 = batch[\"mask1\"]\n",
    "        # [batch_size, 1, height, width] -> [batch_size*height*width]\n",
    "        mask1 = torch.ravel(mask1)      \n",
    "        #Remove pixels exculding the background loss function\n",
    "        idx_only_objects = (mask1 != self.ignore_class)\n",
    "        # Predicted mask contains logits, and loss_fn param `from_logits` is set to True       \n",
    "        mask1 = F.one_hot(mask1.long(), self.n_classes)  # [batch_size*height*width] -> [batch_size*height*width, n_classes]\n",
    "        \n",
    "        # [batch_size, n_classes, height, width] -> [batch_size,n_classes, height*width]\n",
    "        logits_mask1 = logits_mask1.view(bs, self.n_classes, -1)\n",
    "        #propagate_mask0 = propagate_mask0.view(bs, self.n_classes, -1)\n",
    "        # [batch_size,n_classes, height*width] -> [batch_size, height*width, n_classes]\n",
    "        logits_mask1 = logits_mask1.permute(0,2,1)\n",
    "        #propagate_mask0 = propagate_mask0.permute(0,2,1)\n",
    "        # [batch_size, height*width, n_classes] -> [batch_size*height*width, n_classes]\n",
    "        logits_mask1 = logits_mask1.reshape_as(mask1)        \n",
    "        #propagate_mask0 = propagate_mask0.reshape_as(mask1)        \n",
    "        \n",
    "        #Fluctute between all loss and only objects loss excluding bakground\n",
    "        if (stage == \"train\"):\n",
    "            if self.epoch % 2 == 0:\n",
    "                loss = evidence_loss.edl_mse_loss(logits_mask1, mask1, self.epoch, self.n_classes, 10)\n",
    "            else:\n",
    "                loss = evidence_loss.edl_mse_loss(logits_mask1[idx_only_objects], mask1[idx_only_objects], self.epoch, self.n_classes, 10)\n",
    "        else:\n",
    "            loss = evidence_loss.edl_mse_loss(logits_mask1[idx_only_objects], \n",
    "                                              mask1[idx_only_objects], \n",
    "                                              self.epoch, self.n_classes, 10)\n",
    "\n",
    "     \n",
    "            \n",
    "        # Lets compute metrics for some threshold\n",
    "        # first convert mask values to probabilities, then \n",
    "        # apply thresholding\n",
    "        logits_mask1 = torch.nn.functional.relu(logits_mask1) +  1\n",
    "        pred_mask = logits_mask1.argmax(dim=1, keepdim=True)\n",
    "         \n",
    "        #Changing back to original dimension for metrics calculation\n",
    "        mask1 = mask1.argmax(dim=1, keepdim=True)\n",
    "        \n",
    "        \n",
    "        \n",
    "        #Confusion matrix calculation\n",
    "        confusion_matrix = self.confmat(pred_mask, mask1)\n",
    "        \n",
    "        pred_mask = pred_mask.reshape(bs, 1, height, width )\n",
    "        mask1 = mask1.reshape(bs, 1, height, width)\n",
    "        \n",
    "        # We will compute IoU metric by two ways\n",
    "        #   1. dataset-wise\n",
    "        #   2. image-wise\n",
    "        # but for now we just compute true positive, false positive, false negative and\n",
    "        # true negative 'pixels' for each image and class\n",
    "        # these values will be aggregated in the end of an epoch\n",
    "        tp, fp, fn, tn = smp.metrics.get_stats(pred_mask.long(),\n",
    "                                               mask1.long(), \n",
    "                                               mode=\"multiclass\", \n",
    "                                               num_classes=self.n_classes)\n",
    "       \n",
    "        return {\n",
    "            \"loss\": loss,\n",
    "            \"tp\": tp,\n",
    "            \"fp\": fp,\n",
    "            \"fn\": fn,\n",
    "            \"tn\": tn,\n",
    "            \"confusion_matrix\":confusion_matrix\n",
    "        }\n",
    "\n",
    "    def shared_epoch_end(self, outputs, stage):\n",
    "        # aggregate step metics\n",
    "        tp = torch.cat([x[\"tp\"] for x in outputs])\n",
    "        fp = torch.cat([x[\"fp\"] for x in outputs])\n",
    "        fn = torch.cat([x[\"fn\"] for x in outputs])\n",
    "        tn = torch.cat([x[\"tn\"] for x in outputs])\n",
    "\n",
    "        # per image IoU means that we first calculate IoU score for each image \n",
    "        # and then compute mean over these scores\n",
    "        per_image_iou = smp.metrics.iou_score(tp, fp, fn, tn, reduction=\"micro-imagewise\")\n",
    "        \n",
    "        # dataset IoU means that we aggregate intersection and union over whole dataset\n",
    "        # and then compute IoU score. The difference between dataset_iou and per_image_iou scores\n",
    "        # in this particular case will not be much, however for dataset \n",
    "        # with \"empty\" images (images without target class) a large gap could be observed. \n",
    "        # Empty images influence a lot on per_image_iou and much less on dataset_iou.\n",
    "        dataset_iou = smp.metrics.iou_score(tp, fp, fn, tn, reduction=\"micro\")\n",
    "        \n",
    "        # then compute metrics with required reduction (see metric docs)\n",
    "        f1_score = smp.metrics.f1_score(tp, fp, fn, tn, reduction=\"micro\")\n",
    "        f2_score = smp.metrics.fbeta_score(tp, fp, fn, tn, beta=2, reduction=\"micro\")\n",
    "        accuracy = smp.metrics.accuracy(tp, fp, fn, tn, reduction=\"macro\")\n",
    "        recall = smp.metrics.recall(tp, fp, fn, tn, reduction=\"micro-imagewise\")\n",
    "        # aggregate step metics\n",
    "        loss = [x[\"loss\"].item() for x in outputs]\n",
    "        \n",
    "        #confusion matrix sum\n",
    "        self.cm = torch.sum(torch.stack([x[\"confusion_matrix\"] for x in outputs]), dim=0)\n",
    "\n",
    "        metrics = {\n",
    "            f\"{stage}_per_image_iou\": per_image_iou,\n",
    "            f\"{stage}_dataset_iou\": dataset_iou,\n",
    "            f\"{stage}_evidential_loss\": np.mean(loss)\n",
    "        }\n",
    "        \n",
    "        self.log_dict(metrics, prog_bar=True)\n",
    "        self.epoch += 1\n",
    "\n",
    "    def training_step(self, batch, batch_idx):\n",
    "        return self.shared_step(batch, \"train\")            \n",
    "\n",
    "    def training_epoch_end(self, outputs):\n",
    "        return self.shared_epoch_end(outputs, \"train\")\n",
    "\n",
    "    def validation_step(self, batch, batch_idx):\n",
    "        return self.shared_step(batch, \"valid\")\n",
    "\n",
    "    def validation_epoch_end(self, outputs):\n",
    "        return self.shared_epoch_end(outputs, \"valid\")\n",
    "\n",
    "    def test_step(self, batch, batch_idx):\n",
    "        return self.shared_step(batch, \"test\")  \n",
    "\n",
    "    def test_epoch_end(self, outputs):\n",
    "        return self.shared_epoch_end(outputs, \"test\")\n",
    "\n",
    "    def configure_optimizers(self):\n",
    "        return torch.optim.Adam(self.parameters(), lr=0.0001)"
   ]
  },
  {
   "cell_type": "markdown",
   "id": "b1417782",
   "metadata": {},
   "source": [
    "## Dataloader"
   ]
  },
  {
   "cell_type": "code",
   "execution_count": 4,
   "id": "73be76a6",
   "metadata": {},
   "outputs": [
    {
     "name": "stdout",
     "output_type": "stream",
     "text": [
      "Found 534 files in the folder\n",
      "Found 356 two image sequences \n",
      "filename  330.hdf5\n"
     ]
    }
   ],
   "source": [
    "root = '../learning_blenerproc/images_robocup/'\n",
    "\n",
    "train_dataset = dataloader_utils.SequenceRoboCupDataset(root, \"two_sequence\")\n",
    "train_dataloader = DataLoader(train_dataset, batch_size=10, shuffle=True, num_workers=int(16/2))\n"
   ]
  },
  {
   "cell_type": "code",
   "execution_count": 5,
   "id": "b0a65ab7",
   "metadata": {},
   "outputs": [
    {
     "name": "stdout",
     "output_type": "stream",
     "text": [
      "Found 150 files in the folder\n",
      "Found 100 two image sequences \n",
      "filename  0000.hdf5\n"
     ]
    }
   ],
   "source": [
    "root = '../learning_blenerproc/images_pose_robocup/'\n",
    "\n",
    "valid_dataset = dataloader_utils.SequenceRoboCupDataset(root, \"two_sequence\")\n",
    "valid_dataloader = DataLoader(valid_dataset, batch_size=2, shuffle=False, num_workers=int(16/2))\n",
    "\n"
   ]
  },
  {
   "cell_type": "code",
   "execution_count": 6,
   "id": "ec917bc2",
   "metadata": {},
   "outputs": [
    {
     "name": "stdout",
     "output_type": "stream",
     "text": [
      "cuda\n"
     ]
    }
   ],
   "source": [
    "epipolar_propagation = epipolar_geometry.EpipolarPropagation(valid_dataset.K, \n",
    "                                           valid_dataset.Kinv, \n",
    "                                           valid_dataset.height, \n",
    "                                           valid_dataset.width, \n",
    "                                           fill_empty_with_ones=False)\n"
   ]
  },
  {
   "cell_type": "code",
   "execution_count": 9,
   "id": "362a9e7c",
   "metadata": {},
   "outputs": [],
   "source": [
    "model = SequenceRoboCup1DFusionModel(\"FPN\", \"timm-mobilenetv3_small_minimal_100\", \n",
    "                             in_channels=3, out_classes=6,\n",
    "                            epipolar_propagation=epipolar_propagation)\n",
    "#model.model = torch.load('uncertain_semantic_mobilenetv3_200epoch.pt')\n",
    "model.model = torch.load('uncertain_semantic_mobilenetv3_fusion.pt')\n",
    "model.model = model.model.requires_grad_(False)\n"
   ]
  },
  {
   "cell_type": "code",
   "execution_count": 10,
   "id": "2450f639",
   "metadata": {},
   "outputs": [
    {
     "name": "stderr",
     "output_type": "stream",
     "text": [
      "GPU available: True, used: True\n",
      "TPU available: False, using: 0 TPU cores\n",
      "IPU available: False, using: 0 IPUs\n",
      "LOCAL_RANK: 0 - CUDA_VISIBLE_DEVICES: [0]\n",
      "\n",
      "  | Name                 | Type                | Params\n",
      "-------------------------------------------------------------\n",
      "0 | model                | FPN                 | 2.2 M \n",
      "1 | confmat              | ConfusionMatrix     | 0     \n",
      "2 | epipolar_propagation | EpipolarPropagation | 0     \n",
      "3 | conv_1d              | Conv2d              | 78    \n",
      "-------------------------------------------------------------\n",
      "78        Trainable params\n",
      "2.2 M     Non-trainable params\n",
      "2.2 M     Total params\n",
      "8.898     Total estimated model params size (MB)\n"
     ]
    },
    {
     "data": {
      "application/vnd.jupyter.widget-view+json": {
       "model_id": "",
       "version_major": 2,
       "version_minor": 0
      },
      "text/plain": [
       "Validation sanity check: 0it [00:00, ?it/s]"
      ]
     },
     "metadata": {},
     "output_type": "display_data"
    },
    {
     "name": "stderr",
     "output_type": "stream",
     "text": [
      "/home/deebuls/miniconda3/envs/pytorch/lib/python3.9/site-packages/pytorch_lightning/trainer/data_loading.py:407: UserWarning: The number of training samples (36) is smaller than the logging interval Trainer(log_every_n_steps=50). Set a lower value for log_every_n_steps if you want to see logs for the training epoch.\n",
      "  rank_zero_warn(\n"
     ]
    },
    {
     "data": {
      "application/vnd.jupyter.widget-view+json": {
       "model_id": "bd23b61201b14e0996f51b8fe376bb81",
       "version_major": 2,
       "version_minor": 0
      },
      "text/plain": [
       "Training: 0it [00:00, ?it/s]"
      ]
     },
     "metadata": {},
     "output_type": "display_data"
    },
    {
     "data": {
      "application/vnd.jupyter.widget-view+json": {
       "model_id": "",
       "version_major": 2,
       "version_minor": 0
      },
      "text/plain": [
       "Validating: 0it [00:00, ?it/s]"
      ]
     },
     "metadata": {},
     "output_type": "display_data"
    },
    {
     "data": {
      "application/vnd.jupyter.widget-view+json": {
       "model_id": "",
       "version_major": 2,
       "version_minor": 0
      },
      "text/plain": [
       "Validating: 0it [00:00, ?it/s]"
      ]
     },
     "metadata": {},
     "output_type": "display_data"
    },
    {
     "data": {
      "application/vnd.jupyter.widget-view+json": {
       "model_id": "",
       "version_major": 2,
       "version_minor": 0
      },
      "text/plain": [
       "Validating: 0it [00:00, ?it/s]"
      ]
     },
     "metadata": {},
     "output_type": "display_data"
    },
    {
     "data": {
      "application/vnd.jupyter.widget-view+json": {
       "model_id": "",
       "version_major": 2,
       "version_minor": 0
      },
      "text/plain": [
       "Validating: 0it [00:00, ?it/s]"
      ]
     },
     "metadata": {},
     "output_type": "display_data"
    },
    {
     "data": {
      "application/vnd.jupyter.widget-view+json": {
       "model_id": "",
       "version_major": 2,
       "version_minor": 0
      },
      "text/plain": [
       "Validating: 0it [00:00, ?it/s]"
      ]
     },
     "metadata": {},
     "output_type": "display_data"
    },
    {
     "data": {
      "application/vnd.jupyter.widget-view+json": {
       "model_id": "",
       "version_major": 2,
       "version_minor": 0
      },
      "text/plain": [
       "Validating: 0it [00:00, ?it/s]"
      ]
     },
     "metadata": {},
     "output_type": "display_data"
    },
    {
     "data": {
      "application/vnd.jupyter.widget-view+json": {
       "model_id": "",
       "version_major": 2,
       "version_minor": 0
      },
      "text/plain": [
       "Validating: 0it [00:00, ?it/s]"
      ]
     },
     "metadata": {},
     "output_type": "display_data"
    },
    {
     "data": {
      "application/vnd.jupyter.widget-view+json": {
       "model_id": "",
       "version_major": 2,
       "version_minor": 0
      },
      "text/plain": [
       "Validating: 0it [00:00, ?it/s]"
      ]
     },
     "metadata": {},
     "output_type": "display_data"
    },
    {
     "data": {
      "application/vnd.jupyter.widget-view+json": {
       "model_id": "",
       "version_major": 2,
       "version_minor": 0
      },
      "text/plain": [
       "Validating: 0it [00:00, ?it/s]"
      ]
     },
     "metadata": {},
     "output_type": "display_data"
    },
    {
     "data": {
      "application/vnd.jupyter.widget-view+json": {
       "model_id": "",
       "version_major": 2,
       "version_minor": 0
      },
      "text/plain": [
       "Validating: 0it [00:00, ?it/s]"
      ]
     },
     "metadata": {},
     "output_type": "display_data"
    },
    {
     "data": {
      "application/vnd.jupyter.widget-view+json": {
       "model_id": "",
       "version_major": 2,
       "version_minor": 0
      },
      "text/plain": [
       "Validating: 0it [00:00, ?it/s]"
      ]
     },
     "metadata": {},
     "output_type": "display_data"
    },
    {
     "data": {
      "application/vnd.jupyter.widget-view+json": {
       "model_id": "",
       "version_major": 2,
       "version_minor": 0
      },
      "text/plain": [
       "Validating: 0it [00:00, ?it/s]"
      ]
     },
     "metadata": {},
     "output_type": "display_data"
    },
    {
     "data": {
      "application/vnd.jupyter.widget-view+json": {
       "model_id": "",
       "version_major": 2,
       "version_minor": 0
      },
      "text/plain": [
       "Validating: 0it [00:00, ?it/s]"
      ]
     },
     "metadata": {},
     "output_type": "display_data"
    },
    {
     "data": {
      "application/vnd.jupyter.widget-view+json": {
       "model_id": "",
       "version_major": 2,
       "version_minor": 0
      },
      "text/plain": [
       "Validating: 0it [00:00, ?it/s]"
      ]
     },
     "metadata": {},
     "output_type": "display_data"
    },
    {
     "data": {
      "application/vnd.jupyter.widget-view+json": {
       "model_id": "",
       "version_major": 2,
       "version_minor": 0
      },
      "text/plain": [
       "Validating: 0it [00:00, ?it/s]"
      ]
     },
     "metadata": {},
     "output_type": "display_data"
    },
    {
     "data": {
      "application/vnd.jupyter.widget-view+json": {
       "model_id": "",
       "version_major": 2,
       "version_minor": 0
      },
      "text/plain": [
       "Validating: 0it [00:00, ?it/s]"
      ]
     },
     "metadata": {},
     "output_type": "display_data"
    },
    {
     "data": {
      "application/vnd.jupyter.widget-view+json": {
       "model_id": "",
       "version_major": 2,
       "version_minor": 0
      },
      "text/plain": [
       "Validating: 0it [00:00, ?it/s]"
      ]
     },
     "metadata": {},
     "output_type": "display_data"
    },
    {
     "data": {
      "application/vnd.jupyter.widget-view+json": {
       "model_id": "",
       "version_major": 2,
       "version_minor": 0
      },
      "text/plain": [
       "Validating: 0it [00:00, ?it/s]"
      ]
     },
     "metadata": {},
     "output_type": "display_data"
    },
    {
     "data": {
      "application/vnd.jupyter.widget-view+json": {
       "model_id": "",
       "version_major": 2,
       "version_minor": 0
      },
      "text/plain": [
       "Validating: 0it [00:00, ?it/s]"
      ]
     },
     "metadata": {},
     "output_type": "display_data"
    },
    {
     "data": {
      "application/vnd.jupyter.widget-view+json": {
       "model_id": "",
       "version_major": 2,
       "version_minor": 0
      },
      "text/plain": [
       "Validating: 0it [00:00, ?it/s]"
      ]
     },
     "metadata": {},
     "output_type": "display_data"
    },
    {
     "data": {
      "application/vnd.jupyter.widget-view+json": {
       "model_id": "",
       "version_major": 2,
       "version_minor": 0
      },
      "text/plain": [
       "Validating: 0it [00:00, ?it/s]"
      ]
     },
     "metadata": {},
     "output_type": "display_data"
    },
    {
     "data": {
      "application/vnd.jupyter.widget-view+json": {
       "model_id": "",
       "version_major": 2,
       "version_minor": 0
      },
      "text/plain": [
       "Validating: 0it [00:00, ?it/s]"
      ]
     },
     "metadata": {},
     "output_type": "display_data"
    },
    {
     "data": {
      "application/vnd.jupyter.widget-view+json": {
       "model_id": "",
       "version_major": 2,
       "version_minor": 0
      },
      "text/plain": [
       "Validating: 0it [00:00, ?it/s]"
      ]
     },
     "metadata": {},
     "output_type": "display_data"
    },
    {
     "data": {
      "application/vnd.jupyter.widget-view+json": {
       "model_id": "",
       "version_major": 2,
       "version_minor": 0
      },
      "text/plain": [
       "Validating: 0it [00:00, ?it/s]"
      ]
     },
     "metadata": {},
     "output_type": "display_data"
    },
    {
     "data": {
      "application/vnd.jupyter.widget-view+json": {
       "model_id": "",
       "version_major": 2,
       "version_minor": 0
      },
      "text/plain": [
       "Validating: 0it [00:00, ?it/s]"
      ]
     },
     "metadata": {},
     "output_type": "display_data"
    },
    {
     "data": {
      "application/vnd.jupyter.widget-view+json": {
       "model_id": "",
       "version_major": 2,
       "version_minor": 0
      },
      "text/plain": [
       "Validating: 0it [00:00, ?it/s]"
      ]
     },
     "metadata": {},
     "output_type": "display_data"
    },
    {
     "data": {
      "application/vnd.jupyter.widget-view+json": {
       "model_id": "",
       "version_major": 2,
       "version_minor": 0
      },
      "text/plain": [
       "Validating: 0it [00:00, ?it/s]"
      ]
     },
     "metadata": {},
     "output_type": "display_data"
    },
    {
     "data": {
      "application/vnd.jupyter.widget-view+json": {
       "model_id": "",
       "version_major": 2,
       "version_minor": 0
      },
      "text/plain": [
       "Validating: 0it [00:00, ?it/s]"
      ]
     },
     "metadata": {},
     "output_type": "display_data"
    },
    {
     "data": {
      "application/vnd.jupyter.widget-view+json": {
       "model_id": "",
       "version_major": 2,
       "version_minor": 0
      },
      "text/plain": [
       "Validating: 0it [00:00, ?it/s]"
      ]
     },
     "metadata": {},
     "output_type": "display_data"
    },
    {
     "data": {
      "application/vnd.jupyter.widget-view+json": {
       "model_id": "",
       "version_major": 2,
       "version_minor": 0
      },
      "text/plain": [
       "Validating: 0it [00:00, ?it/s]"
      ]
     },
     "metadata": {},
     "output_type": "display_data"
    },
    {
     "data": {
      "application/vnd.jupyter.widget-view+json": {
       "model_id": "",
       "version_major": 2,
       "version_minor": 0
      },
      "text/plain": [
       "Validating: 0it [00:00, ?it/s]"
      ]
     },
     "metadata": {},
     "output_type": "display_data"
    },
    {
     "data": {
      "application/vnd.jupyter.widget-view+json": {
       "model_id": "",
       "version_major": 2,
       "version_minor": 0
      },
      "text/plain": [
       "Validating: 0it [00:00, ?it/s]"
      ]
     },
     "metadata": {},
     "output_type": "display_data"
    },
    {
     "data": {
      "application/vnd.jupyter.widget-view+json": {
       "model_id": "",
       "version_major": 2,
       "version_minor": 0
      },
      "text/plain": [
       "Validating: 0it [00:00, ?it/s]"
      ]
     },
     "metadata": {},
     "output_type": "display_data"
    },
    {
     "data": {
      "application/vnd.jupyter.widget-view+json": {
       "model_id": "",
       "version_major": 2,
       "version_minor": 0
      },
      "text/plain": [
       "Validating: 0it [00:00, ?it/s]"
      ]
     },
     "metadata": {},
     "output_type": "display_data"
    },
    {
     "data": {
      "application/vnd.jupyter.widget-view+json": {
       "model_id": "",
       "version_major": 2,
       "version_minor": 0
      },
      "text/plain": [
       "Validating: 0it [00:00, ?it/s]"
      ]
     },
     "metadata": {},
     "output_type": "display_data"
    },
    {
     "data": {
      "application/vnd.jupyter.widget-view+json": {
       "model_id": "",
       "version_major": 2,
       "version_minor": 0
      },
      "text/plain": [
       "Validating: 0it [00:00, ?it/s]"
      ]
     },
     "metadata": {},
     "output_type": "display_data"
    },
    {
     "data": {
      "application/vnd.jupyter.widget-view+json": {
       "model_id": "",
       "version_major": 2,
       "version_minor": 0
      },
      "text/plain": [
       "Validating: 0it [00:00, ?it/s]"
      ]
     },
     "metadata": {},
     "output_type": "display_data"
    },
    {
     "data": {
      "application/vnd.jupyter.widget-view+json": {
       "model_id": "",
       "version_major": 2,
       "version_minor": 0
      },
      "text/plain": [
       "Validating: 0it [00:00, ?it/s]"
      ]
     },
     "metadata": {},
     "output_type": "display_data"
    },
    {
     "data": {
      "application/vnd.jupyter.widget-view+json": {
       "model_id": "",
       "version_major": 2,
       "version_minor": 0
      },
      "text/plain": [
       "Validating: 0it [00:00, ?it/s]"
      ]
     },
     "metadata": {},
     "output_type": "display_data"
    },
    {
     "data": {
      "application/vnd.jupyter.widget-view+json": {
       "model_id": "",
       "version_major": 2,
       "version_minor": 0
      },
      "text/plain": [
       "Validating: 0it [00:00, ?it/s]"
      ]
     },
     "metadata": {},
     "output_type": "display_data"
    },
    {
     "data": {
      "application/vnd.jupyter.widget-view+json": {
       "model_id": "",
       "version_major": 2,
       "version_minor": 0
      },
      "text/plain": [
       "Validating: 0it [00:00, ?it/s]"
      ]
     },
     "metadata": {},
     "output_type": "display_data"
    },
    {
     "data": {
      "application/vnd.jupyter.widget-view+json": {
       "model_id": "",
       "version_major": 2,
       "version_minor": 0
      },
      "text/plain": [
       "Validating: 0it [00:00, ?it/s]"
      ]
     },
     "metadata": {},
     "output_type": "display_data"
    },
    {
     "data": {
      "application/vnd.jupyter.widget-view+json": {
       "model_id": "",
       "version_major": 2,
       "version_minor": 0
      },
      "text/plain": [
       "Validating: 0it [00:00, ?it/s]"
      ]
     },
     "metadata": {},
     "output_type": "display_data"
    },
    {
     "data": {
      "application/vnd.jupyter.widget-view+json": {
       "model_id": "",
       "version_major": 2,
       "version_minor": 0
      },
      "text/plain": [
       "Validating: 0it [00:00, ?it/s]"
      ]
     },
     "metadata": {},
     "output_type": "display_data"
    },
    {
     "data": {
      "application/vnd.jupyter.widget-view+json": {
       "model_id": "",
       "version_major": 2,
       "version_minor": 0
      },
      "text/plain": [
       "Validating: 0it [00:00, ?it/s]"
      ]
     },
     "metadata": {},
     "output_type": "display_data"
    },
    {
     "data": {
      "application/vnd.jupyter.widget-view+json": {
       "model_id": "",
       "version_major": 2,
       "version_minor": 0
      },
      "text/plain": [
       "Validating: 0it [00:00, ?it/s]"
      ]
     },
     "metadata": {},
     "output_type": "display_data"
    },
    {
     "data": {
      "application/vnd.jupyter.widget-view+json": {
       "model_id": "",
       "version_major": 2,
       "version_minor": 0
      },
      "text/plain": [
       "Validating: 0it [00:00, ?it/s]"
      ]
     },
     "metadata": {},
     "output_type": "display_data"
    },
    {
     "data": {
      "application/vnd.jupyter.widget-view+json": {
       "model_id": "",
       "version_major": 2,
       "version_minor": 0
      },
      "text/plain": [
       "Validating: 0it [00:00, ?it/s]"
      ]
     },
     "metadata": {},
     "output_type": "display_data"
    },
    {
     "data": {
      "application/vnd.jupyter.widget-view+json": {
       "model_id": "",
       "version_major": 2,
       "version_minor": 0
      },
      "text/plain": [
       "Validating: 0it [00:00, ?it/s]"
      ]
     },
     "metadata": {},
     "output_type": "display_data"
    },
    {
     "data": {
      "application/vnd.jupyter.widget-view+json": {
       "model_id": "",
       "version_major": 2,
       "version_minor": 0
      },
      "text/plain": [
       "Validating: 0it [00:00, ?it/s]"
      ]
     },
     "metadata": {},
     "output_type": "display_data"
    }
   ],
   "source": [
    "trainer = pl.Trainer(\n",
    "    gpus=1, \n",
    "    max_epochs=50,\n",
    ")\n",
    "\n",
    "trainer.fit(\n",
    "    model, \n",
    "    train_dataloaders=train_dataloader, \n",
    "    val_dataloaders=valid_dataloader,\n",
    ")\n",
    "# run validation dataset\n",
    "#valid_metrics = trainer.validate(model, dataloaders=valid_dataloader, verbose=False)\n",
    "#print(valid_metrics)\n",
    "#pprint(valid_metrics)"
   ]
  },
  {
   "cell_type": "code",
   "execution_count": 11,
   "id": "2fb8d221",
   "metadata": {},
   "outputs": [],
   "source": [
    "cm = model.cm.cpu().detach().numpy()\n",
    "cm = cm.astype('float') / cm.sum(axis=1)[:, np.newaxis]\n",
    "\n"
   ]
  },
  {
   "cell_type": "code",
   "execution_count": 12,
   "id": "815990e1",
   "metadata": {},
   "outputs": [
    {
     "data": {
      "image/png": "[encoded data removed]",
      "text/plain": [
       "<Figure size 576x576 with 2 Axes>"
      ]
     },
     "metadata": {
      "needs_background": "light"
     },
     "output_type": "display_data"
    }
   ],
   "source": [
    "from sklearn.metrics import confusion_matrix, ConfusionMatrixDisplay\n",
    "import matplotlib.pyplot as plt\n",
    "\n",
    "disp = ConfusionMatrixDisplay(cm, display_labels=list(valid_dataset.class_names.values()))\n",
    "fig, ax = plt.subplots(figsize=(8,8))\n",
    "disp.plot(ax=ax)\n",
    "plt.show()"
   ]
  },
  {
   "cell_type": "code",
   "execution_count": 13,
   "id": "9244b29d",
   "metadata": {},
   "outputs": [
    {
     "name": "stderr",
     "output_type": "stream",
     "text": [
      "LOCAL_RANK: 0 - CUDA_VISIBLE_DEVICES: [0]\n"
     ]
    },
    {
     "data": {
      "application/vnd.jupyter.widget-view+json": {
       "model_id": "",
       "version_major": 2,
       "version_minor": 0
      },
      "text/plain": [
       "Validating: 0it [00:00, ?it/s]"
      ]
     },
     "metadata": {},
     "output_type": "display_data"
    },
    {
     "name": "stdout",
     "output_type": "stream",
     "text": [
      "[{'valid_per_image_iou': 0.6307293176651001, 'valid_dataset_iou': 0.624743640422821, 'valid_evidential_loss': 1.2011655569076538}]\n"
     ]
    },
    {
     "ename": "NameError",
     "evalue": "name 'pprint' is not defined",
     "output_type": "error",
     "traceback": [
      "\u001b[0;31m---------------------------------------------------------------------------\u001b[0m",
      "\u001b[0;31mNameError\u001b[0m                                 Traceback (most recent call last)",
      "\u001b[0;32m/tmp/ipykernel_193392/3679118822.py\u001b[0m in \u001b[0;36m<module>\u001b[0;34m\u001b[0m\n\u001b[1;32m      2\u001b[0m \u001b[0mvalid_metrics\u001b[0m \u001b[0;34m=\u001b[0m \u001b[0mtrainer\u001b[0m\u001b[0;34m.\u001b[0m\u001b[0mvalidate\u001b[0m\u001b[0;34m(\u001b[0m\u001b[0mmodel\u001b[0m\u001b[0;34m,\u001b[0m \u001b[0mdataloaders\u001b[0m\u001b[0;34m=\u001b[0m\u001b[0mvalid_dataloader\u001b[0m\u001b[0;34m,\u001b[0m \u001b[0mverbose\u001b[0m\u001b[0;34m=\u001b[0m\u001b[0;32mFalse\u001b[0m\u001b[0;34m)\u001b[0m\u001b[0;34m\u001b[0m\u001b[0;34m\u001b[0m\u001b[0m\n\u001b[1;32m      3\u001b[0m \u001b[0mprint\u001b[0m\u001b[0;34m(\u001b[0m\u001b[0mvalid_metrics\u001b[0m\u001b[0;34m)\u001b[0m\u001b[0;34m\u001b[0m\u001b[0;34m\u001b[0m\u001b[0m\n\u001b[0;32m----> 4\u001b[0;31m \u001b[0mpprint\u001b[0m\u001b[0;34m(\u001b[0m\u001b[0mvalid_metrics\u001b[0m\u001b[0;34m)\u001b[0m\u001b[0;34m\u001b[0m\u001b[0;34m\u001b[0m\u001b[0m\n\u001b[0m",
      "\u001b[0;31mNameError\u001b[0m: name 'pprint' is not defined"
     ]
    }
   ],
   "source": [
    "# run validation dataset\n",
    "valid_metrics = trainer.validate(model, dataloaders=valid_dataloader, verbose=False)\n",
    "print(valid_metrics)\n",
    "pprint(valid_metrics)"
   ]
  },
  {
   "cell_type": "code",
   "execution_count": 14,
   "id": "21d86f58",
   "metadata": {},
   "outputs": [
    {
     "data": {
      "image/png": "[encoded data removed]",
      "text/plain": [
       "<Figure size 576x576 with 2 Axes>"
      ]
     },
     "metadata": {
      "needs_background": "light"
     },
     "output_type": "display_data"
    }
   ],
   "source": [
    "cm = model.cm.cpu().detach().numpy()\n",
    "cm = cm.astype('float') / cm.sum(axis=1)[:, np.newaxis]\n",
    "disp = ConfusionMatrixDisplay(cm, display_labels=list(valid_dataset.class_names.values()))\n",
    "fig, ax = plt.subplots(figsize=(8,8))\n",
    "disp.plot(ax=ax)\n",
    "plt.show()"
   ]
  },
  {
   "cell_type": "code",
   "execution_count": null,
   "id": "c1c0f842",
   "metadata": {},
   "outputs": [],
   "source": []
  },
  {
   "cell_type": "code",
   "execution_count": 16,
   "id": "0cc7b215",
   "metadata": {
    "scrolled": false
   },
   "outputs": [
    {
     "name": "stdout",
     "output_type": "stream",
     "text": [
      "Max confidence per batch :  torch.return_types.max(\n",
      "values=tensor([83.6404, 98.3470], device='cuda:0', grad_fn=<MaxBackward0>),\n",
      "indices=tensor([1282651,  434505], device='cuda:0'))\n",
      "Max uncertainty per batch :  torch.return_types.max(\n",
      "values=tensor([1., 1.], device='cuda:0', grad_fn=<MaxBackward0>),\n",
      "indices=tensor([0, 0], device='cuda:0'))\n",
      "torch.Size([2, 1, 512, 512])\n"
     ]
    },
    {
     "data": {
      "image/png": "[encoded data removed]",
      "text/plain": [
       "<Figure size 720x360 with 3 Axes>"
      ]
     },
     "metadata": {
      "needs_background": "light"
     },
     "output_type": "display_data"
    },
    {
     "data": {
      "image/png": "[encoded data removed]",
      "text/plain": [
       "<Figure size 720x360 with 3 Axes>"
      ]
     },
     "metadata": {
      "needs_background": "light"
     },
     "output_type": "display_data"
    }
   ],
   "source": [
    "import matplotlib.pyplot as plt\n",
    "\n",
    "batch = next(iter(valid_dataloader))\n",
    "device = 'cuda'\n",
    "batch['image1'] = batch['image1'].to(device)\n",
    "batch['image0'] = batch['image0'].to(device)\n",
    "batch['mask1'] = batch['mask1'].to(device)\n",
    "batch['mask0'] = batch['mask0'].to(device)\n",
    "bs, dim, h, w = batch['image1'].shape\n",
    "model = model.to('cuda')\n",
    "logits_image1 = model(batch)\n",
    "logits_image1 = torch.nn.functional.relu(logits_image1) +  1\n",
    "sum_evidence = torch.sum(logits_image1, dim=1, keepdim=True)\n",
    "uncertainty = 6 / sum_evidence\n",
    "print (\"Max confidence per batch : \", torch.max(logits_image1.view(bs,-1), dim=1))\n",
    "print (\"Max uncertainty per batch : \", torch.max(uncertainty.view(bs,-1), dim=1))\n",
    "\n",
    "logits_image1 = logits_image1.argmax(dim=1, keepdim=True)\n",
    "print (logits_image1.shape)\n",
    "\n",
    "for prev_image, curr_image, uncert in zip(batch[\"mask1\"], logits_image1, uncertainty):\n",
    "    plt.figure(figsize=(10, 5))\n",
    "\n",
    "    plt.subplot(1, 3, 1)\n",
    "    data = prev_image.cpu().detach().numpy().squeeze()  # convert CHW -> HWC\n",
    "    data = np.ma.masked_where((0.0 == data), data)\n",
    "    plt.imshow(data, vmin=0, vmax=7)# just squeeze classes dim, because we have only one class\n",
    "    plt.title(\"Mask 1\")\n",
    "    #plt.axis(\"off\")\n",
    "\n",
    "    plt.subplot(1, 3, 2)\n",
    "    data = curr_image.cpu().detach().numpy().squeeze()  # convert CHW -> HWC\n",
    "    data = np.ma.masked_where((0.0 == data), data)\n",
    "    plt.imshow(data, vmin=0, vmax=7)# just squeeze classes dim, because we have only one class\n",
    "    plt.title(\"prediction\")\n",
    "\n",
    "    plt.subplot(1, 3, 3)\n",
    "    data = uncert.cpu().detach().numpy().squeeze()\n",
    "    plt.imshow(data)# just squeeze classes dim, because we have only one class\n",
    "    plt.title(\"uncertainty prediction\")\n",
    "    #plt.axis(\"off\")\n",
    "\n",
    "\n",
    "\n",
    "    plt.show()\n",
    "        \n",
    "        \n"
   ]
  },
  {
   "cell_type": "code",
   "execution_count": 1,
   "id": "fc14e540",
   "metadata": {},
   "outputs": [],
   "source": [
    "import torchvision"
   ]
  },
  {
   "cell_type": "code",
   "execution_count": 33,
   "id": "34970320",
   "metadata": {},
   "outputs": [],
   "source": [
    "# log sampled images\n",
    "sample_imgs = batch[\"mask1\"]\n",
    "grid = torchvision.utils.make_grid(sample_imgs)\n",
    "#self.logger.experiment.add_image('generated_images', grid, 0)"
   ]
  },
  {
   "cell_type": "markdown",
   "id": "77cc5558",
   "metadata": {},
   "source": [
    "## Dataloader on images_robocup folder with new images"
   ]
  },
  {
   "cell_type": "code",
   "execution_count": 18,
   "id": "d494db13",
   "metadata": {},
   "outputs": [
    {
     "name": "stdout",
     "output_type": "stream",
     "text": [
      "Found 534 files in the folder\n",
      "Found 356 two image sequences \n",
      "filename  330.hdf5\n"
     ]
    }
   ],
   "source": [
    "root = '../learning_blenerproc/images_robocup/'\n",
    "\n",
    "train_dataset = dataloader_utils.SequenceRoboCupDataset(root, \"two_sequence\")\n",
    "train_dataloader = DataLoader(train_dataset, batch_size=10, shuffle=True, num_workers=int(16/2))\n"
   ]
  },
  {
   "cell_type": "code",
   "execution_count": 49,
   "id": "fb3390e0",
   "metadata": {},
   "outputs": [],
   "source": [
    "for batch in valid_dataset:\n",
    "    pass\n"
   ]
  },
  {
   "cell_type": "code",
   "execution_count": null,
   "id": "9fa42ed3",
   "metadata": {},
   "outputs": [],
   "source": []
  },
  {
   "cell_type": "code",
   "execution_count": 40,
   "id": "8694c874",
   "metadata": {},
   "outputs": [
    {
     "data": {
      "image/png": "[encoded data removed]",
      "text/plain": [
       "<Figure size 720x360 with 2 Axes>"
      ]
     },
     "metadata": {
      "needs_background": "light"
     },
     "output_type": "display_data"
    },
    {
     "data": {
      "image/png": "[encoded data removed]",
      "text/plain": [
       "<Figure size 720x360 with 2 Axes>"
      ]
     },
     "metadata": {
      "needs_background": "light"
     },
     "output_type": "display_data"
    },
    {
     "data": {
      "image/png": "[encoded data removed]",
      "text/plain": [
       "<Figure size 720x360 with 2 Axes>"
      ]
     },
     "metadata": {
      "needs_background": "light"
     },
     "output_type": "display_data"
    },
    {
     "data": {
      "image/png": "[encoded data removed]",
      "text/plain": [
       "<Figure size 720x360 with 2 Axes>"
      ]
     },
     "metadata": {
      "needs_background": "light"
     },
     "output_type": "display_data"
    },
    {
     "data": {
      "image/png": "[encoded data removed]",
      "text/plain": [
       "<Figure size 720x360 with 2 Axes>"
      ]
     },
     "metadata": {
      "needs_background": "light"
     },
     "output_type": "display_data"
    },
    {
     "data": {
      "image/png": "[encoded data removed]",
      "text/plain": [
       "<Figure size 720x360 with 2 Axes>"
      ]
     },
     "metadata": {
      "needs_background": "light"
     },
     "output_type": "display_data"
    },
    {
     "data": {
      "image/png": "[encoded data removed]",
      "text/plain": [
       "<Figure size 720x360 with 2 Axes>"
      ]
     },
     "metadata": {
      "needs_background": "light"
     },
     "output_type": "display_data"
    },
    {
     "data": {
      "image/png": "[encoded data removed]",
      "text/plain": [
       "<Figure size 720x360 with 2 Axes>"
      ]
     },
     "metadata": {
      "needs_background": "light"
     },
     "output_type": "display_data"
    },
    {
     "data": {
      "image/png": "[encoded data removed]",
      "text/plain": [
       "<Figure size 720x360 with 2 Axes>"
      ]
     },
     "metadata": {
      "needs_background": "light"
     },
     "output_type": "display_data"
    },
    {
     "data": {
      "image/png": "[encoded data removed]",
      "text/plain": [
       "<Figure size 720x360 with 2 Axes>"
      ]
     },
     "metadata": {
      "needs_background": "light"
     },
     "output_type": "display_data"
    }
   ],
   "source": [
    "import matplotlib.pyplot as plt\n",
    "batch = next(iter(valid_dataloader))\n",
    "\n",
    "for prev_image, curr_image in zip(batch[\"mask0\"], batch[\"mask1\"]):\n",
    "    plt.figure(figsize=(10, 5))\n",
    "\n",
    "    plt.subplot(1, 3, 1)\n",
    "    data = prev_image.numpy().squeeze()  # convert CHW -> HWC\n",
    "    data = np.ma.masked_where((0.0 == data), data)\n",
    "    plt.imshow(data, vmin=0, vmax=7)# just squeeze classes dim, because we have only one class\n",
    "    plt.title(\"Mask 0\")\n",
    "    #plt.axis(\"off\")\n",
    "\n",
    "    plt.subplot(1, 3, 2)\n",
    "    data = curr_image.numpy().squeeze()  # convert CHW -> HWC\n",
    "    data = np.ma.masked_where((0.0 == data), data)\n",
    "    plt.imshow(data, vmin=0, vmax=7)# just squeeze classes dim, because we have only one class\n",
    "    plt.title(\"Mask 1\")\n",
    "    #plt.axis(\"off\")\n",
    "\n",
    "    \n",
    "  \n",
    "    plt.show()"
   ]
  },
  {
   "cell_type": "code",
   "execution_count": 30,
   "id": "c41e071d",
   "metadata": {},
   "outputs": [
    {
     "data": {
      "text/plain": [
       "[['330.hdf5', '331.hdf5'],\n",
       " ['331.hdf5', '332.hdf5'],\n",
       " ['333.hdf5', '334.hdf5'],\n",
       " ['334.hdf5', '335.hdf5'],\n",
       " ['336.hdf5', '337.hdf5'],\n",
       " ['337.hdf5', '338.hdf5'],\n",
       " ['339.hdf5', '340.hdf5'],\n",
       " ['340.hdf5', '341.hdf5'],\n",
       " ['342.hdf5', '343.hdf5'],\n",
       " ['343.hdf5', '344.hdf5'],\n",
       " ['345.hdf5', '346.hdf5'],\n",
       " ['346.hdf5', '347.hdf5'],\n",
       " ['348.hdf5', '349.hdf5'],\n",
       " ['349.hdf5', '350.hdf5'],\n",
       " ['351.hdf5', '352.hdf5'],\n",
       " ['352.hdf5', '353.hdf5'],\n",
       " ['354.hdf5', '355.hdf5'],\n",
       " ['355.hdf5', '356.hdf5'],\n",
       " ['357.hdf5', '358.hdf5'],\n",
       " ['358.hdf5', '359.hdf5'],\n",
       " ['360.hdf5', '361.hdf5'],\n",
       " ['361.hdf5', '362.hdf5'],\n",
       " ['363.hdf5', '364.hdf5'],\n",
       " ['364.hdf5', '365.hdf5'],\n",
       " ['366.hdf5', '367.hdf5'],\n",
       " ['367.hdf5', '368.hdf5'],\n",
       " ['369.hdf5', '370.hdf5'],\n",
       " ['370.hdf5', '371.hdf5'],\n",
       " ['372.hdf5', '373.hdf5'],\n",
       " ['373.hdf5', '374.hdf5'],\n",
       " ['375.hdf5', '376.hdf5'],\n",
       " ['376.hdf5', '377.hdf5'],\n",
       " ['378.hdf5', '379.hdf5'],\n",
       " ['379.hdf5', '380.hdf5'],\n",
       " ['381.hdf5', '382.hdf5'],\n",
       " ['382.hdf5', '383.hdf5'],\n",
       " ['384.hdf5', '385.hdf5'],\n",
       " ['385.hdf5', '386.hdf5'],\n",
       " ['387.hdf5', '388.hdf5'],\n",
       " ['388.hdf5', '389.hdf5'],\n",
       " ['390.hdf5', '391.hdf5'],\n",
       " ['391.hdf5', '392.hdf5'],\n",
       " ['393.hdf5', '394.hdf5'],\n",
       " ['394.hdf5', '395.hdf5'],\n",
       " ['396.hdf5', '397.hdf5'],\n",
       " ['397.hdf5', '398.hdf5'],\n",
       " ['399.hdf5', '400.hdf5'],\n",
       " ['400.hdf5', '401.hdf5'],\n",
       " ['402.hdf5', '403.hdf5'],\n",
       " ['403.hdf5', '404.hdf5'],\n",
       " ['405.hdf5', '406.hdf5'],\n",
       " ['406.hdf5', '407.hdf5'],\n",
       " ['408.hdf5', '409.hdf5'],\n",
       " ['409.hdf5', '410.hdf5'],\n",
       " ['411.hdf5', '412.hdf5'],\n",
       " ['412.hdf5', '413.hdf5'],\n",
       " ['414.hdf5', '415.hdf5'],\n",
       " ['415.hdf5', '416.hdf5'],\n",
       " ['417.hdf5', '418.hdf5'],\n",
       " ['418.hdf5', '419.hdf5'],\n",
       " ['420.hdf5', '421.hdf5'],\n",
       " ['421.hdf5', '422.hdf5'],\n",
       " ['423.hdf5', '424.hdf5'],\n",
       " ['424.hdf5', '425.hdf5'],\n",
       " ['426.hdf5', '427.hdf5'],\n",
       " ['427.hdf5', '428.hdf5'],\n",
       " ['429.hdf5', '430.hdf5'],\n",
       " ['430.hdf5', '431.hdf5'],\n",
       " ['432.hdf5', '433.hdf5'],\n",
       " ['433.hdf5', '434.hdf5'],\n",
       " ['435.hdf5', '436.hdf5'],\n",
       " ['436.hdf5', '437.hdf5'],\n",
       " ['438.hdf5', '439.hdf5'],\n",
       " ['439.hdf5', '440.hdf5'],\n",
       " ['441.hdf5', '442.hdf5'],\n",
       " ['442.hdf5', '443.hdf5'],\n",
       " ['444.hdf5', '445.hdf5'],\n",
       " ['445.hdf5', '446.hdf5'],\n",
       " ['447.hdf5', '448.hdf5'],\n",
       " ['448.hdf5', '449.hdf5'],\n",
       " ['450.hdf5', '451.hdf5'],\n",
       " ['451.hdf5', '452.hdf5'],\n",
       " ['453.hdf5', '454.hdf5'],\n",
       " ['454.hdf5', '455.hdf5'],\n",
       " ['456.hdf5', '457.hdf5'],\n",
       " ['457.hdf5', '458.hdf5'],\n",
       " ['459.hdf5', '460.hdf5'],\n",
       " ['460.hdf5', '461.hdf5'],\n",
       " ['462.hdf5', '463.hdf5'],\n",
       " ['463.hdf5', '464.hdf5'],\n",
       " ['465.hdf5', '466.hdf5'],\n",
       " ['466.hdf5', '467.hdf5'],\n",
       " ['468.hdf5', '469.hdf5'],\n",
       " ['469.hdf5', '470.hdf5'],\n",
       " ['471.hdf5', '472.hdf5'],\n",
       " ['472.hdf5', '473.hdf5'],\n",
       " ['474.hdf5', '475.hdf5'],\n",
       " ['475.hdf5', '476.hdf5'],\n",
       " ['477.hdf5', '478.hdf5'],\n",
       " ['478.hdf5', '479.hdf5'],\n",
       " ['480.hdf5', '481.hdf5'],\n",
       " ['481.hdf5', '482.hdf5'],\n",
       " ['483.hdf5', '484.hdf5'],\n",
       " ['484.hdf5', '485.hdf5'],\n",
       " ['486.hdf5', '487.hdf5'],\n",
       " ['487.hdf5', '488.hdf5'],\n",
       " ['489.hdf5', '490.hdf5'],\n",
       " ['490.hdf5', '491.hdf5'],\n",
       " ['492.hdf5', '493.hdf5'],\n",
       " ['493.hdf5', '494.hdf5'],\n",
       " ['495.hdf5', '496.hdf5'],\n",
       " ['496.hdf5', '497.hdf5'],\n",
       " ['498.hdf5', '499.hdf5'],\n",
       " ['499.hdf5', '500.hdf5'],\n",
       " ['501.hdf5', '502.hdf5'],\n",
       " ['502.hdf5', '503.hdf5'],\n",
       " ['504.hdf5', '505.hdf5'],\n",
       " ['505.hdf5', '506.hdf5'],\n",
       " ['507.hdf5', '508.hdf5'],\n",
       " ['508.hdf5', '509.hdf5'],\n",
       " ['510.hdf5', '511.hdf5'],\n",
       " ['511.hdf5', '512.hdf5'],\n",
       " ['513.hdf5', '514.hdf5'],\n",
       " ['514.hdf5', '515.hdf5'],\n",
       " ['516.hdf5', '517.hdf5'],\n",
       " ['517.hdf5', '518.hdf5'],\n",
       " ['519.hdf5', '520.hdf5'],\n",
       " ['520.hdf5', '521.hdf5'],\n",
       " ['522.hdf5', '523.hdf5'],\n",
       " ['523.hdf5', '524.hdf5'],\n",
       " ['525.hdf5', '526.hdf5'],\n",
       " ['526.hdf5', '527.hdf5'],\n",
       " ['528.hdf5', '529.hdf5'],\n",
       " ['529.hdf5', '530.hdf5'],\n",
       " ['531.hdf5', '532.hdf5'],\n",
       " ['532.hdf5', '533.hdf5'],\n",
       " ['534.hdf5', '535.hdf5'],\n",
       " ['535.hdf5', '536.hdf5'],\n",
       " ['537.hdf5', '538.hdf5'],\n",
       " ['538.hdf5', '539.hdf5'],\n",
       " ['540.hdf5', '541.hdf5'],\n",
       " ['541.hdf5', '542.hdf5'],\n",
       " ['543.hdf5', '544.hdf5'],\n",
       " ['544.hdf5', '545.hdf5'],\n",
       " ['546.hdf5', '547.hdf5'],\n",
       " ['547.hdf5', '548.hdf5'],\n",
       " ['549.hdf5', '550.hdf5'],\n",
       " ['550.hdf5', '551.hdf5'],\n",
       " ['552.hdf5', '553.hdf5'],\n",
       " ['553.hdf5', '554.hdf5'],\n",
       " ['555.hdf5', '556.hdf5'],\n",
       " ['556.hdf5', '557.hdf5'],\n",
       " ['558.hdf5', '559.hdf5'],\n",
       " ['559.hdf5', '560.hdf5'],\n",
       " ['561.hdf5', '562.hdf5'],\n",
       " ['562.hdf5', '563.hdf5'],\n",
       " ['564.hdf5', '565.hdf5'],\n",
       " ['565.hdf5', '566.hdf5'],\n",
       " ['567.hdf5', '568.hdf5'],\n",
       " ['568.hdf5', '569.hdf5'],\n",
       " ['570.hdf5', '571.hdf5'],\n",
       " ['571.hdf5', '572.hdf5'],\n",
       " ['573.hdf5', '574.hdf5'],\n",
       " ['574.hdf5', '575.hdf5'],\n",
       " ['576.hdf5', '577.hdf5'],\n",
       " ['577.hdf5', '578.hdf5'],\n",
       " ['579.hdf5', '580.hdf5'],\n",
       " ['580.hdf5', '581.hdf5'],\n",
       " ['582.hdf5', '583.hdf5'],\n",
       " ['583.hdf5', '584.hdf5'],\n",
       " ['585.hdf5', '586.hdf5'],\n",
       " ['586.hdf5', '587.hdf5'],\n",
       " ['588.hdf5', '589.hdf5'],\n",
       " ['589.hdf5', '590.hdf5'],\n",
       " ['591.hdf5', '592.hdf5'],\n",
       " ['592.hdf5', '593.hdf5'],\n",
       " ['594.hdf5', '595.hdf5'],\n",
       " ['595.hdf5', '596.hdf5'],\n",
       " ['597.hdf5', '598.hdf5'],\n",
       " ['598.hdf5', '599.hdf5'],\n",
       " ['600.hdf5', '601.hdf5'],\n",
       " ['601.hdf5', '602.hdf5'],\n",
       " ['603.hdf5', '604.hdf5'],\n",
       " ['604.hdf5', '605.hdf5'],\n",
       " ['606.hdf5', '607.hdf5'],\n",
       " ['607.hdf5', '608.hdf5'],\n",
       " ['609.hdf5', '610.hdf5'],\n",
       " ['610.hdf5', '611.hdf5'],\n",
       " ['612.hdf5', '613.hdf5'],\n",
       " ['613.hdf5', '614.hdf5'],\n",
       " ['615.hdf5', '616.hdf5'],\n",
       " ['616.hdf5', '617.hdf5'],\n",
       " ['618.hdf5', '619.hdf5'],\n",
       " ['619.hdf5', '620.hdf5'],\n",
       " ['621.hdf5', '622.hdf5'],\n",
       " ['622.hdf5', '623.hdf5'],\n",
       " ['624.hdf5', '625.hdf5'],\n",
       " ['625.hdf5', '626.hdf5'],\n",
       " ['627.hdf5', '628.hdf5'],\n",
       " ['628.hdf5', '629.hdf5'],\n",
       " ['630.hdf5', '631.hdf5'],\n",
       " ['631.hdf5', '632.hdf5'],\n",
       " ['633.hdf5', '634.hdf5'],\n",
       " ['634.hdf5', '635.hdf5'],\n",
       " ['636.hdf5', '637.hdf5'],\n",
       " ['637.hdf5', '638.hdf5'],\n",
       " ['639.hdf5', '640.hdf5'],\n",
       " ['640.hdf5', '641.hdf5'],\n",
       " ['642.hdf5', '643.hdf5'],\n",
       " ['643.hdf5', '644.hdf5'],\n",
       " ['645.hdf5', '646.hdf5'],\n",
       " ['646.hdf5', '647.hdf5'],\n",
       " ['648.hdf5', '649.hdf5'],\n",
       " ['649.hdf5', '650.hdf5'],\n",
       " ['651.hdf5', '652.hdf5'],\n",
       " ['652.hdf5', '653.hdf5'],\n",
       " ['654.hdf5', '655.hdf5'],\n",
       " ['655.hdf5', '656.hdf5'],\n",
       " ['657.hdf5', '658.hdf5'],\n",
       " ['658.hdf5', '659.hdf5'],\n",
       " ['660.hdf5', '661.hdf5'],\n",
       " ['661.hdf5', '662.hdf5'],\n",
       " ['663.hdf5', '664.hdf5'],\n",
       " ['664.hdf5', '665.hdf5'],\n",
       " ['666.hdf5', '667.hdf5'],\n",
       " ['667.hdf5', '668.hdf5'],\n",
       " ['669.hdf5', '670.hdf5'],\n",
       " ['670.hdf5', '671.hdf5'],\n",
       " ['672.hdf5', '673.hdf5'],\n",
       " ['673.hdf5', '674.hdf5'],\n",
       " ['675.hdf5', '676.hdf5'],\n",
       " ['676.hdf5', '677.hdf5'],\n",
       " ['678.hdf5', '679.hdf5'],\n",
       " ['679.hdf5', '680.hdf5'],\n",
       " ['681.hdf5', '682.hdf5'],\n",
       " ['682.hdf5', '683.hdf5'],\n",
       " ['684.hdf5', '685.hdf5'],\n",
       " ['685.hdf5', '686.hdf5'],\n",
       " ['687.hdf5', '688.hdf5'],\n",
       " ['688.hdf5', '689.hdf5'],\n",
       " ['690.hdf5', '691.hdf5'],\n",
       " ['691.hdf5', '692.hdf5'],\n",
       " ['693.hdf5', '694.hdf5'],\n",
       " ['694.hdf5', '695.hdf5'],\n",
       " ['696.hdf5', '697.hdf5'],\n",
       " ['697.hdf5', '698.hdf5'],\n",
       " ['699.hdf5', '700.hdf5'],\n",
       " ['700.hdf5', '701.hdf5'],\n",
       " ['702.hdf5', '703.hdf5'],\n",
       " ['703.hdf5', '704.hdf5'],\n",
       " ['705.hdf5', '706.hdf5'],\n",
       " ['706.hdf5', '707.hdf5'],\n",
       " ['708.hdf5', '709.hdf5'],\n",
       " ['709.hdf5', '710.hdf5'],\n",
       " ['711.hdf5', '712.hdf5'],\n",
       " ['712.hdf5', '713.hdf5'],\n",
       " ['714.hdf5', '715.hdf5'],\n",
       " ['715.hdf5', '716.hdf5'],\n",
       " ['717.hdf5', '718.hdf5'],\n",
       " ['718.hdf5', '719.hdf5'],\n",
       " ['720.hdf5', '721.hdf5'],\n",
       " ['721.hdf5', '722.hdf5'],\n",
       " ['723.hdf5', '724.hdf5'],\n",
       " ['724.hdf5', '725.hdf5'],\n",
       " ['726.hdf5', '727.hdf5'],\n",
       " ['727.hdf5', '728.hdf5'],\n",
       " ['729.hdf5', '730.hdf5'],\n",
       " ['730.hdf5', '731.hdf5'],\n",
       " ['732.hdf5', '733.hdf5'],\n",
       " ['733.hdf5', '734.hdf5'],\n",
       " ['735.hdf5', '736.hdf5'],\n",
       " ['736.hdf5', '737.hdf5'],\n",
       " ['738.hdf5', '739.hdf5'],\n",
       " ['739.hdf5', '740.hdf5'],\n",
       " ['741.hdf5', '742.hdf5'],\n",
       " ['742.hdf5', '743.hdf5'],\n",
       " ['744.hdf5', '745.hdf5'],\n",
       " ['745.hdf5', '746.hdf5'],\n",
       " ['747.hdf5', '748.hdf5'],\n",
       " ['748.hdf5', '749.hdf5'],\n",
       " ['750.hdf5', '751.hdf5'],\n",
       " ['751.hdf5', '752.hdf5'],\n",
       " ['753.hdf5', '754.hdf5'],\n",
       " ['754.hdf5', '755.hdf5'],\n",
       " ['756.hdf5', '757.hdf5'],\n",
       " ['757.hdf5', '758.hdf5'],\n",
       " ['759.hdf5', '760.hdf5'],\n",
       " ['760.hdf5', '761.hdf5'],\n",
       " ['762.hdf5', '763.hdf5'],\n",
       " ['763.hdf5', '764.hdf5'],\n",
       " ['765.hdf5', '766.hdf5'],\n",
       " ['766.hdf5', '767.hdf5'],\n",
       " ['768.hdf5', '769.hdf5'],\n",
       " ['769.hdf5', '770.hdf5'],\n",
       " ['771.hdf5', '772.hdf5'],\n",
       " ['772.hdf5', '773.hdf5'],\n",
       " ['774.hdf5', '775.hdf5'],\n",
       " ['775.hdf5', '776.hdf5'],\n",
       " ['777.hdf5', '778.hdf5'],\n",
       " ['778.hdf5', '779.hdf5'],\n",
       " ['780.hdf5', '781.hdf5'],\n",
       " ['781.hdf5', '782.hdf5'],\n",
       " ['783.hdf5', '784.hdf5'],\n",
       " ['784.hdf5', '785.hdf5'],\n",
       " ['786.hdf5', '787.hdf5'],\n",
       " ['787.hdf5', '788.hdf5'],\n",
       " ['789.hdf5', '790.hdf5'],\n",
       " ['790.hdf5', '791.hdf5'],\n",
       " ['792.hdf5', '793.hdf5'],\n",
       " ['793.hdf5', '794.hdf5'],\n",
       " ['795.hdf5', '796.hdf5'],\n",
       " ['796.hdf5', '797.hdf5'],\n",
       " ['798.hdf5', '799.hdf5'],\n",
       " ['799.hdf5', '800.hdf5'],\n",
       " ['801.hdf5', '802.hdf5'],\n",
       " ['802.hdf5', '803.hdf5'],\n",
       " ['804.hdf5', '805.hdf5'],\n",
       " ['805.hdf5', '806.hdf5'],\n",
       " ['807.hdf5', '808.hdf5'],\n",
       " ['808.hdf5', '809.hdf5'],\n",
       " ['810.hdf5', '811.hdf5'],\n",
       " ['811.hdf5', '812.hdf5'],\n",
       " ['813.hdf5', '814.hdf5'],\n",
       " ['814.hdf5', '815.hdf5'],\n",
       " ['816.hdf5', '817.hdf5'],\n",
       " ['817.hdf5', '818.hdf5'],\n",
       " ['819.hdf5', '820.hdf5'],\n",
       " ['820.hdf5', '821.hdf5'],\n",
       " ['822.hdf5', '823.hdf5'],\n",
       " ['823.hdf5', '824.hdf5'],\n",
       " ['825.hdf5', '826.hdf5'],\n",
       " ['826.hdf5', '827.hdf5'],\n",
       " ['828.hdf5', '829.hdf5'],\n",
       " ['829.hdf5', '830.hdf5'],\n",
       " ['831.hdf5', '832.hdf5'],\n",
       " ['832.hdf5', '833.hdf5'],\n",
       " ['834.hdf5', '835.hdf5'],\n",
       " ['835.hdf5', '836.hdf5'],\n",
       " ['837.hdf5', '838.hdf5'],\n",
       " ['838.hdf5', '839.hdf5'],\n",
       " ['840.hdf5', '841.hdf5'],\n",
       " ['841.hdf5', '842.hdf5'],\n",
       " ['843.hdf5', '844.hdf5'],\n",
       " ['844.hdf5', '845.hdf5'],\n",
       " ['846.hdf5', '847.hdf5'],\n",
       " ['847.hdf5', '848.hdf5'],\n",
       " ['849.hdf5', '850.hdf5'],\n",
       " ['850.hdf5', '851.hdf5'],\n",
       " ['852.hdf5', '853.hdf5'],\n",
       " ['853.hdf5', '854.hdf5'],\n",
       " ['855.hdf5', '856.hdf5'],\n",
       " ['856.hdf5', '857.hdf5'],\n",
       " ['858.hdf5', '859.hdf5'],\n",
       " ['859.hdf5', '860.hdf5'],\n",
       " ['861.hdf5', '862.hdf5'],\n",
       " ['862.hdf5', '863.hdf5'],\n",
       " ['864.hdf5', '865.hdf5'],\n",
       " ['865.hdf5', '866.hdf5'],\n",
       " ['867.hdf5', '868.hdf5'],\n",
       " ['868.hdf5', '869.hdf5']]"
      ]
     },
     "execution_count": 30,
     "metadata": {},
     "output_type": "execute_result"
    }
   ],
   "source": [
    "valid_dataset.print_filenames()"
   ]
  },
  {
   "cell_type": "code",
   "execution_count": 37,
   "id": "69c5066a",
   "metadata": {},
   "outputs": [],
   "source": [
    "torch.save(model.model, 'uncertain_semantic_mobilenetv3_fusion.pt')"
   ]
  },
  {
   "cell_type": "code",
   "execution_count": null,
   "id": "1a85e436",
   "metadata": {},
   "outputs": [],
   "source": []
  }
 ],
 "metadata": {
  "kernelspec": {
   "display_name": "Python 3 (ipykernel)",
   "language": "python",
   "name": "python3"
  },
  "language_info": {
   "codemirror_mode": {
    "name": "ipython",
    "version": 3
   },
   "file_extension": ".py",
   "mimetype": "text/x-python",
   "name": "python",
   "nbconvert_exporter": "python",
   "pygments_lexer": "ipython3",
   "version": "3.9.7"
  }
 },
 "nbformat": 4,
 "nbformat_minor": 5
}
