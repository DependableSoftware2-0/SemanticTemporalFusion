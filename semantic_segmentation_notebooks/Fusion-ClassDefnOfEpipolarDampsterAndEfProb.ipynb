{
 "cells": [
  {
   "cell_type": "code",
   "execution_count": 2,
   "id": "d7318477",
   "metadata": {},
   "outputs": [],
   "source": [
    "%load_ext autoreload\n",
    "%autoreload 2"
   ]
  },
  {
   "cell_type": "code",
   "execution_count": 2,
   "id": "34535fc4",
   "metadata": {},
   "outputs": [],
   "source": [
    "import pytorch_lightning as pl\n",
    "import segmentation_models_pytorch as smp\n",
    "import h5py\n",
    "import torch \n",
    "import torch.nn.functional as F\n",
    "from torch.nn.functional import interpolate\n",
    "\n",
    "from torch.utils.data import DataLoader\n",
    "\n",
    "import evidence_loss\n",
    "import dataloader_utils\n",
    "\n",
    "from sklearn.metrics import ConfusionMatrixDisplay\n",
    "from torchmetrics import ConfusionMatrix\n",
    "\n",
    "import numpy as np"
   ]
  },
  {
   "cell_type": "markdown",
   "id": "e4f17196",
   "metadata": {},
   "source": [
    "## Model Definition\n",
    "\n",
    "Using 2 images : image0 and image1 and uses sequence dataloader\n",
    "\n",
    "ToDo : Still need to verify if it works with on single image \"image1\" for validation. \n",
    "I was done in notebook \"EvaluationUncertainFusion.ipynb\""
   ]
  },
  {
   "cell_type": "code",
   "execution_count": 3,
   "id": "cc5c137c",
   "metadata": {},
   "outputs": [],
   "source": [
    "\n",
    "class SequenceRoboCupModel(pl.LightningModule):\n",
    "\n",
    "    def __init__(self, arch, encoder_name, in_channels, out_classes, \n",
    "                 K, Kinv, combine_method, fusion_method, **kwargs):\n",
    "        super().__init__()\n",
    "        self.model = smp.create_model(\n",
    "            arch, encoder_name=encoder_name, in_channels=in_channels, classes=out_classes, **kwargs\n",
    "        )\n",
    "\n",
    "        # preprocessing parameteres for image\n",
    "        params = smp.encoders.get_preprocessing_params(encoder_name)\n",
    "        self.register_buffer(\"std\", torch.tensor(params[\"std\"]).view(1, 3, 1, 1))\n",
    "        self.register_buffer(\"mean\", torch.tensor(params[\"mean\"]).view(1, 3, 1, 1))\n",
    "\n",
    "        self.combine_method = combine_method\n",
    "        self.n_classes = out_classes\n",
    "        \n",
    "        self.epoch = 0\n",
    "        self.ignore_class = 0.0 #ignore background class  fr loss function\n",
    "        \n",
    "        self.K = K \n",
    "        self.Kinv = Kinv\n",
    "        \n",
    "        self.confmat = ConfusionMatrix(num_classes=out_classes, normalize='pred')\n",
    "        \n",
    "        self.fusion = fusion_method\n",
    "\n",
    "\n",
    "    def forward(self, image):\n",
    "        # normalize image here\n",
    "        image = (image - self.mean) / self.std\n",
    "        mask = self.model(image)\n",
    "        return mask\n",
    "    \n",
    "    def dempster_schafer_combine(self, alpha1, alpha2):\n",
    "        # Calculate the merger of two DS evidences\n",
    "        alpha = dict()\n",
    "        alpha[0], alpha[1] = alpha1, alpha2\n",
    "        b, S, E, u = dict(), dict(), dict(), dict()\n",
    "        for v in range(2):\n",
    "            S[v] = torch.sum(alpha[v], dim=1, keepdim=True)\n",
    "            E[v] = alpha[v] - 1\n",
    "            b[v] = E[v] / (S[v].expand(E[v].shape))\n",
    "            u[v] = self.n_classes / S[v]\n",
    "\n",
    "        # b^0 @ b^(0+1)\n",
    "        bb = torch.bmm(b[0].view(-1, self.n_classes, 1), b[1].view(-1, 1, self.n_classes))\n",
    "        # b^0 * u^1\n",
    "        uv1_expand = u[1].expand(b[0].shape)\n",
    "        bu = torch.mul(b[0], uv1_expand)\n",
    "        # b^1 * u^0\n",
    "        uv_expand = u[0].expand(b[0].shape)\n",
    "        ub = torch.mul(b[1], uv_expand)\n",
    "        # calculate K\n",
    "        bb_sum = torch.sum(bb, dim=(1, 2), out=None)\n",
    "        bb_diag = torch.diagonal(bb, dim1=-2, dim2=-1).sum(-1)\n",
    "        # bb_diag1 = torch.diag(torch.mm(b[v], torch.transpose(b[v+1], 0, 1)))\n",
    "        K = bb_sum - bb_diag\n",
    "\n",
    "        # calculate b^a\n",
    "        b_a = (torch.mul(b[0], b[1]) + bu + ub) / ((1 - K).view(-1, 1).expand(b[0].shape))\n",
    "        # calculate u^a\n",
    "        u_a = torch.mul(u[0], u[1]) / ((1 - K).view(-1, 1).expand(u[0].shape))\n",
    "        # test = torch.sum(b_a, dim = 1, keepdim = True) + u_a #Verify programming errors\n",
    "\n",
    "        # calculate new S\n",
    "        S_a = self.n_classes / u_a\n",
    "        # calculate new e_k\n",
    "        e_a = torch.mul(b_a, S_a.expand(b_a.shape))\n",
    "        alpha_a = e_a + 1\n",
    "        return alpha_a\n",
    "    \n",
    "    def epipolar_propagate(self, batch, logits):\n",
    "        bs, num_channels, height, width = batch['image0'].size()\n",
    "        \n",
    "        #Getting depth and flatenning it and making it [n, 1, height*width] shape\n",
    "        flattened_depth = torch.flatten(batch['depth0'], start_dim=1)\n",
    "        flattened_depth = torch.unsqueeze(flattened_depth, dim=1).float()\n",
    "\n",
    "        #Getting Transformation and Rotation from previous frame\n",
    "        T = batch['translation_old_to_new_camera_frame'].float().to(self.device)\n",
    "        R = batch['rotation_old_to_new_camera_frame'].float().to(self.device)\n",
    "\n",
    "        #Getting index of each pixel of image in [n,3, height*width] shape device=self.device\n",
    "        grid_x, grid_y = torch.meshgrid(torch.arange(height, device=self.device), \n",
    "                                        torch.arange(width, device=self.device), indexing='ij')\n",
    "        grid_x = torch.flatten(grid_x, start_dim=0)\n",
    "        grid_y = torch.flatten(grid_y, start_dim=0)\n",
    "        ## Stacking to make the matrix 3 x points\n",
    "        index = torch.vstack((grid_x, grid_y, torch.ones_like(grid_y))).float()\n",
    "\n",
    "        #Camera intrinsics\n",
    "        K = torch.tensor(self.K).float().to(self.device)\n",
    "        Kinv = torch.tensor(self.Kinv).float().to(self.device)\n",
    "\n",
    "        #Epipolar Geometry\n",
    "        transposed_index = torch.matmul(torch.matmul(torch.matmul(K, R), Kinv), index) + torch.matmul(K,torch.div(T, flattened_depth))\n",
    "        ## Dividing Last column for each image\n",
    "        transposed_index = torch.div(transposed_index, transposed_index[:,2,:].unsqueeze(1))\n",
    "        ## Clamping index\n",
    "        transposed_index = torch.clamp(transposed_index, min=0, max=511).long() # imagesize is 512 ,  1 \n",
    "        #Projecting pixels from previous frame based on the transposed index\n",
    "        projected_tensor = torch.zeros_like(logits, device=self.device)\n",
    "\n",
    "        #ToDo can this be done without for loop\n",
    "        for i,p in enumerate(transposed_index):\n",
    "            projected_tensor[i,:,p[0],p[1]] = logits[i,:,grid_x, grid_y]\n",
    "\n",
    "        projected_tensor = projected_tensor.float()\n",
    "        #m = torch.nn.MaxPool2d(2)\n",
    "        projected_tensor = F.max_pool2d(projected_tensor, kernel_size=2)\n",
    "\n",
    "        projected_tensor = interpolate(projected_tensor, scale_factor=2 )\n",
    "        \n",
    "        return projected_tensor\n",
    "\n",
    "    def shared_step(self, batch, stage):\n",
    "        image0 = batch[\"image0\"]\n",
    "        image1 = batch[\"image1\"]\n",
    "        depth0 = batch[\"depth0\"]\n",
    "        \n",
    "\n",
    "        # Shape of the image should be (batch_size, num_channels, height, width)\n",
    "        # if you work with grayscale images, expand channels dim to have [batch_size, 1, height, width]\n",
    "        assert image0.ndim == 4\n",
    "        \n",
    "        bs, num_channels, height, width = image0.size()\n",
    "\n",
    "        # Check that image dimensions are divisible by 32, \n",
    "        # encoder and decoder connected by `skip connections` and usually encoder have 5 stages of \n",
    "        # downsampling by factor 2 (2 ^ 5 = 32); e.g. if we have image with shape 65x65 we will have \n",
    "        # following shapes of features in encoder and decoder: 84, 42, 21, 10, 5 -> 5, 10, 20, 40, 80\n",
    "        # and we will get an error trying to concat these features\n",
    "        h, w = image0.shape[2:]\n",
    "        assert h % 32 == 0 and w % 32 == 0\n",
    "\n",
    "        mask0 = batch[\"mask0\"]\n",
    "        mask1 = batch[\"mask1\"]\n",
    "\n",
    "        # Shape of the mask should be [batch_size, num_classes, height, width]\n",
    "        # for binary segmentation num_classes = 1\n",
    "        assert mask0.ndim == 4\n",
    "        assert mask1.ndim == 4\n",
    "\n",
    "        # Check that mask values in between 0 and 1, NOT 0 and 255 for binary segmentation\n",
    "        assert mask0.max() <= 255.0 and mask0.min() >= 0\n",
    "        assert mask1.max() <= 255.0 and mask1.min() >= 0\n",
    "\n",
    "        logits_mask0 = self.forward(image0)\n",
    "        propagate_mask0 = self.epipolar_propagate(batch, logits_mask0)\n",
    "        \n",
    "        logits_mask1 = self.forward(image1)\n",
    "      \n",
    "       \n",
    "        \n",
    "        #unroll the tensor to single tensor \n",
    "        # [batch_size, 1, height, width] -> [batch_size*height*width]\n",
    "        mask1 = torch.ravel(mask1)      \n",
    "        #Remove pixels exculding the background loss function\n",
    "        idx_only_objects = mask1 != self.ignore_class      \n",
    "        # Predicted mask contains logits, and loss_fn param `from_logits` is set to True       \n",
    "        mask1 = F.one_hot(mask1.long(), self.n_classes)  # [batch_size*height*width] -> [batch_size*height*width, n_classes]\n",
    "        \n",
    "        # [batch_size, n_classes, height, width] -> [batch_size,n_classes, height*width]\n",
    "        logits_mask1 = logits_mask1.view(bs, self.n_classes, -1)\n",
    "        propagate_mask0 = propagate_mask0.view(bs, self.n_classes, -1)\n",
    "        # [batch_size,n_classes, height*width] -> [batch_size, height*width, n_classes]\n",
    "        logits_mask1 = logits_mask1.permute(0,2,1)\n",
    "        propagate_mask0 = propagate_mask0.permute(0,2,1)\n",
    "        # [batch_size, height*width, n_classes] -> [batch_size*height*width, n_classes]\n",
    "        logits_mask1 = logits_mask1.reshape_as(mask1)        \n",
    "        propagate_mask0 = propagate_mask0.reshape_as(mask1)        \n",
    "        \n",
    "        #Fluctute between all loss and only objects loss excluding bakground\n",
    "        if (stage == \"train\"):\n",
    "            if self.epoch % 3 == 0:\n",
    "                loss = evidence_loss.edl_mse_loss(logits_mask1, mask1, self.epoch, self.n_classes, 10)\n",
    "            else:\n",
    "                loss = evidence_loss.edl_mse_loss(logits_mask1[idx_only_objects], mask1[idx_only_objects], self.epoch, self.n_classes, 10)\n",
    "        else:\n",
    "            loss = evidence_loss.edl_mse_loss(logits_mask1[idx_only_objects], \n",
    "                                              mask1[idx_only_objects], \n",
    "                                              self.epoch, self.n_classes, 10)\n",
    "\n",
    "     \n",
    "        #combining evidence\n",
    "        if \"sum\" == self.combine_method:\n",
    "            logits_mask1 = logits_mask1 + propagate_mask0\n",
    "            prob_mask = logits_mask1.log_softmax(dim=1).exp()\n",
    "        elif \"belief_sum\" == self.combine_method:\n",
    "            prob_mask = self.dempster_schafer_combine(torch.relu(logits_mask1) + 1,\n",
    "                                                         torch.relu(propagate_mask0) + 1)\n",
    "        elif \"bayes\" == self.combine_method:\n",
    "            #Making non negative and adding 1 for dirichlet \n",
    "            logits_mask1  = torch.relu(logits_mask1) + 1\n",
    "            propagate_mask0  = torch.relu(propagate_mask0) + 1\n",
    "            # Finding mean of dirichlet distirbution which is a multinomial distribuion\n",
    "            #formula is same as softmat\n",
    "            logits_mask1 = torch.softmax(logits_mask1, dim=1)\n",
    "            propagate_mask0 = torch.softmax(propagate_mask0, dim=1)\n",
    "            prob_mask = self.fusion(propagate_mask0, logits_mask1)\n",
    "            prob_mask = prob_mask.to(self.device)\n",
    "        elif \"single\" == self.combine_method:\n",
    "            prob_mask = logits_mask1.log_softmax(dim=1).exp()\n",
    "        else:\n",
    "            raise Exception(\"Please define combine method\") \n",
    "            \n",
    "        # Lets compute metrics for some threshold\n",
    "        # first convert mask values to probabilities, then \n",
    "        # apply thresholding\n",
    "        pred_mask = prob_mask.argmax(dim=1, keepdim=True)\n",
    "         \n",
    "        #Changing back to original dimension for metrics calculation\n",
    "        mask1 = mask1.argmax(dim=1, keepdim=True)\n",
    "        \n",
    "        #Confusion matrix calculation\n",
    "        confusion_matrix = self.confmat(pred_mask, mask1)\n",
    "        \n",
    "        pred_mask = pred_mask.reshape(bs, 1, height, width )\n",
    "        mask1 = mask1.reshape(bs, 1, height, width)\n",
    "        \n",
    "        # We will compute IoU metric by two ways\n",
    "        #   1. dataset-wise\n",
    "        #   2. image-wise\n",
    "        # but for now we just compute true positive, false positive, false negative and\n",
    "        # true negative 'pixels' for each image and class\n",
    "        # these values will be aggregated in the end of an epoch\n",
    "        tp, fp, fn, tn = smp.metrics.get_stats(pred_mask.long(),\n",
    "                                               mask1.long(), \n",
    "                                               mode=\"multiclass\", \n",
    "                                               num_classes=self.n_classes)\n",
    "       \n",
    "        return {\n",
    "            \"loss\": loss,\n",
    "            \"tp\": tp,\n",
    "            \"fp\": fp,\n",
    "            \"fn\": fn,\n",
    "            \"tn\": tn,\n",
    "            \"confusion_matrix\":confusion_matrix\n",
    "        }\n",
    "\n",
    "    def shared_epoch_end(self, outputs, stage):\n",
    "        # aggregate step metics\n",
    "        tp = torch.cat([x[\"tp\"] for x in outputs])\n",
    "        fp = torch.cat([x[\"fp\"] for x in outputs])\n",
    "        fn = torch.cat([x[\"fn\"] for x in outputs])\n",
    "        tn = torch.cat([x[\"tn\"] for x in outputs])\n",
    "\n",
    "        # per image IoU means that we first calculate IoU score for each image \n",
    "        # and then compute mean over these scores\n",
    "        per_image_iou = smp.metrics.iou_score(tp, fp, fn, tn, reduction=\"micro-imagewise\")\n",
    "        \n",
    "        # dataset IoU means that we aggregate intersection and union over whole dataset\n",
    "        # and then compute IoU score. The difference between dataset_iou and per_image_iou scores\n",
    "        # in this particular case will not be much, however for dataset \n",
    "        # with \"empty\" images (images without target class) a large gap could be observed. \n",
    "        # Empty images influence a lot on per_image_iou and much less on dataset_iou.\n",
    "        dataset_iou = smp.metrics.iou_score(tp, fp, fn, tn, reduction=\"micro\")\n",
    "        \n",
    "        # then compute metrics with required reduction (see metric docs)\n",
    "        f1_score = smp.metrics.f1_score(tp, fp, fn, tn, reduction=\"micro\")\n",
    "        f2_score = smp.metrics.fbeta_score(tp, fp, fn, tn, beta=2, reduction=\"micro\")\n",
    "        accuracy = smp.metrics.accuracy(tp, fp, fn, tn, reduction=\"macro\")\n",
    "        recall = smp.metrics.recall(tp, fp, fn, tn, reduction=\"micro-imagewise\")\n",
    "        # aggregate step metics\n",
    "        loss = [x[\"loss\"].item() for x in outputs]\n",
    "        \n",
    "        #confusion matrix sum\n",
    "        self.cm = torch.sum(torch.stack([x[\"confusion_matrix\"] for x in outputs]), dim=0)\n",
    "        print (self.cm.shape)\n",
    "\n",
    "        metrics = {\n",
    "            f\"{stage}_per_image_iou\": per_image_iou,\n",
    "            f\"{stage}_dataset_iou\": dataset_iou,\n",
    "            f\"{stage}_evidential_loss\": np.mean(loss)\n",
    "        }\n",
    "        \n",
    "        self.log_dict(metrics, prog_bar=True)\n",
    "        self.epoch += 1\n",
    "\n",
    "    def training_step(self, batch, batch_idx):\n",
    "        return self.shared_step(batch, \"train\")            \n",
    "\n",
    "    def training_epoch_end(self, outputs):\n",
    "        return self.shared_epoch_end(outputs, \"train\")\n",
    "\n",
    "    def validation_step(self, batch, batch_idx):\n",
    "        return self.shared_step(batch, \"valid\")\n",
    "\n",
    "    def validation_epoch_end(self, outputs):\n",
    "        return self.shared_epoch_end(outputs, \"valid\")\n",
    "\n",
    "    def test_step(self, batch, batch_idx):\n",
    "        return self.shared_step(batch, \"test\")  \n",
    "\n",
    "    def test_epoch_end(self, outputs):\n",
    "        return self.shared_epoch_end(outputs, \"test\")\n",
    "\n",
    "    def configure_optimizers(self):\n",
    "        return torch.optim.Adam(self.parameters(), lr=0.0001)"
   ]
  },
  {
   "cell_type": "markdown",
   "id": "09a082a4",
   "metadata": {},
   "source": [
    "-----"
   ]
  },
  {
   "cell_type": "markdown",
   "id": "6b215d9e",
   "metadata": {
    "heading_collapsed": true
   },
   "source": [
    "## Dataloader "
   ]
  },
  {
   "cell_type": "code",
   "execution_count": 4,
   "id": "f7d449db",
   "metadata": {
    "hidden": true
   },
   "outputs": [
    {
     "name": "stdout",
     "output_type": "stream",
     "text": [
      "[['0000.hdf5', '0001.hdf5'], ['0001.hdf5', '0002.hdf5'], ['0003.hdf5', '0004.hdf5'], ['0004.hdf5', '0005.hdf5'], ['0006.hdf5', '0007.hdf5'], ['0007.hdf5', '0008.hdf5'], ['0009.hdf5', '0010.hdf5'], ['0010.hdf5', '0011.hdf5'], ['0012.hdf5', '0013.hdf5'], ['0013.hdf5', '0014.hdf5'], ['0015.hdf5', '0016.hdf5'], ['0016.hdf5', '0017.hdf5'], ['0018.hdf5', '0019.hdf5'], ['0019.hdf5', '0020.hdf5'], ['0021.hdf5', '0022.hdf5'], ['0022.hdf5', '0023.hdf5'], ['0024.hdf5', '0025.hdf5'], ['0025.hdf5', '0026.hdf5'], ['0027.hdf5', '0028.hdf5'], ['0028.hdf5', '0029.hdf5'], ['0030.hdf5', '0031.hdf5'], ['0031.hdf5', '0032.hdf5'], ['0033.hdf5', '0034.hdf5'], ['0034.hdf5', '0035.hdf5'], ['0036.hdf5', '0037.hdf5'], ['0037.hdf5', '0038.hdf5'], ['0039.hdf5', '0040.hdf5'], ['0040.hdf5', '0041.hdf5'], ['0042.hdf5', '0043.hdf5'], ['0043.hdf5', '0044.hdf5'], ['0045.hdf5', '0046.hdf5'], ['0046.hdf5', '0047.hdf5'], ['0048.hdf5', '0049.hdf5'], ['0049.hdf5', '0050.hdf5'], ['0051.hdf5', '0052.hdf5'], ['0052.hdf5', '0053.hdf5'], ['0054.hdf5', '0055.hdf5'], ['0055.hdf5', '0056.hdf5'], ['0057.hdf5', '0058.hdf5'], ['0058.hdf5', '0059.hdf5'], ['0060.hdf5', '0061.hdf5'], ['0061.hdf5', '0062.hdf5'], ['0063.hdf5', '0064.hdf5'], ['0064.hdf5', '0065.hdf5'], ['0066.hdf5', '0067.hdf5'], ['0067.hdf5', '0068.hdf5'], ['0069.hdf5', '0070.hdf5'], ['0070.hdf5', '0071.hdf5'], ['0072.hdf5', '0073.hdf5'], ['0073.hdf5', '0074.hdf5'], ['0075.hdf5', '0076.hdf5'], ['0076.hdf5', '0077.hdf5'], ['0078.hdf5', '0079.hdf5'], ['0079.hdf5', '0080.hdf5'], ['0081.hdf5', '0082.hdf5'], ['0082.hdf5', '0083.hdf5'], ['0084.hdf5', '0085.hdf5'], ['0085.hdf5', '0086.hdf5'], ['0087.hdf5', '0088.hdf5'], ['0088.hdf5', '0089.hdf5'], ['0090.hdf5', '0091.hdf5'], ['0091.hdf5', '0092.hdf5'], ['0093.hdf5', '0094.hdf5'], ['0094.hdf5', '0095.hdf5'], ['0096.hdf5', '0097.hdf5'], ['0097.hdf5', '0098.hdf5'], ['0099.hdf5', '0100.hdf5'], ['0100.hdf5', '0101.hdf5'], ['0102.hdf5', '0103.hdf5'], ['0103.hdf5', '0104.hdf5'], ['0105.hdf5', '0106.hdf5'], ['0106.hdf5', '0107.hdf5'], ['0108.hdf5', '0109.hdf5'], ['0109.hdf5', '0110.hdf5'], ['0111.hdf5', '0112.hdf5'], ['0112.hdf5', '0113.hdf5'], ['0114.hdf5', '0115.hdf5'], ['0115.hdf5', '0116.hdf5'], ['0117.hdf5', '0118.hdf5'], ['0118.hdf5', '0119.hdf5'], ['0120.hdf5', '0121.hdf5'], ['0121.hdf5', '0122.hdf5'], ['0123.hdf5', '0124.hdf5'], ['0124.hdf5', '0125.hdf5'], ['0126.hdf5', '0127.hdf5'], ['0127.hdf5', '0128.hdf5'], ['0129.hdf5', '0130.hdf5'], ['0130.hdf5', '0131.hdf5'], ['0132.hdf5', '0133.hdf5'], ['0133.hdf5', '0134.hdf5'], ['0135.hdf5', '0136.hdf5'], ['0136.hdf5', '0137.hdf5'], ['0138.hdf5', '0139.hdf5'], ['0139.hdf5', '0140.hdf5'], ['0141.hdf5', '0142.hdf5'], ['0142.hdf5', '0143.hdf5'], ['0144.hdf5', '0145.hdf5'], ['0145.hdf5', '0146.hdf5'], ['0147.hdf5', '0148.hdf5'], ['0148.hdf5', '0149.hdf5']]\n",
      "filename  0000.hdf5\n"
     ]
    }
   ],
   "source": [
    "root = '../learning_blenerproc/images_pose_robocup/'\n",
    "\n",
    "valid_dataset = dataloader_utils.SequenceRoboCupDataset(root, \"two_sequence\")\n",
    "valid_dataloader = DataLoader(valid_dataset, batch_size=2, shuffle=True, num_workers=int(16/2))\n"
   ]
  },
  {
   "cell_type": "code",
   "execution_count": 6,
   "id": "e1eef49b",
   "metadata": {
    "hidden": true
   },
   "outputs": [
    {
     "name": "stdout",
     "output_type": "stream",
     "text": [
      "{0.0: 243297, 1.0: 3259, 2.0: 3230, 3.0: 5565, 4.0: 2958, 5.0: 3835}\n"
     ]
    }
   ],
   "source": [
    "max_count = {}\n",
    "for sample in valid_dataset:\n",
    "    mask_values, count = np.unique(sample[\"mask0\"], return_counts=True)\n",
    "    zip_count = dict(zip(mask_values, count))\n",
    "    max_count = dict(list(max_count.items()) + list(zip_count.items()))\n",
    "    \n",
    "print(max_count)"
   ]
  },
  {
   "cell_type": "code",
   "execution_count": 36,
   "id": "2e045a7d",
   "metadata": {
    "hidden": true
   },
   "outputs": [
    {
     "data": {
      "image/png": "[encoded data removed]",
      "text/plain": [
       "<Figure size 432x288 with 1 Axes>"
      ]
     },
     "metadata": {
      "needs_background": "light"
     },
     "output_type": "display_data"
    }
   ],
   "source": [
    "import matplotlib.pyplot as plt\n",
    "\n",
    "names = list(max_count.keys())\n",
    "values = list(max_count.values())\n",
    "\n",
    "plt.bar(range(len(max_count)), values, tick_label=names)\n",
    "plt.show()"
   ]
  },
  {
   "cell_type": "markdown",
   "id": "898c3971",
   "metadata": {
    "hidden": true
   },
   "source": [
    "---------"
   ]
  },
  {
   "cell_type": "markdown",
   "id": "8129dbea",
   "metadata": {
    "heading_collapsed": true
   },
   "source": [
    "## Validation"
   ]
  },
  {
   "cell_type": "code",
   "execution_count": 16,
   "id": "9d2bd0b5",
   "metadata": {
    "hidden": true
   },
   "outputs": [
    {
     "name": "stderr",
     "output_type": "stream",
     "text": [
      "GPU available: True, used: True\n",
      "TPU available: False, using: 0 TPU cores\n",
      "IPU available: False, using: 0 IPUs\n"
     ]
    }
   ],
   "source": [
    "model = SequenceRoboCupModel(\"FPN\", \"timm-mobilenetv3_small_minimal_100\", in_channels=3, out_classes=8, combine_method='sum',\n",
    "                            K=valid_dataset.K, Kinv=valid_dataset.Kinv)\n",
    "model.model = torch.load('uncertain_semantic_mobilenetv3_200epoch.pt')\n",
    "trainer = pl.Trainer(\n",
    "    gpus=1, \n",
    "    max_epochs=200,\n",
    ")\n",
    "# run validation dataset\n",
    "#valid_metrics = trainer.validate(model, dataloaders=valid_dataloader, verbose=False)\n",
    "#pprint(valid_metrics)"
   ]
  },
  {
   "cell_type": "markdown",
   "id": "1e041960",
   "metadata": {
    "hidden": true
   },
   "source": [
    "-----------"
   ]
  },
  {
   "cell_type": "code",
   "execution_count": 109,
   "id": "b0122d69",
   "metadata": {
    "hidden": true
   },
   "outputs": [
    {
     "name": "stdout",
     "output_type": "stream",
     "text": [
      "v (2, 3) [[1. 1. 1.]\n",
      " [1. 1. 1.]]\n",
      "c (2, 3) [[2. 2. 2.]\n",
      " [2. 2. 2.]]\n",
      "vv (3,) [1. 1. 1.]\n",
      "cc (3,) [2. 2. 2.]\n",
      "vv (3,) [1. 1. 1.]\n",
      "cc (3,) [2. 2. 2.]\n",
      "(1, 2, 3)\n",
      "[[[-1. -1. -1.]\n",
      "  [-1. -1. -1.]]]\n"
     ]
    }
   ],
   "source": [
    "def c(prior_prediction, current_prediction):\n",
    "    print(\"vv\",prior_prediction.shape,  prior_prediction) \n",
    "    print(\"cc\", current_prediction.shape, current_prediction)\n",
    "    \n",
    "    return prior_prediction+current_prediction, prior_prediction-current_prediction\n",
    "\n",
    "def d(prior_prediction, current_prediction):\n",
    "    print(\"v\",prior_prediction.shape,  prior_prediction) \n",
    "    print(\"c\", current_prediction.shape, current_prediction)\n",
    "    gcds = map(c, prior_prediction, current_prediction) # calling map with more than 1 iterables\n",
    "\n",
    "    gcds = list(gcds)\n",
    "    list1, list2 = zip(*gcds)\n",
    "    return np.array(list1), np.array(list2)\n",
    "\n",
    "prior = np.ones((1, 2, 3))\n",
    "prediction = np.ones((1, 2, 3))*2\n",
    "\n",
    "\n",
    "#np.apply_along_axis(d, 2, combined)\n",
    "\n",
    "gcds = map(d, prior, prediction) # calling map with more than 1 iterables\n",
    "\n",
    "gcds = list(gcds)\n",
    "list1, list2 = zip(*gcds)\n",
    "print (np.array(list1).shape)\n",
    "print (np.array(list2))\n"
   ]
  },
  {
   "cell_type": "markdown",
   "id": "6ad0b55b",
   "metadata": {
    "hidden": true
   },
   "source": [
    "--------"
   ]
  },
  {
   "cell_type": "markdown",
   "id": "b0be45bb",
   "metadata": {
    "heading_collapsed": true
   },
   "source": [
    "## Fusion class"
   ]
  },
  {
   "cell_type": "markdown",
   "id": "0f6e2566",
   "metadata": {
    "heading_collapsed": true,
    "hidden": true
   },
   "source": [
    "### Install efprob"
   ]
  },
  {
   "cell_type": "code",
   "execution_count": 118,
   "id": "df69e110",
   "metadata": {
    "hidden": true
   },
   "outputs": [
    {
     "name": "stdout",
     "output_type": "stream",
     "text": [
      "--2022-07-13 10:47:02--  https://efprob.cs.ru.nl/efprob.zip\n",
      "Resolving efprob.cs.ru.nl (efprob.cs.ru.nl)... 131.174.9.235\n",
      "Connecting to efprob.cs.ru.nl (efprob.cs.ru.nl)|131.174.9.235|:443... connected.\n",
      "HTTP request sent, awaiting response... 200 OK\n",
      "Length: 61196 (60K) [application/zip]\n",
      "Saving to: ‘efprob.zip.1’\n",
      "\n",
      "efprob.zip.1        100%[===================>]  59.76K  --.-KB/s    in 0.05s   \n",
      "\n",
      "2022-07-13 10:47:02 (1.15 MB/s) - ‘efprob.zip.1’ saved [61196/61196]\n",
      "\n",
      "Archive:  efprob.zip\n",
      "replace efprob_dc.py? [y]es, [n]o, [A]ll, [N]one, [r]ename: ^C\n"
     ]
    }
   ],
   "source": [
    "!wget https://efprob.cs.ru.nl/efprob.zip\n",
    "!unzip efprob.zip\n"
   ]
  },
  {
   "cell_type": "markdown",
   "id": "dcb4b357",
   "metadata": {
    "hidden": true
   },
   "source": [
    "-------------"
   ]
  },
  {
   "cell_type": "markdown",
   "id": "bfa0736f",
   "metadata": {
    "hidden": true
   },
   "source": [
    "### class definition"
   ]
  },
  {
   "cell_type": "code",
   "execution_count": 7,
   "id": "f72073b7",
   "metadata": {
    "hidden": true
   },
   "outputs": [],
   "source": [
    "import efprob_dc as efprob_dc\n"
   ]
  },
  {
   "cell_type": "code",
   "execution_count": 139,
   "id": "0319f089",
   "metadata": {
    "hidden": true
   },
   "outputs": [],
   "source": [
    "class EffectiveProbability(torch.nn.Module):\n",
    "    def __init__(self, confusion_matrix, fusion_type='bayes'):\n",
    "        super(EffectiveProbability, self).__init__()\n",
    "        \n",
    "        assert confusion_matrix.ndim == 2\n",
    "        \n",
    "        self.confusion_matrix = confusion_matrix\n",
    "        \n",
    "        #Effective probability \n",
    "        self.n_classes = confusion_matrix.shape[0]\n",
    "        prior_labels = []\n",
    "        current_labels = []\n",
    "        for i in range(self.n_classes):\n",
    "            prior_labels.append('P'+str(i))\n",
    "            current_labels.append('C'+str(i))\n",
    "        self.prior_labels_dom = efprob_dc.Dom(prior_labels)\n",
    "        self.current_labels_dom = efprob_dc.Dom(current_labels)\n",
    "        \n",
    "        self.array_of_states = []\n",
    "        for s in self.confusion_matrix:\n",
    "            self.array_of_states.append(efprob_dc.State(s, self.current_labels_dom))\n",
    "        self.chan = efprob_dc.chan_from_states(self.array_of_states, self.prior_labels_dom)\n",
    "  \n",
    "            \n",
    "        self.fusion_type = fusion_type\n",
    "            \n",
    "    def single_row_calculation(self, prior, current):\n",
    "        assert prior.ndim == 1\n",
    "        assert current.ndim == 1\n",
    "        assert prior.shape[0] == self.n_classes\n",
    "        assert current.shape[0] == self.n_classes\n",
    "        \n",
    "        prior_dc = efprob_dc.State(prior, self.prior_labels_dom)\n",
    "        \n",
    "        try:\n",
    "            if \"bayes\" == self.fusion_type:\n",
    "                posterior = prior_dc / (self.chan << efprob_dc.Predicate(current, self.current_labels_dom))\n",
    "            elif \"dampster\" == self.fusion_type:\n",
    "                posterior = self.chan.inversion(prior_dc) >> efprob_dc.State(current, self.current_labels_dom)\n",
    "            else:\n",
    "                print (\"select fusion_type as bayes or dampster\")\n",
    "        except:\n",
    "            print(prior, current)\n",
    "\n",
    "        return posterior.array\n",
    "    \n",
    "        \n",
    "    def forward(self, prior, current):\n",
    "        assert prior.ndim == 4\n",
    "        assert current.ndim == 4\n",
    "        assert prior.shape == current.shape\n",
    "        assert prior.shape[1] == self.n_classes\n",
    "        assert current.shape[1] == self.n_classes\n",
    "        \n",
    "        # [batch_size,n_classes, height, width] -> [batch_size, height, width, n_classes]\n",
    "        prior = prior.permute(0,2,3,1)\n",
    "        current = current.permute(0,2,3,1)\n",
    "        # [batch_size, height, width, n_classes] -> [batch_size*height*width, n_classes]\n",
    "        prior = prior.reshape(-1, self.n_classes) \n",
    "        current = current.reshape(-1, self.n_classes) \n",
    "        \n",
    "        #Converting dirchlet to probability\n",
    "        prior = prior/prior.sum(dim=1, keepdim=True)\n",
    "        current = current/current.sum(dim=1, keepdim=True)\n",
    "        \n",
    "        prior = prior.cpu().detach().numpy()\n",
    "        current = current.cpu().detach().numpy()\n",
    "     \n",
    "        posterior = map(self.single_row_calculation, \n",
    "                    prior, \n",
    "                    current)\n",
    "       \n",
    "        return torch.tensor(np.array(list(posterior)))\n",
    "                \n",
    "    "
   ]
  },
  {
   "cell_type": "code",
   "execution_count": 9,
   "id": "0dcabea6",
   "metadata": {
    "hidden": true
   },
   "outputs": [
    {
     "data": {
      "text/plain": [
       "array([[2.01531273e-01, 1.99882284e-01, 1.99127623e-01, 1.17811613e-01,\n",
       "        1.28801122e-01, 1.52846018e-01],\n",
       "       [2.31663879e-01, 2.16498292e-01, 2.01152606e-01, 9.47974378e-02,\n",
       "        3.52911582e-02, 2.20596613e-01],\n",
       "       [2.63598891e-01, 4.20364142e-01, 8.45732168e-02, 4.20129171e-02,\n",
       "        1.26460508e-01, 6.29903239e-02],\n",
       "       [2.99122915e-01, 1.75773065e-01, 3.70740413e-02, 8.56828109e-02,\n",
       "        2.16285040e-01, 1.86062157e-01],\n",
       "       [2.69948710e-01, 7.64564844e-02, 6.33482212e-02, 1.25849424e-01,\n",
       "        3.20405471e-01, 1.43991690e-01],\n",
       "       [3.84121798e-04, 3.02598971e-01, 2.32389743e-01, 1.41117251e-01,\n",
       "        1.96793093e-01, 1.26716797e-01]])"
      ]
     },
     "execution_count": 9,
     "metadata": {},
     "output_type": "execute_result"
    }
   ],
   "source": [
    "cm = torch.rand(6,6)\n",
    "cm = cm.cpu().detach().numpy()\n",
    "cm = cm.astype('float') / cm.sum(axis=1)[:, np.newaxis]"
   ]
  },
  {
   "cell_type": "code",
   "execution_count": 94,
   "id": "52fe2409",
   "metadata": {
    "hidden": true
   },
   "outputs": [],
   "source": [
    "ef_fusion = EffectiveProbability(confusion_matrix=cm)"
   ]
  },
  {
   "cell_type": "code",
   "execution_count": 96,
   "id": "57c09e0b",
   "metadata": {
    "hidden": true
   },
   "outputs": [
    {
     "name": "stdout",
     "output_type": "stream",
     "text": [
      "torch.Size([10, 6, 5, 5])\n",
      "torch.Size([250, 6])\n"
     ]
    }
   ],
   "source": [
    "prior = torch.rand(10,6,5,5)# [batch_size,n_classes, height, width]\n",
    "\n",
    "current = torch.rand(10,6,5, 5)# [batch_size,n_classes, height, width]\n",
    "\n",
    "print (prior.shape)\n",
    "posterior = ef_fusion(prior, current)\n",
    "print (posterior.shape)"
   ]
  },
  {
   "cell_type": "code",
   "execution_count": 31,
   "id": "9c62e0f1",
   "metadata": {
    "hidden": true
   },
   "outputs": [
    {
     "data": {
      "text/plain": [
       "tensor([[0.1749, 0.4754, 0.1749, 0.1749],\n",
       "        [0.1749, 0.4754, 0.1749, 0.1749]])"
      ]
     },
     "execution_count": 31,
     "metadata": {},
     "output_type": "execute_result"
    }
   ],
   "source": [
    "a = torch.tensor([[1.,2,1,1],\n",
    "                  [2., 3, 2, 2]])\n",
    "torch.nn.functional.softmax(a, dim=1)"
   ]
  },
  {
   "cell_type": "code",
   "execution_count": 34,
   "id": "d95297ca",
   "metadata": {
    "hidden": true
   },
   "outputs": [
    {
     "data": {
      "text/plain": [
       "tensor([[1.2000, 1.4000, 1.2000, 1.2000],\n",
       "        [1.2222, 1.3333, 1.2222, 1.2222]])"
      ]
     },
     "execution_count": 34,
     "metadata": {},
     "output_type": "execute_result"
    }
   ],
   "source": [
    "a/a.sum(dim=1, keepdim=True) + 1"
   ]
  },
  {
   "cell_type": "code",
   "execution_count": 15,
   "id": "91d33799",
   "metadata": {
    "hidden": true
   },
   "outputs": [
    {
     "name": "stdout",
     "output_type": "stream",
     "text": [
      "torch.Size([2621440, 6])\n"
     ]
    }
   ],
   "source": [
    "%timeit\n",
    "posterior = ef_fusion(prior, current)\n",
    "print (posterior.shape)"
   ]
  },
  {
   "cell_type": "code",
   "execution_count": null,
   "id": "8ecc7331",
   "metadata": {
    "hidden": true
   },
   "outputs": [],
   "source": []
  },
  {
   "cell_type": "code",
   "execution_count": 10,
   "id": "25ac0c55",
   "metadata": {
    "hidden": true
   },
   "outputs": [
    {
     "data": {
      "image/png": "[encoded data removed]",
      "text/plain": [
       "<Figure size 720x720 with 2 Axes>"
      ]
     },
     "metadata": {
      "needs_background": "light"
     },
     "output_type": "display_data"
    }
   ],
   "source": [
    "import matplotlib.pyplot as plt\n",
    "from sklearn.metrics import confusion_matrix, ConfusionMatrixDisplay\n",
    "\n",
    "disp = ConfusionMatrixDisplay(cm, display_labels=list(valid_dataset.class_names.values()))\n",
    "fig, ax = plt.subplots(figsize=(10,10))\n",
    "disp.plot(ax=ax)\n",
    "plt.show()"
   ]
  },
  {
   "cell_type": "markdown",
   "id": "edfefeef",
   "metadata": {
    "heading_collapsed": true
   },
   "source": [
    "# Valiation "
   ]
  },
  {
   "cell_type": "markdown",
   "id": "b6395737",
   "metadata": {
    "heading_collapsed": true,
    "hidden": true
   },
   "source": [
    "## Validation with single "
   ]
  },
  {
   "cell_type": "code",
   "execution_count": 6,
   "id": "73dc81ab",
   "metadata": {
    "hidden": true
   },
   "outputs": [
    {
     "name": "stdout",
     "output_type": "stream",
     "text": [
      "(6, 6)\n"
     ]
    }
   ],
   "source": [
    "with open('robocup_mobilenet_cm.npy', 'rb') as f:\n",
    "    cm = np.load(f)\n",
    "print (cm.shape)\n",
    "ef_fusion = EffectiveProbability(confusion_matrix=cm)"
   ]
  },
  {
   "cell_type": "code",
   "execution_count": 12,
   "id": "0a43f025",
   "metadata": {
    "hidden": true
   },
   "outputs": [
    {
     "name": "stderr",
     "output_type": "stream",
     "text": [
      "GPU available: True, used: True\n",
      "TPU available: False, using: 0 TPU cores\n",
      "IPU available: False, using: 0 IPUs\n",
      "LOCAL_RANK: 0 - CUDA_VISIBLE_DEVICES: [0]\n",
      "/home/deebuls/miniconda3/envs/pytorch/lib/python3.9/site-packages/pytorch_lightning/trainer/data_loading.py:453: UserWarning: Your `val_dataloader` has `shuffle=True`,it is strongly recommended that you turn this off for val/test/predict dataloaders.\n",
      "  rank_zero_warn(\n"
     ]
    },
    {
     "data": {
      "application/vnd.jupyter.widget-view+json": {
       "model_id": "2fc005138d8e4b6d9a769dc01dfbe8d6",
       "version_major": 2,
       "version_minor": 0
      },
      "text/plain": [
       "Validating: 0it [00:00, ?it/s]"
      ]
     },
     "metadata": {},
     "output_type": "display_data"
    },
    {
     "ename": "RuntimeError",
     "evalue": "shape '[10, 6, -1]' is invalid for input of size 18350080",
     "output_type": "error",
     "traceback": [
      "\u001b[0;31m---------------------------------------------------------------------------\u001b[0m",
      "\u001b[0;31mRuntimeError\u001b[0m                              Traceback (most recent call last)",
      "\u001b[0;32m/tmp/ipykernel_129837/780568824.py\u001b[0m in \u001b[0;36m<module>\u001b[0;34m\u001b[0m\n\u001b[1;32m     13\u001b[0m )\n\u001b[1;32m     14\u001b[0m \u001b[0;31m# run validation dataset\u001b[0m\u001b[0;34m\u001b[0m\u001b[0;34m\u001b[0m\u001b[0m\n\u001b[0;32m---> 15\u001b[0;31m \u001b[0mvalid_metrics\u001b[0m \u001b[0;34m=\u001b[0m \u001b[0mtrainer\u001b[0m\u001b[0;34m.\u001b[0m\u001b[0mvalidate\u001b[0m\u001b[0;34m(\u001b[0m\u001b[0mmodel\u001b[0m\u001b[0;34m,\u001b[0m \u001b[0mdataloaders\u001b[0m\u001b[0;34m=\u001b[0m\u001b[0mvalid_dataloader\u001b[0m\u001b[0;34m,\u001b[0m \u001b[0mverbose\u001b[0m\u001b[0;34m=\u001b[0m\u001b[0;32mFalse\u001b[0m\u001b[0;34m)\u001b[0m\u001b[0;34m\u001b[0m\u001b[0;34m\u001b[0m\u001b[0m\n\u001b[0m\u001b[1;32m     16\u001b[0m \u001b[0mprint\u001b[0m\u001b[0;34m(\u001b[0m\u001b[0mvalid_metrics\u001b[0m\u001b[0;34m)\u001b[0m\u001b[0;34m\u001b[0m\u001b[0;34m\u001b[0m\u001b[0m\n",
      "\u001b[0;32m~/miniconda3/envs/pytorch/lib/python3.9/site-packages/pytorch_lightning/trainer/trainer.py\u001b[0m in \u001b[0;36mvalidate\u001b[0;34m(self, model, dataloaders, ckpt_path, verbose, datamodule, val_dataloaders)\u001b[0m\n\u001b[1;32m    814\u001b[0m             )\n\u001b[1;32m    815\u001b[0m             \u001b[0mdataloaders\u001b[0m \u001b[0;34m=\u001b[0m \u001b[0mval_dataloaders\u001b[0m\u001b[0;34m\u001b[0m\u001b[0;34m\u001b[0m\u001b[0m\n\u001b[0;32m--> 816\u001b[0;31m         \u001b[0;32mreturn\u001b[0m \u001b[0mself\u001b[0m\u001b[0;34m.\u001b[0m\u001b[0m_call_and_handle_interrupt\u001b[0m\u001b[0;34m(\u001b[0m\u001b[0mself\u001b[0m\u001b[0;34m.\u001b[0m\u001b[0m_validate_impl\u001b[0m\u001b[0;34m,\u001b[0m \u001b[0mmodel\u001b[0m\u001b[0;34m,\u001b[0m \u001b[0mdataloaders\u001b[0m\u001b[0;34m,\u001b[0m \u001b[0mckpt_path\u001b[0m\u001b[0;34m,\u001b[0m \u001b[0mverbose\u001b[0m\u001b[0;34m,\u001b[0m \u001b[0mdatamodule\u001b[0m\u001b[0;34m)\u001b[0m\u001b[0;34m\u001b[0m\u001b[0;34m\u001b[0m\u001b[0m\n\u001b[0m\u001b[1;32m    817\u001b[0m \u001b[0;34m\u001b[0m\u001b[0m\n\u001b[1;32m    818\u001b[0m     def _validate_impl(\n",
      "\u001b[0;32m~/miniconda3/envs/pytorch/lib/python3.9/site-packages/pytorch_lightning/trainer/trainer.py\u001b[0m in \u001b[0;36m_call_and_handle_interrupt\u001b[0;34m(self, trainer_fn, *args, **kwargs)\u001b[0m\n\u001b[1;32m    680\u001b[0m         \"\"\"\n\u001b[1;32m    681\u001b[0m         \u001b[0;32mtry\u001b[0m\u001b[0;34m:\u001b[0m\u001b[0;34m\u001b[0m\u001b[0;34m\u001b[0m\u001b[0m\n\u001b[0;32m--> 682\u001b[0;31m             \u001b[0;32mreturn\u001b[0m \u001b[0mtrainer_fn\u001b[0m\u001b[0;34m(\u001b[0m\u001b[0;34m*\u001b[0m\u001b[0margs\u001b[0m\u001b[0;34m,\u001b[0m \u001b[0;34m**\u001b[0m\u001b[0mkwargs\u001b[0m\u001b[0;34m)\u001b[0m\u001b[0;34m\u001b[0m\u001b[0;34m\u001b[0m\u001b[0m\n\u001b[0m\u001b[1;32m    683\u001b[0m         \u001b[0;31m# TODO: treat KeyboardInterrupt as BaseException (delete the code below) in v1.7\u001b[0m\u001b[0;34m\u001b[0m\u001b[0;34m\u001b[0m\u001b[0m\n\u001b[1;32m    684\u001b[0m         \u001b[0;32mexcept\u001b[0m \u001b[0mKeyboardInterrupt\u001b[0m \u001b[0;32mas\u001b[0m \u001b[0mexception\u001b[0m\u001b[0;34m:\u001b[0m\u001b[0;34m\u001b[0m\u001b[0;34m\u001b[0m\u001b[0m\n",
      "\u001b[0;32m~/miniconda3/envs/pytorch/lib/python3.9/site-packages/pytorch_lightning/trainer/trainer.py\u001b[0m in \u001b[0;36m_validate_impl\u001b[0;34m(self, model, dataloaders, ckpt_path, verbose, datamodule)\u001b[0m\n\u001b[1;32m    857\u001b[0m \u001b[0;34m\u001b[0m\u001b[0m\n\u001b[1;32m    858\u001b[0m         \u001b[0;31m# run validate\u001b[0m\u001b[0;34m\u001b[0m\u001b[0;34m\u001b[0m\u001b[0m\n\u001b[0;32m--> 859\u001b[0;31m         \u001b[0mresults\u001b[0m \u001b[0;34m=\u001b[0m \u001b[0mself\u001b[0m\u001b[0;34m.\u001b[0m\u001b[0m_run\u001b[0m\u001b[0;34m(\u001b[0m\u001b[0mmodel\u001b[0m\u001b[0;34m,\u001b[0m \u001b[0mckpt_path\u001b[0m\u001b[0;34m=\u001b[0m\u001b[0mself\u001b[0m\u001b[0;34m.\u001b[0m\u001b[0mvalidated_ckpt_path\u001b[0m\u001b[0;34m)\u001b[0m\u001b[0;34m\u001b[0m\u001b[0;34m\u001b[0m\u001b[0m\n\u001b[0m\u001b[1;32m    860\u001b[0m \u001b[0;34m\u001b[0m\u001b[0m\n\u001b[1;32m    861\u001b[0m         \u001b[0;32massert\u001b[0m \u001b[0mself\u001b[0m\u001b[0;34m.\u001b[0m\u001b[0mstate\u001b[0m\u001b[0;34m.\u001b[0m\u001b[0mstopped\u001b[0m\u001b[0;34m\u001b[0m\u001b[0;34m\u001b[0m\u001b[0m\n",
      "\u001b[0;32m~/miniconda3/envs/pytorch/lib/python3.9/site-packages/pytorch_lightning/trainer/trainer.py\u001b[0m in \u001b[0;36m_run\u001b[0;34m(self, model, ckpt_path)\u001b[0m\n\u001b[1;32m   1193\u001b[0m \u001b[0;34m\u001b[0m\u001b[0m\n\u001b[1;32m   1194\u001b[0m         \u001b[0;31m# dispatch `start_training` or `start_evaluating` or `start_predicting`\u001b[0m\u001b[0;34m\u001b[0m\u001b[0;34m\u001b[0m\u001b[0m\n\u001b[0;32m-> 1195\u001b[0;31m         \u001b[0mself\u001b[0m\u001b[0;34m.\u001b[0m\u001b[0m_dispatch\u001b[0m\u001b[0;34m(\u001b[0m\u001b[0;34m)\u001b[0m\u001b[0;34m\u001b[0m\u001b[0;34m\u001b[0m\u001b[0m\n\u001b[0m\u001b[1;32m   1196\u001b[0m \u001b[0;34m\u001b[0m\u001b[0m\n\u001b[1;32m   1197\u001b[0m         \u001b[0;31m# plugin will finalized fitting (e.g. ddp_spawn will load trained model)\u001b[0m\u001b[0;34m\u001b[0m\u001b[0;34m\u001b[0m\u001b[0m\n",
      "\u001b[0;32m~/miniconda3/envs/pytorch/lib/python3.9/site-packages/pytorch_lightning/trainer/trainer.py\u001b[0m in \u001b[0;36m_dispatch\u001b[0;34m(self)\u001b[0m\n\u001b[1;32m   1268\u001b[0m     \u001b[0;32mdef\u001b[0m \u001b[0m_dispatch\u001b[0m\u001b[0;34m(\u001b[0m\u001b[0mself\u001b[0m\u001b[0;34m)\u001b[0m\u001b[0;34m:\u001b[0m\u001b[0;34m\u001b[0m\u001b[0;34m\u001b[0m\u001b[0m\n\u001b[1;32m   1269\u001b[0m         \u001b[0;32mif\u001b[0m \u001b[0mself\u001b[0m\u001b[0;34m.\u001b[0m\u001b[0mevaluating\u001b[0m\u001b[0;34m:\u001b[0m\u001b[0;34m\u001b[0m\u001b[0;34m\u001b[0m\u001b[0m\n\u001b[0;32m-> 1270\u001b[0;31m             \u001b[0mself\u001b[0m\u001b[0;34m.\u001b[0m\u001b[0mtraining_type_plugin\u001b[0m\u001b[0;34m.\u001b[0m\u001b[0mstart_evaluating\u001b[0m\u001b[0;34m(\u001b[0m\u001b[0mself\u001b[0m\u001b[0;34m)\u001b[0m\u001b[0;34m\u001b[0m\u001b[0;34m\u001b[0m\u001b[0m\n\u001b[0m\u001b[1;32m   1271\u001b[0m         \u001b[0;32melif\u001b[0m \u001b[0mself\u001b[0m\u001b[0;34m.\u001b[0m\u001b[0mpredicting\u001b[0m\u001b[0;34m:\u001b[0m\u001b[0;34m\u001b[0m\u001b[0;34m\u001b[0m\u001b[0m\n\u001b[1;32m   1272\u001b[0m             \u001b[0mself\u001b[0m\u001b[0;34m.\u001b[0m\u001b[0mtraining_type_plugin\u001b[0m\u001b[0;34m.\u001b[0m\u001b[0mstart_predicting\u001b[0m\u001b[0;34m(\u001b[0m\u001b[0mself\u001b[0m\u001b[0;34m)\u001b[0m\u001b[0;34m\u001b[0m\u001b[0;34m\u001b[0m\u001b[0m\n",
      "\u001b[0;32m~/miniconda3/envs/pytorch/lib/python3.9/site-packages/pytorch_lightning/plugins/training_type/training_type_plugin.py\u001b[0m in \u001b[0;36mstart_evaluating\u001b[0;34m(self, trainer)\u001b[0m\n\u001b[1;32m    204\u001b[0m     \u001b[0;32mdef\u001b[0m \u001b[0mstart_evaluating\u001b[0m\u001b[0;34m(\u001b[0m\u001b[0mself\u001b[0m\u001b[0;34m,\u001b[0m \u001b[0mtrainer\u001b[0m\u001b[0;34m:\u001b[0m \u001b[0;34m\"pl.Trainer\"\u001b[0m\u001b[0;34m)\u001b[0m \u001b[0;34m->\u001b[0m \u001b[0;32mNone\u001b[0m\u001b[0;34m:\u001b[0m\u001b[0;34m\u001b[0m\u001b[0;34m\u001b[0m\u001b[0m\n\u001b[1;32m    205\u001b[0m         \u001b[0;31m# double dispatch to initiate the test loop\u001b[0m\u001b[0;34m\u001b[0m\u001b[0;34m\u001b[0m\u001b[0m\n\u001b[0;32m--> 206\u001b[0;31m         \u001b[0mself\u001b[0m\u001b[0;34m.\u001b[0m\u001b[0m_results\u001b[0m \u001b[0;34m=\u001b[0m \u001b[0mtrainer\u001b[0m\u001b[0;34m.\u001b[0m\u001b[0mrun_stage\u001b[0m\u001b[0;34m(\u001b[0m\u001b[0;34m)\u001b[0m\u001b[0;34m\u001b[0m\u001b[0;34m\u001b[0m\u001b[0m\n\u001b[0m\u001b[1;32m    207\u001b[0m \u001b[0;34m\u001b[0m\u001b[0m\n\u001b[1;32m    208\u001b[0m     \u001b[0;32mdef\u001b[0m \u001b[0mstart_predicting\u001b[0m\u001b[0;34m(\u001b[0m\u001b[0mself\u001b[0m\u001b[0;34m,\u001b[0m \u001b[0mtrainer\u001b[0m\u001b[0;34m:\u001b[0m \u001b[0;34m\"pl.Trainer\"\u001b[0m\u001b[0;34m)\u001b[0m \u001b[0;34m->\u001b[0m \u001b[0;32mNone\u001b[0m\u001b[0;34m:\u001b[0m\u001b[0;34m\u001b[0m\u001b[0;34m\u001b[0m\u001b[0m\n",
      "\u001b[0;32m~/miniconda3/envs/pytorch/lib/python3.9/site-packages/pytorch_lightning/trainer/trainer.py\u001b[0m in \u001b[0;36mrun_stage\u001b[0;34m(self)\u001b[0m\n\u001b[1;32m   1279\u001b[0m \u001b[0;34m\u001b[0m\u001b[0m\n\u001b[1;32m   1280\u001b[0m         \u001b[0;32mif\u001b[0m \u001b[0mself\u001b[0m\u001b[0;34m.\u001b[0m\u001b[0mevaluating\u001b[0m\u001b[0;34m:\u001b[0m\u001b[0;34m\u001b[0m\u001b[0;34m\u001b[0m\u001b[0m\n\u001b[0;32m-> 1281\u001b[0;31m             \u001b[0;32mreturn\u001b[0m \u001b[0mself\u001b[0m\u001b[0;34m.\u001b[0m\u001b[0m_run_evaluate\u001b[0m\u001b[0;34m(\u001b[0m\u001b[0;34m)\u001b[0m\u001b[0;34m\u001b[0m\u001b[0;34m\u001b[0m\u001b[0m\n\u001b[0m\u001b[1;32m   1282\u001b[0m         \u001b[0;32mif\u001b[0m \u001b[0mself\u001b[0m\u001b[0;34m.\u001b[0m\u001b[0mpredicting\u001b[0m\u001b[0;34m:\u001b[0m\u001b[0;34m\u001b[0m\u001b[0;34m\u001b[0m\u001b[0m\n\u001b[1;32m   1283\u001b[0m             \u001b[0;32mreturn\u001b[0m \u001b[0mself\u001b[0m\u001b[0;34m.\u001b[0m\u001b[0m_run_predict\u001b[0m\u001b[0;34m(\u001b[0m\u001b[0;34m)\u001b[0m\u001b[0;34m\u001b[0m\u001b[0;34m\u001b[0m\u001b[0m\n",
      "\u001b[0;32m~/miniconda3/envs/pytorch/lib/python3.9/site-packages/pytorch_lightning/trainer/trainer.py\u001b[0m in \u001b[0;36m_run_evaluate\u001b[0;34m(self)\u001b[0m\n\u001b[1;32m   1327\u001b[0m \u001b[0;34m\u001b[0m\u001b[0m\n\u001b[1;32m   1328\u001b[0m         \u001b[0;32mwith\u001b[0m \u001b[0mself\u001b[0m\u001b[0;34m.\u001b[0m\u001b[0mprofiler\u001b[0m\u001b[0;34m.\u001b[0m\u001b[0mprofile\u001b[0m\u001b[0;34m(\u001b[0m\u001b[0;34mf\"run_{self.state.stage}_evaluation\"\u001b[0m\u001b[0;34m)\u001b[0m\u001b[0;34m,\u001b[0m \u001b[0mtorch\u001b[0m\u001b[0;34m.\u001b[0m\u001b[0mno_grad\u001b[0m\u001b[0;34m(\u001b[0m\u001b[0;34m)\u001b[0m\u001b[0;34m:\u001b[0m\u001b[0;34m\u001b[0m\u001b[0;34m\u001b[0m\u001b[0m\n\u001b[0;32m-> 1329\u001b[0;31m             \u001b[0meval_loop_results\u001b[0m \u001b[0;34m=\u001b[0m \u001b[0mself\u001b[0m\u001b[0;34m.\u001b[0m\u001b[0m_evaluation_loop\u001b[0m\u001b[0;34m.\u001b[0m\u001b[0mrun\u001b[0m\u001b[0;34m(\u001b[0m\u001b[0;34m)\u001b[0m\u001b[0;34m\u001b[0m\u001b[0;34m\u001b[0m\u001b[0m\n\u001b[0m\u001b[1;32m   1330\u001b[0m \u001b[0;34m\u001b[0m\u001b[0m\n\u001b[1;32m   1331\u001b[0m         \u001b[0;31m# remove the tensors from the eval results\u001b[0m\u001b[0;34m\u001b[0m\u001b[0;34m\u001b[0m\u001b[0m\n",
      "\u001b[0;32m~/miniconda3/envs/pytorch/lib/python3.9/site-packages/pytorch_lightning/loops/base.py\u001b[0m in \u001b[0;36mrun\u001b[0;34m(self, *args, **kwargs)\u001b[0m\n\u001b[1;32m    143\u001b[0m             \u001b[0;32mtry\u001b[0m\u001b[0;34m:\u001b[0m\u001b[0;34m\u001b[0m\u001b[0;34m\u001b[0m\u001b[0m\n\u001b[1;32m    144\u001b[0m                 \u001b[0mself\u001b[0m\u001b[0;34m.\u001b[0m\u001b[0mon_advance_start\u001b[0m\u001b[0;34m(\u001b[0m\u001b[0;34m*\u001b[0m\u001b[0margs\u001b[0m\u001b[0;34m,\u001b[0m \u001b[0;34m**\u001b[0m\u001b[0mkwargs\u001b[0m\u001b[0;34m)\u001b[0m\u001b[0;34m\u001b[0m\u001b[0;34m\u001b[0m\u001b[0m\n\u001b[0;32m--> 145\u001b[0;31m                 \u001b[0mself\u001b[0m\u001b[0;34m.\u001b[0m\u001b[0madvance\u001b[0m\u001b[0;34m(\u001b[0m\u001b[0;34m*\u001b[0m\u001b[0margs\u001b[0m\u001b[0;34m,\u001b[0m \u001b[0;34m**\u001b[0m\u001b[0mkwargs\u001b[0m\u001b[0;34m)\u001b[0m\u001b[0;34m\u001b[0m\u001b[0;34m\u001b[0m\u001b[0m\n\u001b[0m\u001b[1;32m    146\u001b[0m                 \u001b[0mself\u001b[0m\u001b[0;34m.\u001b[0m\u001b[0mon_advance_end\u001b[0m\u001b[0;34m(\u001b[0m\u001b[0;34m)\u001b[0m\u001b[0;34m\u001b[0m\u001b[0;34m\u001b[0m\u001b[0m\n\u001b[1;32m    147\u001b[0m                 \u001b[0mself\u001b[0m\u001b[0;34m.\u001b[0m\u001b[0mrestarting\u001b[0m \u001b[0;34m=\u001b[0m \u001b[0;32mFalse\u001b[0m\u001b[0;34m\u001b[0m\u001b[0;34m\u001b[0m\u001b[0m\n",
      "\u001b[0;32m~/miniconda3/envs/pytorch/lib/python3.9/site-packages/pytorch_lightning/loops/dataloader/evaluation_loop.py\u001b[0m in \u001b[0;36madvance\u001b[0;34m(self, *args, **kwargs)\u001b[0m\n\u001b[1;32m    107\u001b[0m         \u001b[0mdl_max_batches\u001b[0m \u001b[0;34m=\u001b[0m \u001b[0mself\u001b[0m\u001b[0;34m.\u001b[0m\u001b[0m_max_batches\u001b[0m\u001b[0;34m[\u001b[0m\u001b[0mdataloader_idx\u001b[0m\u001b[0;34m]\u001b[0m\u001b[0;34m\u001b[0m\u001b[0;34m\u001b[0m\u001b[0m\n\u001b[1;32m    108\u001b[0m \u001b[0;34m\u001b[0m\u001b[0m\n\u001b[0;32m--> 109\u001b[0;31m         \u001b[0mdl_outputs\u001b[0m \u001b[0;34m=\u001b[0m \u001b[0mself\u001b[0m\u001b[0;34m.\u001b[0m\u001b[0mepoch_loop\u001b[0m\u001b[0;34m.\u001b[0m\u001b[0mrun\u001b[0m\u001b[0;34m(\u001b[0m\u001b[0mdataloader\u001b[0m\u001b[0;34m,\u001b[0m \u001b[0mdataloader_idx\u001b[0m\u001b[0;34m,\u001b[0m \u001b[0mdl_max_batches\u001b[0m\u001b[0;34m,\u001b[0m \u001b[0mself\u001b[0m\u001b[0;34m.\u001b[0m\u001b[0mnum_dataloaders\u001b[0m\u001b[0;34m)\u001b[0m\u001b[0;34m\u001b[0m\u001b[0;34m\u001b[0m\u001b[0m\n\u001b[0m\u001b[1;32m    110\u001b[0m \u001b[0;34m\u001b[0m\u001b[0m\n\u001b[1;32m    111\u001b[0m         \u001b[0;31m# store batch level output per dataloader\u001b[0m\u001b[0;34m\u001b[0m\u001b[0;34m\u001b[0m\u001b[0m\n",
      "\u001b[0;32m~/miniconda3/envs/pytorch/lib/python3.9/site-packages/pytorch_lightning/loops/base.py\u001b[0m in \u001b[0;36mrun\u001b[0;34m(self, *args, **kwargs)\u001b[0m\n\u001b[1;32m    143\u001b[0m             \u001b[0;32mtry\u001b[0m\u001b[0;34m:\u001b[0m\u001b[0;34m\u001b[0m\u001b[0;34m\u001b[0m\u001b[0m\n\u001b[1;32m    144\u001b[0m                 \u001b[0mself\u001b[0m\u001b[0;34m.\u001b[0m\u001b[0mon_advance_start\u001b[0m\u001b[0;34m(\u001b[0m\u001b[0;34m*\u001b[0m\u001b[0margs\u001b[0m\u001b[0;34m,\u001b[0m \u001b[0;34m**\u001b[0m\u001b[0mkwargs\u001b[0m\u001b[0;34m)\u001b[0m\u001b[0;34m\u001b[0m\u001b[0;34m\u001b[0m\u001b[0m\n\u001b[0;32m--> 145\u001b[0;31m                 \u001b[0mself\u001b[0m\u001b[0;34m.\u001b[0m\u001b[0madvance\u001b[0m\u001b[0;34m(\u001b[0m\u001b[0;34m*\u001b[0m\u001b[0margs\u001b[0m\u001b[0;34m,\u001b[0m \u001b[0;34m**\u001b[0m\u001b[0mkwargs\u001b[0m\u001b[0;34m)\u001b[0m\u001b[0;34m\u001b[0m\u001b[0;34m\u001b[0m\u001b[0m\n\u001b[0m\u001b[1;32m    146\u001b[0m                 \u001b[0mself\u001b[0m\u001b[0;34m.\u001b[0m\u001b[0mon_advance_end\u001b[0m\u001b[0;34m(\u001b[0m\u001b[0;34m)\u001b[0m\u001b[0;34m\u001b[0m\u001b[0;34m\u001b[0m\u001b[0m\n\u001b[1;32m    147\u001b[0m                 \u001b[0mself\u001b[0m\u001b[0;34m.\u001b[0m\u001b[0mrestarting\u001b[0m \u001b[0;34m=\u001b[0m \u001b[0;32mFalse\u001b[0m\u001b[0;34m\u001b[0m\u001b[0;34m\u001b[0m\u001b[0m\n",
      "\u001b[0;32m~/miniconda3/envs/pytorch/lib/python3.9/site-packages/pytorch_lightning/loops/epoch/evaluation_epoch_loop.py\u001b[0m in \u001b[0;36madvance\u001b[0;34m(self, data_fetcher, dataloader_idx, dl_max_batches, num_dataloaders)\u001b[0m\n\u001b[1;32m    120\u001b[0m         \u001b[0;31m# lightning module methods\u001b[0m\u001b[0;34m\u001b[0m\u001b[0;34m\u001b[0m\u001b[0m\n\u001b[1;32m    121\u001b[0m         \u001b[0;32mwith\u001b[0m \u001b[0mself\u001b[0m\u001b[0;34m.\u001b[0m\u001b[0mtrainer\u001b[0m\u001b[0;34m.\u001b[0m\u001b[0mprofiler\u001b[0m\u001b[0;34m.\u001b[0m\u001b[0mprofile\u001b[0m\u001b[0;34m(\u001b[0m\u001b[0;34m\"evaluation_step_and_end\"\u001b[0m\u001b[0;34m)\u001b[0m\u001b[0;34m:\u001b[0m\u001b[0;34m\u001b[0m\u001b[0;34m\u001b[0m\u001b[0m\n\u001b[0;32m--> 122\u001b[0;31m             \u001b[0moutput\u001b[0m \u001b[0;34m=\u001b[0m \u001b[0mself\u001b[0m\u001b[0;34m.\u001b[0m\u001b[0m_evaluation_step\u001b[0m\u001b[0;34m(\u001b[0m\u001b[0mbatch\u001b[0m\u001b[0;34m,\u001b[0m \u001b[0mbatch_idx\u001b[0m\u001b[0;34m,\u001b[0m \u001b[0mdataloader_idx\u001b[0m\u001b[0;34m)\u001b[0m\u001b[0;34m\u001b[0m\u001b[0;34m\u001b[0m\u001b[0m\n\u001b[0m\u001b[1;32m    123\u001b[0m             \u001b[0moutput\u001b[0m \u001b[0;34m=\u001b[0m \u001b[0mself\u001b[0m\u001b[0;34m.\u001b[0m\u001b[0m_evaluation_step_end\u001b[0m\u001b[0;34m(\u001b[0m\u001b[0moutput\u001b[0m\u001b[0;34m)\u001b[0m\u001b[0;34m\u001b[0m\u001b[0;34m\u001b[0m\u001b[0m\n\u001b[1;32m    124\u001b[0m \u001b[0;34m\u001b[0m\u001b[0m\n",
      "\u001b[0;32m~/miniconda3/envs/pytorch/lib/python3.9/site-packages/pytorch_lightning/loops/epoch/evaluation_epoch_loop.py\u001b[0m in \u001b[0;36m_evaluation_step\u001b[0;34m(self, batch, batch_idx, dataloader_idx)\u001b[0m\n\u001b[1;32m    215\u001b[0m             \u001b[0mself\u001b[0m\u001b[0;34m.\u001b[0m\u001b[0mtrainer\u001b[0m\u001b[0;34m.\u001b[0m\u001b[0mlightning_module\u001b[0m\u001b[0;34m.\u001b[0m\u001b[0m_current_fx_name\u001b[0m \u001b[0;34m=\u001b[0m \u001b[0;34m\"validation_step\"\u001b[0m\u001b[0;34m\u001b[0m\u001b[0;34m\u001b[0m\u001b[0m\n\u001b[1;32m    216\u001b[0m             \u001b[0;32mwith\u001b[0m \u001b[0mself\u001b[0m\u001b[0;34m.\u001b[0m\u001b[0mtrainer\u001b[0m\u001b[0;34m.\u001b[0m\u001b[0mprofiler\u001b[0m\u001b[0;34m.\u001b[0m\u001b[0mprofile\u001b[0m\u001b[0;34m(\u001b[0m\u001b[0;34m\"validation_step\"\u001b[0m\u001b[0;34m)\u001b[0m\u001b[0;34m:\u001b[0m\u001b[0;34m\u001b[0m\u001b[0;34m\u001b[0m\u001b[0m\n\u001b[0;32m--> 217\u001b[0;31m                 \u001b[0moutput\u001b[0m \u001b[0;34m=\u001b[0m \u001b[0mself\u001b[0m\u001b[0;34m.\u001b[0m\u001b[0mtrainer\u001b[0m\u001b[0;34m.\u001b[0m\u001b[0maccelerator\u001b[0m\u001b[0;34m.\u001b[0m\u001b[0mvalidation_step\u001b[0m\u001b[0;34m(\u001b[0m\u001b[0mstep_kwargs\u001b[0m\u001b[0;34m)\u001b[0m\u001b[0;34m\u001b[0m\u001b[0;34m\u001b[0m\u001b[0m\n\u001b[0m\u001b[1;32m    218\u001b[0m \u001b[0;34m\u001b[0m\u001b[0m\n\u001b[1;32m    219\u001b[0m         \u001b[0;32mreturn\u001b[0m \u001b[0moutput\u001b[0m\u001b[0;34m\u001b[0m\u001b[0;34m\u001b[0m\u001b[0m\n",
      "\u001b[0;32m~/miniconda3/envs/pytorch/lib/python3.9/site-packages/pytorch_lightning/accelerators/accelerator.py\u001b[0m in \u001b[0;36mvalidation_step\u001b[0;34m(self, step_kwargs)\u001b[0m\n\u001b[1;32m    234\u001b[0m         \"\"\"\n\u001b[1;32m    235\u001b[0m         \u001b[0;32mwith\u001b[0m \u001b[0mself\u001b[0m\u001b[0;34m.\u001b[0m\u001b[0mprecision_plugin\u001b[0m\u001b[0;34m.\u001b[0m\u001b[0mval_step_context\u001b[0m\u001b[0;34m(\u001b[0m\u001b[0;34m)\u001b[0m\u001b[0;34m:\u001b[0m\u001b[0;34m\u001b[0m\u001b[0;34m\u001b[0m\u001b[0m\n\u001b[0;32m--> 236\u001b[0;31m             \u001b[0;32mreturn\u001b[0m \u001b[0mself\u001b[0m\u001b[0;34m.\u001b[0m\u001b[0mtraining_type_plugin\u001b[0m\u001b[0;34m.\u001b[0m\u001b[0mvalidation_step\u001b[0m\u001b[0;34m(\u001b[0m\u001b[0;34m*\u001b[0m\u001b[0mstep_kwargs\u001b[0m\u001b[0;34m.\u001b[0m\u001b[0mvalues\u001b[0m\u001b[0;34m(\u001b[0m\u001b[0;34m)\u001b[0m\u001b[0;34m)\u001b[0m\u001b[0;34m\u001b[0m\u001b[0;34m\u001b[0m\u001b[0m\n\u001b[0m\u001b[1;32m    237\u001b[0m \u001b[0;34m\u001b[0m\u001b[0m\n\u001b[1;32m    238\u001b[0m     \u001b[0;32mdef\u001b[0m \u001b[0mtest_step\u001b[0m\u001b[0;34m(\u001b[0m\u001b[0mself\u001b[0m\u001b[0;34m,\u001b[0m \u001b[0mstep_kwargs\u001b[0m\u001b[0;34m:\u001b[0m \u001b[0mDict\u001b[0m\u001b[0;34m[\u001b[0m\u001b[0mstr\u001b[0m\u001b[0;34m,\u001b[0m \u001b[0mUnion\u001b[0m\u001b[0;34m[\u001b[0m\u001b[0mAny\u001b[0m\u001b[0;34m,\u001b[0m \u001b[0mint\u001b[0m\u001b[0;34m]\u001b[0m\u001b[0;34m]\u001b[0m\u001b[0;34m)\u001b[0m \u001b[0;34m->\u001b[0m \u001b[0mOptional\u001b[0m\u001b[0;34m[\u001b[0m\u001b[0mSTEP_OUTPUT\u001b[0m\u001b[0;34m]\u001b[0m\u001b[0;34m:\u001b[0m\u001b[0;34m\u001b[0m\u001b[0;34m\u001b[0m\u001b[0m\n",
      "\u001b[0;32m~/miniconda3/envs/pytorch/lib/python3.9/site-packages/pytorch_lightning/plugins/training_type/training_type_plugin.py\u001b[0m in \u001b[0;36mvalidation_step\u001b[0;34m(self, *args, **kwargs)\u001b[0m\n\u001b[1;32m    217\u001b[0m \u001b[0;34m\u001b[0m\u001b[0m\n\u001b[1;32m    218\u001b[0m     \u001b[0;32mdef\u001b[0m \u001b[0mvalidation_step\u001b[0m\u001b[0;34m(\u001b[0m\u001b[0mself\u001b[0m\u001b[0;34m,\u001b[0m \u001b[0;34m*\u001b[0m\u001b[0margs\u001b[0m\u001b[0;34m,\u001b[0m \u001b[0;34m**\u001b[0m\u001b[0mkwargs\u001b[0m\u001b[0;34m)\u001b[0m\u001b[0;34m:\u001b[0m\u001b[0;34m\u001b[0m\u001b[0;34m\u001b[0m\u001b[0m\n\u001b[0;32m--> 219\u001b[0;31m         \u001b[0;32mreturn\u001b[0m \u001b[0mself\u001b[0m\u001b[0;34m.\u001b[0m\u001b[0mmodel\u001b[0m\u001b[0;34m.\u001b[0m\u001b[0mvalidation_step\u001b[0m\u001b[0;34m(\u001b[0m\u001b[0;34m*\u001b[0m\u001b[0margs\u001b[0m\u001b[0;34m,\u001b[0m \u001b[0;34m**\u001b[0m\u001b[0mkwargs\u001b[0m\u001b[0;34m)\u001b[0m\u001b[0;34m\u001b[0m\u001b[0;34m\u001b[0m\u001b[0m\n\u001b[0m\u001b[1;32m    220\u001b[0m \u001b[0;34m\u001b[0m\u001b[0m\n\u001b[1;32m    221\u001b[0m     \u001b[0;32mdef\u001b[0m \u001b[0mtest_step\u001b[0m\u001b[0;34m(\u001b[0m\u001b[0mself\u001b[0m\u001b[0;34m,\u001b[0m \u001b[0;34m*\u001b[0m\u001b[0margs\u001b[0m\u001b[0;34m,\u001b[0m \u001b[0;34m**\u001b[0m\u001b[0mkwargs\u001b[0m\u001b[0;34m)\u001b[0m\u001b[0;34m:\u001b[0m\u001b[0;34m\u001b[0m\u001b[0;34m\u001b[0m\u001b[0m\n",
      "\u001b[0;32m/tmp/ipykernel_129837/1282031815.py\u001b[0m in \u001b[0;36mvalidation_step\u001b[0;34m(self, batch, batch_idx)\u001b[0m\n\u001b[1;32m    286\u001b[0m \u001b[0;34m\u001b[0m\u001b[0m\n\u001b[1;32m    287\u001b[0m     \u001b[0;32mdef\u001b[0m \u001b[0mvalidation_step\u001b[0m\u001b[0;34m(\u001b[0m\u001b[0mself\u001b[0m\u001b[0;34m,\u001b[0m \u001b[0mbatch\u001b[0m\u001b[0;34m,\u001b[0m \u001b[0mbatch_idx\u001b[0m\u001b[0;34m)\u001b[0m\u001b[0;34m:\u001b[0m\u001b[0;34m\u001b[0m\u001b[0;34m\u001b[0m\u001b[0m\n\u001b[0;32m--> 288\u001b[0;31m         \u001b[0;32mreturn\u001b[0m \u001b[0mself\u001b[0m\u001b[0;34m.\u001b[0m\u001b[0mshared_step\u001b[0m\u001b[0;34m(\u001b[0m\u001b[0mbatch\u001b[0m\u001b[0;34m,\u001b[0m \u001b[0;34m\"valid\"\u001b[0m\u001b[0;34m)\u001b[0m\u001b[0;34m\u001b[0m\u001b[0;34m\u001b[0m\u001b[0m\n\u001b[0m\u001b[1;32m    289\u001b[0m \u001b[0;34m\u001b[0m\u001b[0m\n\u001b[1;32m    290\u001b[0m     \u001b[0;32mdef\u001b[0m \u001b[0mvalidation_epoch_end\u001b[0m\u001b[0;34m(\u001b[0m\u001b[0mself\u001b[0m\u001b[0;34m,\u001b[0m \u001b[0moutputs\u001b[0m\u001b[0;34m)\u001b[0m\u001b[0;34m:\u001b[0m\u001b[0;34m\u001b[0m\u001b[0;34m\u001b[0m\u001b[0m\n",
      "\u001b[0;32m/tmp/ipykernel_129837/1282031815.py\u001b[0m in \u001b[0;36mshared_step\u001b[0;34m(self, batch, stage)\u001b[0m\n\u001b[1;32m    163\u001b[0m \u001b[0;34m\u001b[0m\u001b[0m\n\u001b[1;32m    164\u001b[0m         \u001b[0;31m# [batch_size, n_classes, height, width] -> [batch_size,n_classes, height*width]\u001b[0m\u001b[0;34m\u001b[0m\u001b[0;34m\u001b[0m\u001b[0m\n\u001b[0;32m--> 165\u001b[0;31m         \u001b[0mlogits_mask1\u001b[0m \u001b[0;34m=\u001b[0m \u001b[0mlogits_mask1\u001b[0m\u001b[0;34m.\u001b[0m\u001b[0mview\u001b[0m\u001b[0;34m(\u001b[0m\u001b[0mbs\u001b[0m\u001b[0;34m,\u001b[0m \u001b[0mself\u001b[0m\u001b[0;34m.\u001b[0m\u001b[0mn_classes\u001b[0m\u001b[0;34m,\u001b[0m \u001b[0;34m-\u001b[0m\u001b[0;36m1\u001b[0m\u001b[0;34m)\u001b[0m\u001b[0;34m\u001b[0m\u001b[0;34m\u001b[0m\u001b[0m\n\u001b[0m\u001b[1;32m    166\u001b[0m         \u001b[0mpropagate_mask0\u001b[0m \u001b[0;34m=\u001b[0m \u001b[0mpropagate_mask0\u001b[0m\u001b[0;34m.\u001b[0m\u001b[0mview\u001b[0m\u001b[0;34m(\u001b[0m\u001b[0mbs\u001b[0m\u001b[0;34m,\u001b[0m \u001b[0mself\u001b[0m\u001b[0;34m.\u001b[0m\u001b[0mn_classes\u001b[0m\u001b[0;34m,\u001b[0m \u001b[0;34m-\u001b[0m\u001b[0;36m1\u001b[0m\u001b[0;34m)\u001b[0m\u001b[0;34m\u001b[0m\u001b[0;34m\u001b[0m\u001b[0m\n\u001b[1;32m    167\u001b[0m         \u001b[0;31m# [batch_size,n_classes, height*width] -> [batch_size, height*width, n_classes]\u001b[0m\u001b[0;34m\u001b[0m\u001b[0;34m\u001b[0m\u001b[0m\n",
      "\u001b[0;31mRuntimeError\u001b[0m: shape '[10, 6, -1]' is invalid for input of size 18350080"
     ]
    }
   ],
   "source": [
    "\n",
    "model = SequenceRoboCupModel(\"FPN\", \"timm-mobilenetv3_small_minimal_100\", \n",
    "                             in_channels=3, \n",
    "                             out_classes=6, \n",
    "                             combine_method='single',\n",
    "                             K=valid_dataset.K, \n",
    "                             Kinv=valid_dataset.Kinv, \n",
    "                             fusion_method=ef_fusion\n",
    "                             )\n",
    "model.model = torch.load('uncertain_semantic_mobilenetv3_200epoch.pt')\n",
    "trainer = pl.Trainer(\n",
    "    gpus=1, \n",
    "    max_epochs=200,\n",
    ")\n",
    "# run validation dataset\n",
    "valid_metrics = trainer.validate(model, dataloaders=valid_dataloader, verbose=False)\n",
    "print(valid_metrics)"
   ]
  },
  {
   "cell_type": "code",
   "execution_count": 22,
   "id": "aea5d23c",
   "metadata": {
    "hidden": true
   },
   "outputs": [
    {
     "data": {
      "image/png": "[encoded data removed]",
      "text/plain": [
       "<Figure size 720x720 with 2 Axes>"
      ]
     },
     "metadata": {
      "needs_background": "light"
     },
     "output_type": "display_data"
    }
   ],
   "source": [
    "cm = model.cm.cpu().detach().numpy()\n",
    "cm = cm.astype('float') / cm.sum(axis=1)[:, np.newaxis]\n",
    "cm.shape\n",
    "import matplotlib.pyplot as plt\n",
    "from sklearn.metrics import confusion_matrix, ConfusionMatrixDisplay\n",
    "\n",
    "disp = ConfusionMatrixDisplay(cm, display_labels=list(valid_dataset.class_names.values()))\n",
    "fig, ax = plt.subplots(figsize=(10,10))\n",
    "disp.plot(ax=ax)\n",
    "plt.show()"
   ]
  },
  {
   "cell_type": "markdown",
   "id": "85c08301",
   "metadata": {
    "heading_collapsed": true,
    "hidden": true
   },
   "source": [
    "## Validation with Adition fusion"
   ]
  },
  {
   "cell_type": "code",
   "execution_count": 23,
   "id": "cec62818",
   "metadata": {
    "hidden": true
   },
   "outputs": [
    {
     "name": "stderr",
     "output_type": "stream",
     "text": [
      "GPU available: True, used: True\n",
      "TPU available: False, using: 0 TPU cores\n",
      "IPU available: False, using: 0 IPUs\n",
      "LOCAL_RANK: 0 - CUDA_VISIBLE_DEVICES: [0]\n"
     ]
    },
    {
     "data": {
      "application/vnd.jupyter.widget-view+json": {
       "model_id": "",
       "version_major": 2,
       "version_minor": 0
      },
      "text/plain": [
       "Validating: 0it [00:00, ?it/s]"
      ]
     },
     "metadata": {},
     "output_type": "display_data"
    },
    {
     "name": "stdout",
     "output_type": "stream",
     "text": [
      "torch.Size([7, 7])\n",
      "[{'valid_per_image_iou': 0.9234182238578796, 'valid_dataset_iou': 0.9226863384246826, 'valid_evidential_loss': 0.6246548891067505}]\n"
     ]
    }
   ],
   "source": [
    "\n",
    "model = SequenceRoboCupModel(\"FPN\", \"timm-mobilenetv3_small_minimal_100\", \n",
    "                             in_channels=3, \n",
    "                             out_classes=7, \n",
    "                             combine_method='sum',\n",
    "                             K=valid_dataset.K, \n",
    "                             Kinv=valid_dataset.Kinv, \n",
    "                             fusion_method=ef_fusion\n",
    "                             )\n",
    "model.model = torch.load('uncertain_semantic_mobilenetv3_200epoch.pt')\n",
    "trainer = pl.Trainer(\n",
    "    gpus=1, \n",
    "    max_epochs=200,\n",
    ")\n",
    "# run validation dataset\n",
    "valid_metrics = trainer.validate(model, dataloaders=valid_dataloader, verbose=False)\n",
    "print(valid_metrics)"
   ]
  },
  {
   "cell_type": "code",
   "execution_count": 24,
   "id": "37d9e7a2",
   "metadata": {
    "hidden": true
   },
   "outputs": [
    {
     "data": {
      "image/png": "[encoded data removed]",
      "text/plain": [
       "<Figure size 720x720 with 2 Axes>"
      ]
     },
     "metadata": {
      "needs_background": "light"
     },
     "output_type": "display_data"
    }
   ],
   "source": [
    "cm = model.cm.cpu().detach().numpy()\n",
    "cm = cm.astype('float') / cm.sum(axis=1)[:, np.newaxis]\n",
    "\n",
    "disp = ConfusionMatrixDisplay(cm, display_labels=list(valid_dataset.class_names.values()))\n",
    "fig, ax = plt.subplots(figsize=(10,10))\n",
    "disp.plot(ax=ax)\n",
    "plt.show()"
   ]
  },
  {
   "cell_type": "markdown",
   "id": "3ab7ed72",
   "metadata": {
    "heading_collapsed": true,
    "hidden": true
   },
   "source": [
    "## Validation with Effective Bayesian Fusion "
   ]
  },
  {
   "cell_type": "code",
   "execution_count": 18,
   "id": "221a8597",
   "metadata": {
    "hidden": true
   },
   "outputs": [
    {
     "name": "stderr",
     "output_type": "stream",
     "text": [
      "GPU available: True, used: True\n",
      "TPU available: False, using: 0 TPU cores\n",
      "IPU available: False, using: 0 IPUs\n",
      "LOCAL_RANK: 0 - CUDA_VISIBLE_DEVICES: [0]\n"
     ]
    },
    {
     "data": {
      "application/vnd.jupyter.widget-view+json": {
       "model_id": "",
       "version_major": 2,
       "version_minor": 0
      },
      "text/plain": [
       "Validating: 0it [00:00, ?it/s]"
      ]
     },
     "metadata": {},
     "output_type": "display_data"
    },
    {
     "name": "stdout",
     "output_type": "stream",
     "text": [
      "torch.Size([7, 7])\n",
      "[{'valid_per_image_iou': 0.9142459034919739, 'valid_dataset_iou': 0.9134470224380493, 'valid_evidential_loss': 0.6268107891082764}]\n"
     ]
    }
   ],
   "source": [
    "#Create fusion class\n",
    "ef_fusion_dampster = EffectiveProbability(confusion_matrix=cm, fusion_type='bayes')\n",
    "\n",
    "model = SequenceRoboCupModel(\"FPN\", \"timm-mobilenetv3_small_minimal_100\", \n",
    "                             in_channels=3, \n",
    "                             out_classes=6, \n",
    "                             combine_method='bayes',\n",
    "                             K=valid_dataset.K, \n",
    "                             Kinv=valid_dataset.Kinv, \n",
    "                             fusion_method=ef_fusion_dampster\n",
    "                             )\n",
    "model.model = torch.load('uncertain_semantic_mobilenetv3_200epoch.pt')\n",
    "trainer = pl.Trainer(\n",
    "    gpus=1, \n",
    "    max_epochs=200,\n",
    ")\n",
    "# run validation dataset\n",
    "valid_metrics = trainer.validate(model, dataloaders=valid_dataloader, verbose=False)\n",
    "print(valid_metrics)"
   ]
  },
  {
   "cell_type": "markdown",
   "id": "41811692",
   "metadata": {
    "heading_collapsed": true,
    "hidden": true
   },
   "source": [
    "## Validation with Effective Dampster Fusion "
   ]
  },
  {
   "cell_type": "code",
   "execution_count": 11,
   "id": "cc1fa4c6",
   "metadata": {
    "hidden": true
   },
   "outputs": [],
   "source": [
    "with open('robocup_mobilenet_cm.npy', 'rb') as f:\n",
    "    cm = np.load(f)"
   ]
  },
  {
   "cell_type": "code",
   "execution_count": 25,
   "id": "f8c3b4bb",
   "metadata": {
    "hidden": true
   },
   "outputs": [
    {
     "name": "stderr",
     "output_type": "stream",
     "text": [
      "GPU available: True, used: False\n",
      "TPU available: False, using: 0 TPU cores\n",
      "IPU available: False, using: 0 IPUs\n",
      "/home/deebuls/miniconda3/envs/pytorch/lib/python3.9/site-packages/pytorch_lightning/trainer/trainer.py:1579: UserWarning: GPU available but not used. Set the gpus flag in your trainer `Trainer(gpus=1)` or script `--gpus=1`.\n",
      "  rank_zero_warn(\n"
     ]
    },
    {
     "data": {
      "application/vnd.jupyter.widget-view+json": {
       "model_id": "3c3351c9fed54da3a0a5724a458360b7",
       "version_major": 2,
       "version_minor": 0
      },
      "text/plain": [
       "Validating: 0it [00:00, ?it/s]"
      ]
     },
     "metadata": {},
     "output_type": "display_data"
    },
    {
     "name": "stderr",
     "output_type": "stream",
     "text": [
      "/home/deebuls/Documents/phd/blender-dataset/semantic_segmentation/efprob_dc.py:952: RuntimeWarning: Encountered 0 during disintegration; produces a subprobability channel\n",
      "  warnings.warn(\"Encountered 0 during disintegration; produces a subprobability channel\",\n"
     ]
    },
    {
     "name": "stdout",
     "output_type": "stream",
     "text": [
      "None\n"
     ]
    },
    {
     "name": "stderr",
     "output_type": "stream",
     "text": [
      "/home/deebuls/miniconda3/envs/pytorch/lib/python3.9/site-packages/pytorch_lightning/trainer/trainer.py:685: UserWarning: Detected KeyboardInterrupt, attempting graceful shutdown...\n",
      "  rank_zero_warn(\"Detected KeyboardInterrupt, attempting graceful shutdown...\")\n"
     ]
    }
   ],
   "source": [
    "#Create fusion class\n",
    "ef_fusion_dampster = EffectiveProbability(confusion_matrix=cm, fusion_type='dampster')\n",
    "\n",
    "model = SequenceRoboCupModel(\"FPN\", \"timm-mobilenetv3_small_minimal_100\", \n",
    "                             in_channels=3, \n",
    "                             out_classes=7, \n",
    "                             combine_method='bayes',\n",
    "                             K=valid_dataset.K, \n",
    "                             Kinv=valid_dataset.Kinv, \n",
    "                             fusion_method=ef_fusion_dampster\n",
    "                             )\n",
    "model.model = torch.load('uncertain_semantic_mobilenetv3_200epoch.pt')\n",
    "\n",
    "# CPU accelerator\n",
    "trainer = pl.Trainer(accelerator=\"cpu\")\n",
    "# run validation dataset\n",
    "valid_metrics = trainer.validate(model, dataloaders=valid_dataloader, verbose=False)\n",
    "print(valid_metrics)"
   ]
  },
  {
   "cell_type": "markdown",
   "id": "d4a40332",
   "metadata": {},
   "source": [
    "# Epipolar Geometry Class"
   ]
  },
  {
   "cell_type": "code",
   "execution_count": 115,
   "id": "d946c866",
   "metadata": {},
   "outputs": [],
   "source": [
    "class EpipolarPropagation(torch.nn.Module):\n",
    "    '''\n",
    "    EpipolarPropagation propagates a batch tensor based on the depth \n",
    "    and camera parameters.\n",
    "    ASSUMPTION: Works on on square images because of the clamping\n",
    "    TODO : Find a way of better clamping rather than magic number 511\n",
    "    ToDo Remove the loop for filling\n",
    "    TODO : Assert of intrinsic and image height . need to check datagenerator\n",
    "    \n",
    "    '''\n",
    "    def __init__(self, K, Kinv, height, width, fill_empty_with_ones=0):\n",
    "        super(EpipolarPropagation, self).__init__()\n",
    "        \n",
    "        assert K.ndim == 2\n",
    "        assert Kinv.ndim == 2\n",
    "        assert height == width #Onlt works for square images, update in dataloader\n",
    "        \n",
    "        self.fill_empty_with_ones = fill_empty_with_ones\n",
    "        \n",
    "        self.device = torch.device('cuda' if torch.cuda.is_available() else 'cpu')\n",
    "        print(self.device,  )\n",
    "        \n",
    "        self.K = torch.Tensor(K).float().to(self.device)\n",
    "        self.Kinv = torch.Tensor(Kinv).float().to(self.device)\n",
    "        self.height = height\n",
    "        self.width = width\n",
    "        \n",
    "        #checking if cmaera intrinsic is alligned with the image size\n",
    "        #assert K[0,2]*2 == height\n",
    "        #commeinting htis as intrinsix image size is 511 and actual image is 512 need to debug\n",
    "        \n",
    "        #Getting index of each pixel of image in [n,3, height*width] shape device=self.device\n",
    "        self.grid_x, self.grid_y = torch.meshgrid(torch.arange(height, device=self.device), \n",
    "                                        torch.arange(width, device=self.device), indexing='ij')\n",
    "        self.grid_x = torch.flatten(self.grid_x, start_dim=0)\n",
    "        self.grid_y = torch.flatten(self.grid_y, start_dim=0)\n",
    "        ## Stacking to make the matrix 3 x points\n",
    "        self.index = torch.vstack((self.grid_x, self.grid_y, torch.ones_like(self.grid_y))).float()\n",
    "        \n",
    "    def forward(self, image, depth, T, R):\n",
    "        assert torch.is_tensor(image) == True\n",
    "        assert torch.is_tensor(depth) == True\n",
    "        assert torch.is_tensor(T) == True\n",
    "        assert torch.is_tensor(R) == True\n",
    "        assert image.ndim == 4\n",
    "        assert depth.ndim == 3\n",
    "                \n",
    "        #Getting depth and flatenning it and making it [n, 1, height*width] shape\n",
    "        flattened_depth = torch.flatten(depth, start_dim=1)\n",
    "        flattened_depth = torch.unsqueeze(flattened_depth, dim=1).float().to(self.device)\n",
    "\n",
    "        #Getting Transformation and Rotation from previous frame\n",
    "        T = T.float().to(self.device)\n",
    "        R = R.float().to(self.device)\n",
    "        \n",
    "\n",
    "        #Epipolar Geometry\n",
    "        transposed_index = ( torch.matmul(torch.matmul(torch.matmul(self.K, R), self.Kinv), self.index) + \n",
    "                             torch.matmul(self.K,torch.div(T, flattened_depth)) )\n",
    "        ## Dividing Last column for each image\n",
    "        transposed_index = torch.div(transposed_index, transposed_index[:,2,:].unsqueeze(1))\n",
    "        ## Clamping index ,  imagesize subtracting 1\n",
    "        transposed_index = torch.clamp(transposed_index, min=0, max=self.height-1).long() # \n",
    "        #Projecting pixels from previous frame based on the transposed index\n",
    "        if self.fill_empty_with_ones:\n",
    "            projected_tensor = torch.ones_like(image, device=self.device)\n",
    "        else:\n",
    "            projected_tensor = torch.zeros_like(image, device=self.device)\n",
    "\n",
    "        image = image.to(self.device)\n",
    "        #ToDo can this be done without for loop\n",
    "        for i,p in enumerate(transposed_index):\n",
    "            projected_tensor[i,:,p[0],p[1]] = image[i,:,self.grid_x, self.grid_y]\n",
    "\n",
    "        projected_tensor = projected_tensor.float()\n",
    "        #m = torch.nn.MaxPool2d(2)\n",
    "        projected_tensor = F.max_pool2d(projected_tensor, kernel_size=2)\n",
    "\n",
    "        projected_tensor = interpolate(projected_tensor, scale_factor=2 )\n",
    "        \n",
    "        return projected_tensor"
   ]
  },
  {
   "cell_type": "code",
   "execution_count": 4,
   "id": "d091ee98",
   "metadata": {},
   "outputs": [],
   "source": [
    "batch = next(iter(valid_dataloader))"
   ]
  },
  {
   "cell_type": "code",
   "execution_count": 5,
   "id": "b57413cf",
   "metadata": {},
   "outputs": [
    {
     "name": "stdout",
     "output_type": "stream",
     "text": [
      "-1\n"
     ]
    }
   ],
   "source": [
    "print (torch.get_device(batch['image0']))"
   ]
  },
  {
   "cell_type": "code",
   "execution_count": 6,
   "id": "fe6ac7f1",
   "metadata": {},
   "outputs": [],
   "source": [
    "bs, channel, height, width = batch['image0'].shape"
   ]
  },
  {
   "cell_type": "code",
   "execution_count": 7,
   "id": "c3fd5596",
   "metadata": {},
   "outputs": [
    {
     "data": {
      "text/plain": [
       "torch.Size([10, 512, 512])"
      ]
     },
     "execution_count": 7,
     "metadata": {},
     "output_type": "execute_result"
    }
   ],
   "source": [
    "batch['depth0'].shape"
   ]
  },
  {
   "cell_type": "code",
   "execution_count": 8,
   "id": "befdf7d5",
   "metadata": {},
   "outputs": [
    {
     "name": "stdout",
     "output_type": "stream",
     "text": [
      "cuda\n"
     ]
    }
   ],
   "source": [
    "epipolar_propagation = EpipolarPropagation(valid_dataset.K, valid_dataset.Kinv, height, width )"
   ]
  },
  {
   "cell_type": "code",
   "execution_count": 158,
   "id": "09d4ee6d",
   "metadata": {},
   "outputs": [],
   "source": [
    "projected_image = epipolar_propagation(batch['mask0'], \n",
    "                                         batch['depth0'], \n",
    "                                         batch['translation_old_to_new_camera_frame'],\n",
    "                                         batch['rotation_old_to_new_camera_frame'])"
   ]
  },
  {
   "cell_type": "code",
   "execution_count": 159,
   "id": "1da7ab5a",
   "metadata": {},
   "outputs": [
    {
     "data": {
      "text/plain": [
       "torch.Size([10, 1, 512, 512])"
      ]
     },
     "execution_count": 159,
     "metadata": {},
     "output_type": "execute_result"
    }
   ],
   "source": [
    "projected_image.shape"
   ]
  },
  {
   "cell_type": "code",
   "execution_count": 160,
   "id": "555e3ebb",
   "metadata": {},
   "outputs": [
    {
     "data": {
      "image/png": "[encoded data removed]",
      "text/plain": [
       "<Figure size 720x360 with 3 Axes>"
      ]
     },
     "metadata": {
      "needs_background": "light"
     },
     "output_type": "display_data"
    },
    {
     "data": {
      "image/png": "[encoded data removed]",
      "text/plain": [
       "<Figure size 720x360 with 3 Axes>"
      ]
     },
     "metadata": {
      "needs_background": "light"
     },
     "output_type": "display_data"
    },
    {
     "data": {
      "image/png": "[encoded data removed]",
      "text/plain": [
       "<Figure size 720x360 with 3 Axes>"
      ]
     },
     "metadata": {
      "needs_background": "light"
     },
     "output_type": "display_data"
    },
    {
     "data": {
      "image/png": "[encoded data removed]",
      "text/plain": [
       "<Figure size 720x360 with 3 Axes>"
      ]
     },
     "metadata": {
      "needs_background": "light"
     },
     "output_type": "display_data"
    },
    {
     "data": {
      "image/png": "[encoded data removed]",
      "text/plain": [
       "<Figure size 720x360 with 3 Axes>"
      ]
     },
     "metadata": {
      "needs_background": "light"
     },
     "output_type": "display_data"
    },
    {
     "data": {
      "image/png": "[encoded data removed]",
      "text/plain": [
       "<Figure size 720x360 with 3 Axes>"
      ]
     },
     "metadata": {
      "needs_background": "light"
     },
     "output_type": "display_data"
    },
    {
     "data": {
      "image/png": "[encoded data removed]",
      "text/plain": [
       "<Figure size 720x360 with 3 Axes>"
      ]
     },
     "metadata": {
      "needs_background": "light"
     },
     "output_type": "display_data"
    },
    {
     "data": {
      "image/png": "[encoded data removed]",
      "text/plain": [
       "<Figure size 720x360 with 3 Axes>"
      ]
     },
     "metadata": {
      "needs_background": "light"
     },
     "output_type": "display_data"
    },
    {
     "data": {
      "image/png": "[encoded data removed]",
      "text/plain": [
       "<Figure size 720x360 with 3 Axes>"
      ]
     },
     "metadata": {
      "needs_background": "light"
     },
     "output_type": "display_data"
    },
    {
     "data": {
      "image/png": "[encoded data removed]",
      "text/plain": [
       "<Figure size 720x360 with 3 Axes>"
      ]
     },
     "metadata": {
      "needs_background": "light"
     },
     "output_type": "display_data"
    }
   ],
   "source": [
    "for prev_image, curr_image, pr_image in zip(batch[\"mask0\"], batch[\"mask1\"], projected_image):\n",
    "    plt.figure(figsize=(10, 5))\n",
    "\n",
    "    plt.subplot(1, 3, 1)\n",
    "    plt.imshow(prev_image.numpy().squeeze())  # convert CHW -> HWC\n",
    "    plt.title(\"Image\")\n",
    "    #plt.axis(\"off\")\n",
    "\n",
    "    plt.subplot(1, 3, 2)\n",
    "    plt.imshow(curr_image.numpy().squeeze()) # just squeeze classes dim, because we have only one class\n",
    "    plt.title(\"Ground truth\")\n",
    "    #plt.axis(\"off\")\n",
    "\n",
    "    plt.subplot(1, 3, 3)\n",
    "    plt.imshow(pr_image.cpu().detach().numpy().squeeze()) # just squeeze classes dim, because we have only one class\n",
    "    plt.title(\"Prediction\")\n",
    "    #plt.axis(\"off\")\n",
    "    \n",
    "  \n",
    "    plt.show()\n",
    "    "
   ]
  },
  {
   "cell_type": "markdown",
   "id": "c8ca0961",
   "metadata": {
    "heading_collapsed": true
   },
   "source": [
    "### Debugging  \n",
    "\n",
    "Copying code from debugSemanticSegmentation notebook where\n",
    "\n",
    "The problem was in iamge size and the camera intrinsic parameters . "
   ]
  },
  {
   "cell_type": "code",
   "execution_count": 141,
   "id": "1aa12cb7",
   "metadata": {
    "hidden": true
   },
   "outputs": [
    {
     "name": "stdout",
     "output_type": "stream",
     "text": [
      "flateneded Depth  torch.Size([10, 1, 65536])\n",
      "Translatio :  torch.Size([10, 3, 1])\n",
      "tensor([[ 0.0011],\n",
      "        [-0.0005],\n",
      "        [-0.1451]], dtype=torch.float64)\n",
      "Rotation :  torch.Size([10, 3, 3]) tensor([[ 1.0000e+00, -1.3878e-17, -5.5511e-17],\n",
      "        [ 1.3878e-17,  1.0000e+00,  0.0000e+00],\n",
      "        [ 5.5511e-17,  5.5511e-17,  1.0000e+00]], dtype=torch.float64)\n"
     ]
    }
   ],
   "source": [
    "flattened_depth = torch.flatten(batch['depth0'], start_dim=1)\n",
    "flattened_depth = torch.unsqueeze(flattened_depth, dim=1)\n",
    "print (\"flateneded Depth \", flattened_depth.shape)\n",
    "T = batch['translation_old_to_new_camera_frame']\n",
    "print (\"Translatio : \", T.shape,)\n",
    "print (T[0])\n",
    "R = batch['rotation_old_to_new_camera_frame'].double()\n",
    "print (\"Rotation : \", R.shape,  R[0])"
   ]
  },
  {
   "cell_type": "code",
   "execution_count": 142,
   "id": "6a86abf9",
   "metadata": {
    "hidden": true
   },
   "outputs": [
    {
     "name": "stdout",
     "output_type": "stream",
     "text": [
      "[[711.11127387   0.         255.5       ]\n",
      " [  0.         711.11127387 255.5       ]\n",
      " [  0.           0.           1.        ]]\n"
     ]
    }
   ],
   "source": [
    "print (valid_dataset.K)"
   ]
  },
  {
   "cell_type": "code",
   "execution_count": 167,
   "id": "cb62cd52",
   "metadata": {
    "hidden": true
   },
   "outputs": [
    {
     "data": {
      "text/plain": [
       "511.0"
      ]
     },
     "execution_count": 167,
     "metadata": {},
     "output_type": "execute_result"
    }
   ],
   "source": [
    "valid_dataset.K[0,2]*2"
   ]
  },
  {
   "cell_type": "markdown",
   "id": "669f2877",
   "metadata": {},
   "source": [
    "# Dampster Fusion creating class"
   ]
  },
  {
   "cell_type": "markdown",
   "id": "432ebe66",
   "metadata": {
    "heading_collapsed": true
   },
   "source": [
    "## old code"
   ]
  },
  {
   "cell_type": "code",
   "execution_count": 182,
   "id": "1c482d21",
   "metadata": {
    "hidden": true
   },
   "outputs": [],
   "source": [
    "def dempster_schafer_combine(alpha1, alpha2):\n",
    "        bs, n_classes = alpha1.shape\n",
    "        # Calculate the merger of two DS evidences\n",
    "        alpha = dict()\n",
    "        alpha[0], alpha[1] = alpha1, alpha2\n",
    "        b, S, E, u = dict(), dict(), dict(), dict()\n",
    "        for v in range(2):\n",
    "            S[v] = torch.sum(alpha[v], dim=1, keepdim=True)\n",
    "            E[v] = alpha[v] - 1\n",
    "            b[v] = E[v] / (S[v].expand(E[v].shape))\n",
    "            u[v] = n_classes / S[v]\n",
    "\n",
    "        # b^0 @ b^(0+1)\n",
    "        bb = torch.bmm(b[0].view(-1, n_classes, 1), b[1].view(-1, 1, n_classes))\n",
    "        # b^0 * u^1\n",
    "        uv1_expand = u[1].expand(b[0].shape)\n",
    "        bu = torch.mul(b[0], uv1_expand)\n",
    "        # b^1 * u^0\n",
    "        uv_expand = u[0].expand(b[0].shape)\n",
    "        ub = torch.mul(b[1], uv_expand)\n",
    "        # calculate K\n",
    "        bb_sum = torch.sum(bb, dim=(1, 2), out=None)\n",
    "        bb_diag = torch.diagonal(bb, dim1=-2, dim2=-1).sum(-1)\n",
    "        # bb_diag1 = torch.diag(torch.mm(b[v], torch.transpose(b[v+1], 0, 1)))\n",
    "        K = bb_sum - bb_diag\n",
    "\n",
    "        # calculate b^a\n",
    "        b_a = (torch.mul(b[0], b[1]) + bu + ub) / ((1 - K).view(-1, 1).expand(b[0].shape))\n",
    "        # calculate u^a\n",
    "        u_a = torch.mul(u[0], u[1]) / ((1 - K).view(-1, 1).expand(u[0].shape))\n",
    "        # test = torch.sum(b_a, dim = 1, keepdim = True) + u_a #Verify programming errors\n",
    "\n",
    "        # calculate new S\n",
    "        S_a = n_classes / u_a\n",
    "        # calculate new e_k\n",
    "        e_a = torch.mul(b_a, S_a.expand(b_a.shape))\n",
    "        alpha_a = e_a + 1\n",
    "        return alpha_a"
   ]
  },
  {
   "cell_type": "code",
   "execution_count": 183,
   "id": "da7d2f1c",
   "metadata": {
    "hidden": true
   },
   "outputs": [],
   "source": [
    "alpha1 = torch.tensor([[10, 20, 30]])\n",
    "alpha2 = torch.tensor([[2, 4, 8]])"
   ]
  },
  {
   "cell_type": "code",
   "execution_count": 184,
   "id": "5859d1a9",
   "metadata": {
    "hidden": true
   },
   "outputs": [
    {
     "data": {
      "text/plain": [
       "torch.Size([1, 3])"
      ]
     },
     "execution_count": 184,
     "metadata": {},
     "output_type": "execute_result"
    }
   ],
   "source": [
    "alpha1.shape"
   ]
  },
  {
   "cell_type": "code",
   "execution_count": 185,
   "id": "12580fdc",
   "metadata": {
    "hidden": true
   },
   "outputs": [
    {
     "data": {
      "text/plain": [
       "tensor([[ 14.0000,  42.0000, 104.6666]])"
      ]
     },
     "execution_count": 185,
     "metadata": {},
     "output_type": "execute_result"
    }
   ],
   "source": [
    "dempster_schafer_combine(alpha1, alpha2)"
   ]
  },
  {
   "cell_type": "markdown",
   "id": "28692836",
   "metadata": {
    "heading_collapsed": true
   },
   "source": [
    "## Class defn"
   ]
  },
  {
   "cell_type": "code",
   "execution_count": 66,
   "id": "40730b15",
   "metadata": {
    "hidden": true
   },
   "outputs": [],
   "source": [
    "class DempsterSchaferCombine(torch.nn.Module):\n",
    "    '''\n",
    "    DempsterSchaferCombine will combine 2 dirichlet distribution.\n",
    "    The assumption is that you will get a batch of predictions.\n",
    "    The output is shape of [batch*height*width, n_classes]\n",
    "    '''\n",
    "    def __init__(self, n_classes):\n",
    "        super(DempsterSchaferCombine, self).__init__()\n",
    "        self.n_classes = n_classes\n",
    "        \n",
    "    def forward(self, alpha1, alpha2, debug_pixel=0):\n",
    "        assert alpha1.ndim == 4\n",
    "        assert alpha2.ndim == 4\n",
    "        assert alpha1.shape == alpha2.shape\n",
    "        assert alpha1.shape[1] == self.n_classes\n",
    "        assert alpha2.shape[1] == self.n_classes\n",
    "        \n",
    "        # [batch_size,n_classes, height, width] -> [batch_size, height, width, n_classes]\n",
    "        alpha1 = alpha1.permute(0,2,3,1)\n",
    "        alhpa2 = alpha2.permute(0,2,3,1)\n",
    "        # [batch_size, height, width, n_classes] -> [batch_size*height*width, n_classes]\n",
    "        alpha1 = alpha1.reshape(-1, self.n_classes) \n",
    "        alpha2 = alpha2.reshape(-1, self.n_classes) \n",
    "        \n",
    "        print (\"alpha 1 \", debug_pixel, alpha1[debug_pixel])\n",
    "        print (\"alpha 2 \", debug_pixel, alpha2[debug_pixel])\n",
    "        \n",
    "        # Calculate the merger of two DS evidences\n",
    "        alpha = dict()\n",
    "        alpha[0], alpha[1] = alpha1, alpha2\n",
    "        b, S, E, u = dict(), dict(), dict(), dict()\n",
    "        for v in range(2):\n",
    "            S[v] = torch.sum(alpha[v], dim=1, keepdim=True)\n",
    "            E[v] = alpha[v] - 1\n",
    "            b[v] = E[v] / (S[v].expand(E[v].shape))\n",
    "            u[v] = self.n_classes / S[v]\n",
    "\n",
    "        # b^0 @ b^(0+1)\n",
    "        bb = torch.bmm(b[0].view(-1, self.n_classes, 1), b[1].view(-1, 1, self.n_classes))\n",
    "        # b^0 * u^1\n",
    "        uv1_expand = u[1].expand(b[0].shape)\n",
    "        bu = torch.mul(b[0], uv1_expand)\n",
    "        # b^1 * u^0\n",
    "        uv_expand = u[0].expand(b[0].shape)\n",
    "        ub = torch.mul(b[1], uv_expand)\n",
    "        # calculate K\n",
    "        bb_sum = torch.sum(bb, dim=(1, 2), out=None)\n",
    "        bb_diag = torch.diagonal(bb, dim1=-2, dim2=-1).sum(-1)\n",
    "        # bb_diag1 = torch.diag(torch.mm(b[v], torch.transpose(b[v+1], 0, 1)))\n",
    "        K = bb_sum - bb_diag\n",
    "\n",
    "        # calculate b^a\n",
    "        b_a = (torch.mul(b[0], b[1]) + bu + ub) / ((1 - K).view(-1, 1).expand(b[0].shape))\n",
    "        # calculate u^a\n",
    "        u_a = torch.mul(u[0], u[1]) / ((1 - K).view(-1, 1).expand(u[0].shape))\n",
    "        # test = torch.sum(b_a, dim = 1, keepdim = True) + u_a #Verify programming errors\n",
    "\n",
    "        # calculate new S\n",
    "        S_a = self.n_classes / u_a\n",
    "        # calculate new e_k\n",
    "        e_a = torch.mul(b_a, S_a.expand(b_a.shape))\n",
    "        alpha_a = e_a + 1\n",
    "        \n",
    "        print (alpha_a.shape)\n",
    "        \n",
    "        print (\"alpha_a \", debug_pixel, alpha_a[debug_pixel])\n",
    "        return alpha_a\n",
    "        \n",
    "        \n",
    "        \n",
    "        "
   ]
  },
  {
   "cell_type": "code",
   "execution_count": 36,
   "id": "bcdc5e12",
   "metadata": {
    "hidden": true
   },
   "outputs": [],
   "source": [
    "model = SequenceRoboCupModel(\"FPN\", \"timm-mobilenetv3_small_minimal_100\", in_channels=3, out_classes=6, combine_method='sum',\n",
    "                            K=valid_dataset.K, Kinv=valid_dataset.Kinv, fusion_method=None)\n",
    "model.model = torch.load('uncertain_semantic_mobilenetv3_200epoch.pt')"
   ]
  },
  {
   "cell_type": "code",
   "execution_count": 37,
   "id": "34ec1bad",
   "metadata": {
    "hidden": true
   },
   "outputs": [],
   "source": [
    "batch = next(iter(valid_dataloader))"
   ]
  },
  {
   "cell_type": "code",
   "execution_count": 70,
   "id": "561b9abd",
   "metadata": {
    "hidden": true
   },
   "outputs": [],
   "source": [
    "logits_image0 = model(batch['image0'])\n",
    "logits_image1 = model(batch['image1'])\n",
    "logits_image0 = torch.nn.functional.relu(logits_image0)\n",
    "logits_image1 = torch.nn.functional.relu(logits_image1)\n"
   ]
  },
  {
   "cell_type": "code",
   "execution_count": 71,
   "id": "f9987c9d",
   "metadata": {
    "hidden": true
   },
   "outputs": [
    {
     "data": {
      "text/plain": [
       "torch.Size([2, 6, 512, 512])"
      ]
     },
     "execution_count": 71,
     "metadata": {},
     "output_type": "execute_result"
    }
   ],
   "source": [
    "logits_image0.shape"
   ]
  },
  {
   "cell_type": "code",
   "execution_count": 73,
   "id": "a23790b1",
   "metadata": {
    "hidden": true
   },
   "outputs": [
    {
     "name": "stdout",
     "output_type": "stream",
     "text": [
      "cuda\n"
     ]
    }
   ],
   "source": [
    "bs, channel, height, width = batch['image0'].shape\n",
    "epipolar_propagation = EpipolarPropagation(valid_dataset.K, valid_dataset.Kinv, height, width )"
   ]
  },
  {
   "cell_type": "code",
   "execution_count": 74,
   "id": "b7879665",
   "metadata": {
    "hidden": true
   },
   "outputs": [
    {
     "data": {
      "text/plain": [
       "torch.Size([2, 6, 512, 512])"
      ]
     },
     "execution_count": 74,
     "metadata": {},
     "output_type": "execute_result"
    }
   ],
   "source": [
    "projected_image = epipolar_propagation(logits_image0, \n",
    "                                         batch['depth0'], \n",
    "                                         batch['translation_old_to_new_camera_frame'],\n",
    "                                         batch['rotation_old_to_new_camera_frame'])\n",
    "projected_image.shape"
   ]
  },
  {
   "cell_type": "code",
   "execution_count": 75,
   "id": "875ff7e6",
   "metadata": {
    "hidden": true
   },
   "outputs": [
    {
     "name": "stdout",
     "output_type": "stream",
     "text": [
      "tensor(2.9929, grad_fn=<MeanBackward0>) tensor(2.8318, grad_fn=<MeanBackward0>) tensor(2.7751, device='cuda:0', grad_fn=<MeanBackward0>)\n"
     ]
    }
   ],
   "source": [
    "print (torch.mean(logits_image0), torch.mean(logits_image1),  torch.mean(projected_image))"
   ]
  },
  {
   "cell_type": "code",
   "execution_count": 104,
   "id": "c1fa224d",
   "metadata": {
    "hidden": true
   },
   "outputs": [],
   "source": [
    "dempster_schafer_combine = DempsterSchaferCombine(n_classes=6)"
   ]
  },
  {
   "cell_type": "code",
   "execution_count": 78,
   "id": "40779cd9",
   "metadata": {
    "hidden": true
   },
   "outputs": [
    {
     "name": "stdout",
     "output_type": "stream",
     "text": [
      "alpha 1  0 tensor([31.8273,  1.0000,  1.0000,  1.0000,  1.0000,  1.0000], device='cuda:0',\n",
      "       grad_fn=<SelectBackward0>)\n",
      "alpha 2  0 tensor([12.1633, 13.3743, 14.5853, 15.7963, 17.0073, 17.6170], device='cuda:0',\n",
      "       grad_fn=<SelectBackward0>)\n",
      "torch.Size([524288, 6])\n",
      "alpha_a  0 tensor([100.3463,  13.3743,  14.5853,  15.7963,  17.0073,  17.6170],\n",
      "       device='cuda:0', grad_fn=<SelectBackward0>)\n"
     ]
    }
   ],
   "source": [
    "device = torch.device('cuda' if torch.cuda.is_available() else 'cpu')\n",
    "\n",
    "combined = dempster_schafer_combine(projected_image+1, logits_image1.to(device)+1)"
   ]
  },
  {
   "cell_type": "code",
   "execution_count": 79,
   "id": "99da44b0",
   "metadata": {
    "hidden": true
   },
   "outputs": [
    {
     "data": {
      "text/plain": [
       "torch.Size([524288, 1])"
      ]
     },
     "execution_count": 79,
     "metadata": {},
     "output_type": "execute_result"
    }
   ],
   "source": [
    "combined = combined.argmax(dim=1, keepdim=True)\n",
    "combined.shape         "
   ]
  },
  {
   "cell_type": "code",
   "execution_count": 80,
   "id": "86f34f92",
   "metadata": {
    "hidden": true
   },
   "outputs": [
    {
     "data": {
      "text/plain": [
       "torch.Size([2, 1, 512, 512])"
      ]
     },
     "execution_count": 80,
     "metadata": {},
     "output_type": "execute_result"
    }
   ],
   "source": [
    "combined = combined.reshape(bs, 1, height, width)\n",
    "combined.shape             "
   ]
  },
  {
   "cell_type": "code",
   "execution_count": 81,
   "id": "180f183a",
   "metadata": {
    "hidden": true
   },
   "outputs": [
    {
     "name": "stdout",
     "output_type": "stream",
     "text": [
      "torch.Size([2, 1, 512, 512])\n"
     ]
    }
   ],
   "source": [
    "logits_image1 = logits_image1.argmax(dim=1, keepdim=True)\n",
    "print (logits_image1.shape)"
   ]
  },
  {
   "cell_type": "code",
   "execution_count": 82,
   "id": "f38a5030",
   "metadata": {
    "hidden": true
   },
   "outputs": [],
   "source": [
    "projected_image = projected_image.argmax(dim=1, keepdim=True)"
   ]
  },
  {
   "cell_type": "code",
   "execution_count": null,
   "id": "fb9a2b43",
   "metadata": {
    "hidden": true
   },
   "outputs": [],
   "source": []
  },
  {
   "cell_type": "code",
   "execution_count": 83,
   "id": "15c07c03",
   "metadata": {
    "hidden": true
   },
   "outputs": [],
   "source": [
    "import matplotlib.pyplot as plt"
   ]
  },
  {
   "cell_type": "code",
   "execution_count": null,
   "id": "8c3b3039",
   "metadata": {
    "hidden": true
   },
   "outputs": [],
   "source": []
  },
  {
   "cell_type": "code",
   "execution_count": 93,
   "id": "c3b48ec8",
   "metadata": {
    "hidden": true
   },
   "outputs": [
    {
     "data": {
      "image/png": "[encoded data removed]",
      "text/plain": [
       "<Figure size 720x360 with 4 Axes>"
      ]
     },
     "metadata": {
      "needs_background": "light"
     },
     "output_type": "display_data"
    },
    {
     "data": {
      "image/png": "[encoded data removed]",
      "text/plain": [
       "<Figure size 720x360 with 4 Axes>"
      ]
     },
     "metadata": {
      "needs_background": "light"
     },
     "output_type": "display_data"
    }
   ],
   "source": [
    "def display(display_list):\n",
    "    plt.figure(figsize=(15, 15))\n",
    "\n",
    "    title = ['Input Image', 'True Mask', 'Predicted Mask']\n",
    "\n",
    "    for i in range(len(display_list)):\n",
    "        plt.subplot(1, len(display_list), i+1)\n",
    "        plt.title(title[i])\n",
    "        plt.imshow(tf.keras.utils.array_to_img(display_list[i]))\n",
    "        plt.axis('off')\n",
    "    plt.show()\n",
    "    \n",
    "for prev_image, proj_image, curr_image, pr_image in zip(batch[\"mask1\"], projected_image, logits_image1, combined):\n",
    "    plt.figure(figsize=(10, 5))\n",
    "    \n",
    "    plt.subplot(1, 4, 1)\n",
    "    data = prev_image.numpy().squeeze()\n",
    "    data = np.ma.masked_where((0.0 == data), data)\n",
    "    plt.imshow(data, vmin=0, vmax=7)  # convert CHW -> HWC\n",
    "    plt.title(\"Ground truth\")\n",
    "    #plt.axis(\"off\")\n",
    "\n",
    "    plt.subplot(1, 4, 2)\n",
    "    data = proj_image.cpu().detach().numpy().squeeze()\n",
    "    data = np.ma.masked_where((0.0 == data), data)\n",
    "    plt.imshow(data, vmin=0, vmax=7) # just squeeze classes dim, because we have only one class\n",
    "    plt.title(\"Previous Projected\")\n",
    "    #plt.axis(\"off\")\n",
    "\n",
    "    plt.subplot(1, 4, 3)\n",
    "    data = curr_image.cpu().detach().numpy().squeeze()\n",
    "    data = np.ma.masked_where((0.0 == data), data)\n",
    "    plt.imshow(data, vmin=0, vmax=7)# just squeeze classes dim, because we have only one class\n",
    "    plt.title(\"curr prediction\")\n",
    "    \n",
    "    plt.subplot(1, 4, 4)\n",
    "    data = pr_image.cpu().detach().numpy().squeeze()\n",
    "    data = np.ma.masked_where((0.0 == data), data)\n",
    "    plt.imshow(data, vmin=0, vmax=7)# just squeeze classes dim, because we have only one class\n",
    "    plt.title(\"Combined\")\n",
    "    #plt.axis(\"off\")\n",
    "    \n",
    "  \n",
    "    plt.show()\n",
    "    "
   ]
  },
  {
   "cell_type": "markdown",
   "id": "9df612e4",
   "metadata": {},
   "source": [
    "## Comparing Dampster Schafer vs  constructuve vs bayesian "
   ]
  },
  {
   "cell_type": "code",
   "execution_count": 9,
   "id": "a0f48ca2",
   "metadata": {},
   "outputs": [],
   "source": [
    "model = SequenceRoboCupModel(\"FPN\", \"timm-mobilenetv3_small_minimal_100\", in_channels=3, out_classes=6, combine_method='sum',\n",
    "                            K=valid_dataset.K, Kinv=valid_dataset.Kinv, fusion_method=None)\n",
    "model.model = torch.load('uncertain_semantic_mobilenetv3_200epoch.pt')"
   ]
  },
  {
   "cell_type": "code",
   "execution_count": 142,
   "id": "ea5dc10b",
   "metadata": {},
   "outputs": [
    {
     "name": "stdout",
     "output_type": "stream",
     "text": [
      "cuda\n",
      "torch.Size([2, 6, 512, 512])\n"
     ]
    }
   ],
   "source": [
    "batch = next(iter(valid_dataloader))\n",
    "\n",
    "logits_image0 = model(batch['image0'])\n",
    "logits_image1 = model(batch['image1'])\n",
    "logits_image0 = torch.nn.functional.relu(logits_image0) +  1\n",
    "logits_image1 = torch.nn.functional.relu(logits_image1) +  1\n",
    "\n",
    "\n",
    "bs, channel, height, width = batch['image0'].shape\n",
    "epipolar_propagation = EpipolarPropagation(valid_dataset.K, valid_dataset.Kinv, height, width, fill_empty_with_ones=True)\n",
    "projected_image = epipolar_propagation(logits_image0, \n",
    "                                         batch['depth0'], \n",
    "                                         batch['translation_old_to_new_camera_frame'],\n",
    "                                         batch['rotation_old_to_new_camera_frame'])\n",
    "print (projected_image.shape)\n"
   ]
  },
  {
   "cell_type": "code",
   "execution_count": 130,
   "id": "910cb1f0",
   "metadata": {},
   "outputs": [
    {
     "name": "stdout",
     "output_type": "stream",
     "text": [
      "tensor(False) tensor(False) tensor(False, device='cuda:0')\n"
     ]
    }
   ],
   "source": [
    "print (logits_image0.isnan().any(), logits_image1.isnan().any(), projected_image.isnan().any())\n"
   ]
  },
  {
   "cell_type": "code",
   "execution_count": 131,
   "id": "a2a2f1d8",
   "metadata": {},
   "outputs": [
    {
     "name": "stdout",
     "output_type": "stream",
     "text": [
      "tensor(1., grad_fn=<MinBackward1>) tensor(1., grad_fn=<MinBackward1>) tensor(1., device='cuda:0', grad_fn=<MinBackward1>)\n"
     ]
    }
   ],
   "source": [
    "print (logits_image0.min(), logits_image1.min(), projected_image.min())"
   ]
  },
  {
   "cell_type": "markdown",
   "id": "df228777",
   "metadata": {},
   "source": [
    "### Bayesian"
   ]
  },
  {
   "cell_type": "code",
   "execution_count": 132,
   "id": "c6c288d5",
   "metadata": {},
   "outputs": [
    {
     "name": "stdout",
     "output_type": "stream",
     "text": [
      "(6, 6)\n"
     ]
    }
   ],
   "source": [
    "with open('robocup_mobilenet_cm.npy', 'rb') as f:\n",
    "    cm = np.load(f)\n",
    "print (cm.shape)\n",
    "ef_fusion = EffectiveProbability(confusion_matrix=cm)\n"
   ]
  },
  {
   "cell_type": "code",
   "execution_count": 133,
   "id": "97785cf7",
   "metadata": {},
   "outputs": [
    {
     "data": {
      "text/plain": [
       "torch.Size([524288, 6])"
      ]
     },
     "execution_count": 133,
     "metadata": {},
     "output_type": "execute_result"
    }
   ],
   "source": [
    "combined = ef_fusion(projected_image, logits_image1)\n",
    "combined.shape"
   ]
  },
  {
   "cell_type": "code",
   "execution_count": 135,
   "id": "f65e5d6d",
   "metadata": {},
   "outputs": [
    {
     "data": {
      "text/plain": [
       "torch.Size([2, 1, 512, 512])"
      ]
     },
     "execution_count": 135,
     "metadata": {},
     "output_type": "execute_result"
    }
   ],
   "source": [
    "projected_image = projected_image.argmax(dim=1, keepdim=True)\n",
    "logits_image1 = logits_image1.argmax(dim=1, keepdim=True)\n",
    "combined = combined.argmax(dim=1, keepdim=True)\n",
    "combined = combined.reshape(bs, 1, height, width)\n",
    "combined.shape"
   ]
  },
  {
   "cell_type": "code",
   "execution_count": 126,
   "id": "6241877f",
   "metadata": {},
   "outputs": [],
   "source": [
    "import matplotlib.pyplot as plt"
   ]
  },
  {
   "cell_type": "code",
   "execution_count": 136,
   "id": "fd006b31",
   "metadata": {},
   "outputs": [
    {
     "data": {
      "image/png": "[encoded data removed]",
      "text/plain": [
       "<Figure size 720x360 with 4 Axes>"
      ]
     },
     "metadata": {
      "needs_background": "light"
     },
     "output_type": "display_data"
    },
    {
     "data": {
      "image/png": "[encoded data removed]",
      "text/plain": [
       "<Figure size 720x360 with 4 Axes>"
      ]
     },
     "metadata": {
      "needs_background": "light"
     },
     "output_type": "display_data"
    }
   ],
   "source": [
    "def display(display_list):\n",
    "    plt.figure(figsize=(15, 15))\n",
    "\n",
    "    title = ['Input Image', 'True Mask', 'Predicted Mask']\n",
    "\n",
    "    for i in range(len(display_list)):\n",
    "        plt.subplot(1, len(display_list), i+1)\n",
    "        plt.title(title[i])\n",
    "        plt.imshow(tf.keras.utils.array_to_img(display_list[i]))\n",
    "        plt.axis('off')\n",
    "    plt.show()\n",
    "    \n",
    "for prev_image, proj_image, curr_image, pr_image in zip(batch[\"mask1\"], projected_image, logits_image1, combined):\n",
    "    plt.figure(figsize=(10, 5))\n",
    "    \n",
    "    plt.subplot(1, 4, 1)\n",
    "    data = prev_image.numpy().squeeze()\n",
    "    data = np.ma.masked_where((0.0 == data), data)\n",
    "    plt.imshow(data, vmin=0, vmax=7)  # convert CHW -> HWC\n",
    "    plt.title(\"Ground truth\")\n",
    "    plt.axis(\"off\")\n",
    "\n",
    "    plt.subplot(1, 4, 2)\n",
    "    data = proj_image.cpu().detach().numpy().squeeze()\n",
    "    data = np.ma.masked_where((0.0 == data), data)\n",
    "    plt.imshow(data, vmin=0, vmax=7) # just squeeze classes dim, because we have only one class\n",
    "    plt.title(\"Previous Projected\")\n",
    "    plt.axis(\"off\")\n",
    "\n",
    "    plt.subplot(1, 4, 3)\n",
    "    data = curr_image.cpu().detach().numpy().squeeze()\n",
    "    data = np.ma.masked_where((0.0 == data), data)\n",
    "    plt.imshow(data, vmin=0, vmax=7)# just squeeze classes dim, because we have only one class\n",
    "    plt.title(\"curr prediction\")\n",
    "    \n",
    "    plt.subplot(1, 4, 4)\n",
    "    data = pr_image.cpu().detach().numpy().squeeze()\n",
    "    data = np.ma.masked_where((0.0 == data), data)\n",
    "    plt.imshow(data, vmin=0, vmax=7)# just squeeze classes dim, because we have only one class\n",
    "    plt.title(\"Combined\")\n",
    "    plt.axis(\"off\")\n",
    "    \n",
    "  \n",
    "    plt.show()\n",
    "    "
   ]
  },
  {
   "cell_type": "markdown",
   "id": "9fce47b2",
   "metadata": {},
   "source": [
    "### Dirchlet damspter "
   ]
  },
  {
   "cell_type": "code",
   "execution_count": 140,
   "id": "230536ca",
   "metadata": {},
   "outputs": [
    {
     "name": "stdout",
     "output_type": "stream",
     "text": [
      "(6, 6)\n"
     ]
    },
    {
     "data": {
      "text/plain": [
       "torch.Size([2, 1, 512, 512])"
      ]
     },
     "execution_count": 140,
     "metadata": {},
     "output_type": "execute_result"
    }
   ],
   "source": [
    "with open('robocup_mobilenet_cm.npy', 'rb') as f:\n",
    "    cm = np.load(f)\n",
    "print (cm.shape)\n",
    "ef_fusion = EffectiveProbability(confusion_matrix=cm, fusion_type='dampster')\n",
    "\n",
    "combined = ef_fusion(projected_image, logits_image1)\n",
    "combined.shape\n",
    "\n",
    "projected_image = projected_image.argmax(dim=1, keepdim=True)\n",
    "logits_image1 = logits_image1.argmax(dim=1, keepdim=True)\n",
    "combined = combined.argmax(dim=1, keepdim=True)\n",
    "combined = combined.reshape(bs, 1, height, width)\n",
    "combined.shape"
   ]
  },
  {
   "cell_type": "code",
   "execution_count": 141,
   "id": "558a96f0",
   "metadata": {},
   "outputs": [
    {
     "data": {
      "image/png": "[encoded data removed]",
      "text/plain": [
       "<Figure size 720x360 with 4 Axes>"
      ]
     },
     "metadata": {
      "needs_background": "light"
     },
     "output_type": "display_data"
    },
    {
     "data": {
      "image/png": "[encoded data removed]",
      "text/plain": [
       "<Figure size 720x360 with 4 Axes>"
      ]
     },
     "metadata": {
      "needs_background": "light"
     },
     "output_type": "display_data"
    }
   ],
   "source": [
    "for prev_image, proj_image, curr_image, pr_image in zip(batch[\"mask1\"], projected_image, logits_image1, combined):\n",
    "    plt.figure(figsize=(10, 5))\n",
    "    \n",
    "    plt.subplot(1, 4, 1)\n",
    "    data = prev_image.numpy().squeeze()\n",
    "    data = np.ma.masked_where((0.0 == data), data)\n",
    "    plt.imshow(data, vmin=0, vmax=7)  # convert CHW -> HWC\n",
    "    plt.title(\"Ground truth\")\n",
    "    plt.axis(\"off\")\n",
    "\n",
    "    plt.subplot(1, 4, 2)\n",
    "    data = proj_image.cpu().detach().numpy().squeeze()\n",
    "    data = np.ma.masked_where((0.0 == data), data)\n",
    "    plt.imshow(data, vmin=0, vmax=7) # just squeeze classes dim, because we have only one class\n",
    "    plt.title(\"Previous Projected\")\n",
    "    plt.axis(\"off\")\n",
    "\n",
    "    plt.subplot(1, 4, 3)\n",
    "    data = curr_image.cpu().detach().numpy().squeeze()\n",
    "    data = np.ma.masked_where((0.0 == data), data)\n",
    "    plt.imshow(data, vmin=0, vmax=7)# just squeeze classes dim, because we have only one class\n",
    "    plt.title(\"curr prediction\")\n",
    "    \n",
    "    plt.subplot(1, 4, 4)\n",
    "    data = pr_image.cpu().detach().numpy().squeeze()\n",
    "    data = np.ma.masked_where((0.0 == data), data)\n",
    "    plt.imshow(data, vmin=0, vmax=7)# just squeeze classes dim, because we have only one class\n",
    "    plt.title(\"Combined\")\n",
    "    plt.axis(\"off\")\n",
    "    \n",
    "  \n",
    "    plt.show()"
   ]
  },
  {
   "cell_type": "markdown",
   "id": "6d80d8a6",
   "metadata": {},
   "source": [
    "### Addition"
   ]
  },
  {
   "cell_type": "code",
   "execution_count": 144,
   "id": "3f78c1f5",
   "metadata": {},
   "outputs": [
    {
     "data": {
      "text/plain": [
       "torch.Size([2, 1, 512, 512])"
      ]
     },
     "execution_count": 144,
     "metadata": {},
     "output_type": "execute_result"
    }
   ],
   "source": [
    "\n",
    "combined = projected_image.to(device) + logits_image1.to(device) \n",
    "combined.shape\n",
    "\n",
    "projected_image = projected_image.argmax(dim=1, keepdim=True)\n",
    "logits_image1 = logits_image1.argmax(dim=1, keepdim=True)\n",
    "combined = combined.argmax(dim=1, keepdim=True)\n",
    "combined = combined.reshape(bs, 1, height, width)\n",
    "combined.shape"
   ]
  },
  {
   "cell_type": "code",
   "execution_count": 145,
   "id": "cc339a79",
   "metadata": {},
   "outputs": [
    {
     "data": {
      "image/png": "[encoded data removed]",
      "text/plain": [
       "<Figure size 720x360 with 4 Axes>"
      ]
     },
     "metadata": {
      "needs_background": "light"
     },
     "output_type": "display_data"
    },
    {
     "data": {
      "image/png": "[encoded data removed]",
      "text/plain": [
       "<Figure size 720x360 with 4 Axes>"
      ]
     },
     "metadata": {
      "needs_background": "light"
     },
     "output_type": "display_data"
    }
   ],
   "source": [
    "for prev_image, proj_image, curr_image, pr_image in zip(batch[\"mask1\"], projected_image, logits_image1, combined):\n",
    "    plt.figure(figsize=(10, 5))\n",
    "    \n",
    "    plt.subplot(1, 4, 1)\n",
    "    data = prev_image.numpy().squeeze()\n",
    "    data = np.ma.masked_where((0.0 == data), data)\n",
    "    plt.imshow(data, vmin=0, vmax=7)  # convert CHW -> HWC\n",
    "    plt.title(\"Ground truth\")\n",
    "    plt.axis(\"off\")\n",
    "\n",
    "    plt.subplot(1, 4, 2)\n",
    "    data = proj_image.cpu().detach().numpy().squeeze()\n",
    "    data = np.ma.masked_where((0.0 == data), data)\n",
    "    plt.imshow(data, vmin=0, vmax=7) # just squeeze classes dim, because we have only one class\n",
    "    plt.title(\"Previous Projected\")\n",
    "    plt.axis(\"off\")\n",
    "\n",
    "    plt.subplot(1, 4, 3)\n",
    "    data = curr_image.cpu().detach().numpy().squeeze()\n",
    "    data = np.ma.masked_where((0.0 == data), data)\n",
    "    plt.imshow(data, vmin=0, vmax=7)# just squeeze classes dim, because we have only one class\n",
    "    plt.title(\"curr prediction\")\n",
    "    \n",
    "    plt.subplot(1, 4, 4)\n",
    "    data = pr_image.cpu().detach().numpy().squeeze()\n",
    "    data = np.ma.masked_where((0.0 == data), data)\n",
    "    plt.imshow(data, vmin=0, vmax=7)# just squeeze classes dim, because we have only one class\n",
    "    plt.title(\"Combined\")\n",
    "    plt.axis(\"off\")\n",
    "    \n",
    "  \n",
    "    plt.show()"
   ]
  },
  {
   "cell_type": "code",
   "execution_count": null,
   "id": "daa0a25e",
   "metadata": {},
   "outputs": [],
   "source": []
  }
 ],
 "metadata": {
  "kernelspec": {
   "display_name": "Python 3 (ipykernel)",
   "language": "python",
   "name": "python3"
  },
  "language_info": {
   "codemirror_mode": {
    "name": "ipython",
    "version": 3
   },
   "file_extension": ".py",
   "mimetype": "text/x-python",
   "name": "python",
   "nbconvert_exporter": "python",
   "pygments_lexer": "ipython3",
   "version": "3.9.7"
  }
 },
 "nbformat": 4,
 "nbformat_minor": 5
}
